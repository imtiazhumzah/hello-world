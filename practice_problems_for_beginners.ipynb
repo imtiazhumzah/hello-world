{
  "nbformat": 4,
  "nbformat_minor": 0,
  "metadata": {
    "colab": {
      "provenance": []
    },
    "kernelspec": {
      "name": "python3",
      "display_name": "Python 3"
    },
    "language_info": {
      "name": "python"
    }
  },
  "cells": [
    {
      "cell_type": "code",
      "source": [
        "# repeatedly add all its digits until the result has only one digit\n",
        "def addigits(num):\n",
        "  return 1+(num-1)%9 if num>0 else 0\n",
        "addigits(66)"
      ],
      "metadata": {
        "colab": {
          "base_uri": "https://localhost:8080/"
        },
        "id": "IMVftGaZHYio",
        "outputId": "c0165200-f788-4be6-ac58-67ab1374443f"
      },
      "execution_count": null,
      "outputs": [
        {
          "output_type": "execute_result",
          "data": {
            "text/plain": [
              "3"
            ]
          },
          "metadata": {},
          "execution_count": 36
        }
      ]
    },
    {
      "cell_type": "code",
      "source": [],
      "metadata": {
        "id": "N45OTxTiTg0I"
      },
      "execution_count": null,
      "outputs": []
    },
    {
      "cell_type": "code",
      "source": [
        "n = 345\n",
        "prod = 1\n",
        "for i in str(n):\n",
        "  prod *= int(i)\n",
        "print(prod)"
      ],
      "metadata": {
        "colab": {
          "base_uri": "https://localhost:8080/"
        },
        "id": "HasRNIXsNGqZ",
        "outputId": "88674a6e-4052-4717-a0b1-5387df5dab79"
      },
      "execution_count": null,
      "outputs": [
        {
          "output_type": "stream",
          "name": "stdout",
          "text": [
            "60\n"
          ]
        }
      ]
    },
    {
      "cell_type": "code",
      "source": [
        "m = 345\n",
        "sum = 0\n",
        "for i in str(n):\n",
        "  sum += int(i)\n",
        "print(sum)"
      ],
      "metadata": {
        "colab": {
          "base_uri": "https://localhost:8080/"
        },
        "id": "RkYdv7x2Trkb",
        "outputId": "35d182d9-b0c3-4245-e89d-9d4249765908"
      },
      "execution_count": null,
      "outputs": [
        {
          "output_type": "stream",
          "name": "stdout",
          "text": [
            "12\n"
          ]
        }
      ]
    },
    {
      "cell_type": "code",
      "source": [
        "n = 12345678959872652193841671098532\n",
        "sum = 0\n",
        "for i in str(n):\n",
        "  sum += int(i)\n",
        "print(sum )\n"
      ],
      "metadata": {
        "colab": {
          "base_uri": "https://localhost:8080/"
        },
        "id": "22sUeiaJMbe6",
        "outputId": "a8aee21d-a7a9-4c73-9601-f18d19750d7f"
      },
      "execution_count": null,
      "outputs": [
        {
          "output_type": "stream",
          "name": "stdout",
          "text": [
            "156\n"
          ]
        }
      ]
    },
    {
      "cell_type": "code",
      "source": [
        "# running sum of 1D array\n",
        "def runningSum(nums):\n",
        "  sumt=[]\n",
        "  total=0\n",
        "  for i in nums:\n",
        "\n",
        "    total += i\n",
        "    sumt.append(total)\n",
        "  return sumt"
      ],
      "metadata": {
        "id": "zQpRUBlxfh9V"
      },
      "execution_count": null,
      "outputs": []
    },
    {
      "cell_type": "code",
      "source": [
        "runningSum([1,2,3,4])"
      ],
      "metadata": {
        "colab": {
          "base_uri": "https://localhost:8080/"
        },
        "id": "rZfTocu6f64z",
        "outputId": "9fb7106c-f84a-49bf-8231-6e77946ffeb1"
      },
      "execution_count": null,
      "outputs": [
        {
          "output_type": "execute_result",
          "data": {
            "text/plain": [
              "[1, 3, 6, 10]"
            ]
          },
          "metadata": {},
          "execution_count": 43
        }
      ]
    },
    {
      "cell_type": "code",
      "source": [
        "def fizzBuzz(n):\n",
        "  list_of_strings=[]\n",
        "  for i in range(1,n+1):\n",
        "    if i % 3 ==0 and i % 5 == 0:\n",
        "      list_of_strings.append('FizzBuzz')\n",
        "    elif i %3 ==0:\n",
        "      list_of_strings.append('Fizz')\n",
        "    elif i % 5 == 0:\n",
        "      list_of_strings.append('Buzz')\n",
        "    else:\n",
        "      list_of_strings.append(str(i))\n",
        "  return list_of_strings"
      ],
      "metadata": {
        "id": "k2vvujlSiKRB"
      },
      "execution_count": null,
      "outputs": []
    },
    {
      "cell_type": "code",
      "source": [
        "fizzBuzz(10)"
      ],
      "metadata": {
        "colab": {
          "base_uri": "https://localhost:8080/"
        },
        "id": "FWhCcgOriqMQ",
        "outputId": "6f5fb59a-2d6b-4d0e-f6ce-fd323d4d0344"
      },
      "execution_count": null,
      "outputs": [
        {
          "output_type": "execute_result",
          "data": {
            "text/plain": [
              "['1', '2', 'Fizz', '4', 'Buzz', 'Fizz', '7', '8', 'Fizz', 'Buzz']"
            ]
          },
          "metadata": {},
          "execution_count": 47
        }
      ]
    },
    {
      "cell_type": "code",
      "source": [
        "# if target is 9 and we have 2,7,8,5 in the array, its checking the indeces and values to reach the target\n",
        "def twoSum(nums, target):\n",
        "        number_map={}\n",
        "        for i, n in enumerate(nums):\n",
        "            see_num = target-n\n",
        "            if see_num in number_map:\n",
        "                return [number_map[see_num],i]\n",
        "            number_map[n] = i\n",
        "        return []"
      ],
      "metadata": {
        "id": "V6SI-5r4mRln"
      },
      "execution_count": null,
      "outputs": []
    },
    {
      "cell_type": "code",
      "source": [
        "twoSum([2,3,4,8,6], 10)"
      ],
      "metadata": {
        "colab": {
          "base_uri": "https://localhost:8080/"
        },
        "id": "adcWSZuWmceZ",
        "outputId": "26694a53-4d7c-4c7f-f8e8-e0abed1539f9"
      },
      "execution_count": null,
      "outputs": [
        {
          "output_type": "execute_result",
          "data": {
            "text/plain": [
              "[0, 3]"
            ]
          },
          "metadata": {},
          "execution_count": 50
        }
      ]
    },
    {
      "cell_type": "code",
      "source": [
        "# make two separate arrays from an array and add its xs and ys in a third array\n",
        "num_array = [1,2,3,5,6,7,4,8]\n",
        "n = 4\n",
        "arr1 = num_array[0:n]\n",
        "print(arr1)\n",
        "arr2 = num_array[n:]\n",
        "print(arr2)\n",
        "arr3 = []\n",
        "\n",
        "print('Now after putting xs and ys of both arrays in arr3, arr3 becomes: ')\n",
        "for i in range(n):\n",
        "  arr3.append(arr1[i])\n",
        "  arr3.append(arr2[i])\n",
        "print(arr3)\n"
      ],
      "metadata": {
        "colab": {
          "base_uri": "https://localhost:8080/"
        },
        "id": "4ctHmXjibvue",
        "outputId": "1f0ec78e-1d3e-4893-fbea-aad534ba2abc"
      },
      "execution_count": null,
      "outputs": [
        {
          "output_type": "stream",
          "name": "stdout",
          "text": [
            "[1, 2, 3, 5]\n",
            "[6, 7, 4, 8]\n",
            "Now after putting xs and ys of both arrays in arr3, arr3 becomes: \n",
            "[1, 6, 2, 7, 3, 4, 5, 8]\n"
          ]
        }
      ]
    },
    {
      "cell_type": "code",
      "source": [
        "20//2"
      ],
      "metadata": {
        "id": "OHgj5iWqC5FE",
        "outputId": "3170ce0a-511c-44a4-aa57-e25070a9c110",
        "colab": {
          "base_uri": "https://localhost:8080/"
        }
      },
      "execution_count": null,
      "outputs": [
        {
          "output_type": "execute_result",
          "data": {
            "text/plain": [
              "10"
            ]
          },
          "metadata": {},
          "execution_count": 1
        }
      ]
    },
    {
      "cell_type": "code",
      "source": [
        "#reverse an integer\n",
        "num = '12123'\n",
        "reverse = num [::-1]\n",
        "print(reverse)"
      ],
      "metadata": {
        "id": "8elAReHrC6hS",
        "colab": {
          "base_uri": "https://localhost:8080/"
        },
        "outputId": "a154c562-8ff4-4ece-9760-41aebe958c85"
      },
      "execution_count": null,
      "outputs": [
        {
          "output_type": "stream",
          "name": "stdout",
          "text": [
            "32121\n"
          ]
        }
      ]
    },
    {
      "cell_type": "code",
      "source": [
        "# reverse a string\n",
        "string = \"imtiaz\"\n",
        "reverse_string = string[::-1]\n",
        "print(reverse_string)"
      ],
      "metadata": {
        "colab": {
          "base_uri": "https://localhost:8080/"
        },
        "id": "gG7oO6MrUla8",
        "outputId": "90166ccd-2220-485e-9415-08810d586014"
      },
      "execution_count": null,
      "outputs": [
        {
          "output_type": "stream",
          "name": "stdout",
          "text": [
            "zaitmi\n"
          ]
        }
      ]
    },
    {
      "cell_type": "code",
      "source": [
        "# checking if a number is Palindrome,\n",
        "x = 122221\n",
        "if x <= 0 or (x != 0 and x % 10 == 0):  # Negative numbers or numbers ending in 0 (except 0 itself) are not palindromes\n",
        "  print(False)\n",
        "half = 0\n",
        "while x > half:\n",
        "    half = half * 10 + x % 10 # Build the reversed half and check if x after decaying, is it equal to the other half (updated in this step)\n",
        "    x = x// 10\n",
        "print(x == half or x == half // 10)"
      ],
      "metadata": {
        "colab": {
          "base_uri": "https://localhost:8080/"
        },
        "id": "_wLTcRLlayQC",
        "outputId": "d5b40718-c0e2-453b-9af7-b8ff04baa830"
      },
      "execution_count": null,
      "outputs": [
        {
          "output_type": "stream",
          "name": "stdout",
          "text": [
            "True\n"
          ]
        }
      ]
    },
    {
      "cell_type": "code",
      "source": [
        "#haystack = ['leetcode']\n",
        "#needle = ['leeto']\n",
        "\n",
        "def strStr(haystack: str, needle: str):\n",
        "\n",
        "    if needle in haystack:\n",
        "      return haystack.index(needle)\n",
        "    else:\n",
        "      return -1\n",
        "\n"
      ],
      "metadata": {
        "id": "OKIcHOTJmoj8"
      },
      "execution_count": null,
      "outputs": []
    },
    {
      "cell_type": "code",
      "source": [
        "strStr('hello','ll')"
      ],
      "metadata": {
        "colab": {
          "base_uri": "https://localhost:8080/"
        },
        "id": "Ryg5NYL6m5YL",
        "outputId": "f7b4fbcb-6934-4818-8cac-f008506acaee"
      },
      "execution_count": null,
      "outputs": [
        {
          "output_type": "execute_result",
          "data": {
            "text/plain": [
              "2"
            ]
          },
          "metadata": {},
          "execution_count": 15
        }
      ]
    },
    {
      "cell_type": "code",
      "source": [
        "# running sum\n",
        "nums = ['1','2','3','4','5']\n",
        "sum_nums = []\n",
        "total = 0\n",
        "for i in nums:\n",
        "  total += int(i)\n",
        "  sum_nums.append(total)\n",
        "print(sum_nums)"
      ],
      "metadata": {
        "colab": {
          "base_uri": "https://localhost:8080/"
        },
        "id": "bkFkQw010xlS",
        "outputId": "594fbce0-3531-423a-df6d-d93356425d0f"
      },
      "execution_count": null,
      "outputs": [
        {
          "output_type": "stream",
          "name": "stdout",
          "text": [
            "[1, 3, 6, 10, 15]\n"
          ]
        }
      ]
    },
    {
      "cell_type": "code",
      "source": [
        "# increments count when subtracting 1 (odd numbers)\n",
        "num = 23\n",
        "count=0\n",
        "while num > 0:\n",
        "  if num % 2 == 0:\n",
        "    num //= 2\n",
        "  else:\n",
        "    num -= 1\n",
        "    count += 1\n",
        "print(count)"
      ],
      "metadata": {
        "colab": {
          "base_uri": "https://localhost:8080/"
        },
        "id": "-sYIrA2U3c4I",
        "outputId": "838302b6-234a-4c07-8f31-d3637c9c06d2"
      },
      "execution_count": null,
      "outputs": [
        {
          "output_type": "stream",
          "name": "stdout",
          "text": [
            "4\n"
          ]
        }
      ]
    },
    {
      "cell_type": "code",
      "source": [
        "# calculate all the steps to bring a number to 0, be it subtracting or dividing ..\n",
        "num = 23\n",
        "steps=0\n",
        "while num > 0:\n",
        "  if num % 2 == 0:\n",
        "    num //= 2\n",
        "  else:\n",
        "    num -= 1\n",
        "  steps += 1\n",
        "print(steps)"
      ],
      "metadata": {
        "colab": {
          "base_uri": "https://localhost:8080/"
        },
        "id": "rI5RcWYa52PR",
        "outputId": "9f5f4e21-856d-4c82-fe9a-e9d6d579fd46"
      },
      "execution_count": null,
      "outputs": [
        {
          "output_type": "stream",
          "name": "stdout",
          "text": [
            "8\n"
          ]
        }
      ]
    },
    {
      "cell_type": "code",
      "source": [
        "#count no of operations until a number is zero\n",
        "countop = 0\n",
        "num1 = 7\n",
        "num2 = 5\n",
        "while num1 != 0 and num2 != 0:\n",
        "    if num1 > num2:\n",
        "      num1 = num1 - num2\n",
        "    else:\n",
        "      num2 = num2 - num1\n",
        "    countop += 1\n",
        "print(countop)"
      ],
      "metadata": {
        "colab": {
          "base_uri": "https://localhost:8080/"
        },
        "id": "fxkI3g9L4Jjp",
        "outputId": "355f096b-c15d-4c1e-dba2-1938e7fb2291"
      },
      "execution_count": null,
      "outputs": [
        {
          "output_type": "stream",
          "name": "stdout",
          "text": [
            "5\n"
          ]
        }
      ]
    },
    {
      "cell_type": "code",
      "source": [
        "accounts = [[2,8,7],[7,1,3],[1,9,5]]"
      ],
      "metadata": {
        "id": "gz3wvzGN1SGP"
      },
      "execution_count": null,
      "outputs": []
    },
    {
      "cell_type": "code",
      "source": [
        "accounts[0]"
      ],
      "metadata": {
        "colab": {
          "base_uri": "https://localhost:8080/"
        },
        "id": "HrZnYVv_GIal",
        "outputId": "4d59b00d-ece3-4781-b2c0-496ce5148896"
      },
      "execution_count": null,
      "outputs": [
        {
          "output_type": "execute_result",
          "data": {
            "text/plain": [
              "[2, 8, 7]"
            ]
          },
          "metadata": {},
          "execution_count": 3
        }
      ]
    },
    {
      "cell_type": "code",
      "source": [
        "accounts = [[1,2,3],[3,2,1]]\n",
        "for i in range(len(accounts)):\n",
        "  accounts[i] = sum(accounts[i])\n",
        "print(max(accounts))\n",
        "\n"
      ],
      "metadata": {
        "colab": {
          "base_uri": "https://localhost:8080/"
        },
        "id": "A1fOq65sGOPY",
        "outputId": "c88d7682-3893-4e07-8247-0876df0be1e8"
      },
      "execution_count": null,
      "outputs": [
        {
          "output_type": "stream",
          "name": "stdout",
          "text": [
            "6\n"
          ]
        }
      ]
    },
    {
      "cell_type": "code",
      "source": [
        "# given two arrays find the maximum of the two arrays\n",
        "accounts = [[1,2,3],[3,2,1]]\n",
        "max_array= 0\n",
        "for account in accounts:\n",
        "  current = 0\n",
        "  for amount in account:\n",
        "    current += amount\n",
        "  if current > max_array:\n",
        "    max_array = current\n",
        "print(max_array)\n",
        "\n"
      ],
      "metadata": {
        "colab": {
          "base_uri": "https://localhost:8080/"
        },
        "id": "70vXougRGbH0",
        "outputId": "320d3dbc-aca9-4985-f1ac-a034b4d48ee2"
      },
      "execution_count": null,
      "outputs": [
        {
          "output_type": "stream",
          "name": "stdout",
          "text": [
            "6\n"
          ]
        }
      ]
    },
    {
      "cell_type": "code",
      "source": [
        "#changing from roman to integers\n",
        "def rom_to_int(s):\n",
        "  dic_roman = {'I':1, 'V':5, 'X':10, 'L':50, 'C':100, 'D':500, 'M':1000}\n",
        "  total = 0\n",
        "  for i in range(len(s)-1):\n",
        "    if dic_roman[s[i]] < dic_roman[s[i+1]]:\n",
        "      total -= dic_roman[s[i]]\n",
        "    else:\n",
        "      total += dic_roman[s[i]]\n",
        "  return total + dic_roman[s[-1]]"
      ],
      "metadata": {
        "id": "Xh3bpze6YK8D"
      },
      "execution_count": null,
      "outputs": []
    },
    {
      "cell_type": "code",
      "source": [
        "rom_to_int('IX')"
      ],
      "metadata": {
        "colab": {
          "base_uri": "https://localhost:8080/"
        },
        "id": "u9MNVsQXa93s",
        "outputId": "71f6241a-d556-4920-c922-31a7f5cb6f30"
      },
      "execution_count": null,
      "outputs": [
        {
          "output_type": "execute_result",
          "data": {
            "text/plain": [
              "9"
            ]
          },
          "metadata": {},
          "execution_count": 15
        }
      ]
    },
    {
      "cell_type": "code",
      "source": [
        "# binary search\n",
        "arr1 = [1,2,3,5,7,9]\n",
        "target = 8\n",
        "start = 0\n",
        "end = len(arr1) - 1\n",
        "inserted_index = len(arr1)\n",
        "while start <= end:\n",
        "  mid = (start + end)//2\n",
        "  if  arr1[mid]  == target:\n",
        "    print('element found at index ', mid)\n",
        "    break\n",
        "  elif target < arr1[mid]:\n",
        "    inserted_index = mid\n",
        "    end = mid - 1\n",
        "  else:\n",
        "    start = mid + 1\n",
        "else:\n",
        "  arr1.insert(inserted_index, target)\n",
        "  print(inserted_index)"
      ],
      "metadata": {
        "colab": {
          "base_uri": "https://localhost:8080/"
        },
        "id": "DVNQFXh5k1EE",
        "outputId": "d13bfa73-d991-49a8-ee39-cfd0f6123a20"
      },
      "execution_count": null,
      "outputs": [
        {
          "output_type": "stream",
          "name": "stdout",
          "text": [
            "5\n"
          ]
        }
      ]
    },
    {
      "cell_type": "code",
      "source": [
        "# searching a target in nums array and if not find, we would suggest proper index of insertion for that target number\n",
        "def searchInsert(nums, target):\n",
        "\n",
        "        start = 0\n",
        "        end = len(nums) - 1\n",
        "        inserted_index = len(nums)\n",
        "        while start <= end:\n",
        "            mid = (start + end)//2\n",
        "            if  nums[mid]  == target:\n",
        "                return mid\n",
        "            elif target < nums[mid]:\n",
        "                inserted_index = mid\n",
        "                end = mid - 1\n",
        "            else:\n",
        "                start = mid + 1\n",
        "        else:\n",
        "            return inserted_index"
      ],
      "metadata": {
        "id": "IDB-Yvg2Fj28"
      },
      "execution_count": null,
      "outputs": []
    },
    {
      "cell_type": "code",
      "source": [
        "searchInsert([1,2,3,5,7,9], 10)"
      ],
      "metadata": {
        "colab": {
          "base_uri": "https://localhost:8080/"
        },
        "id": "2bI2T2h9SSZQ",
        "outputId": "3e829a1c-7f78-4567-ebfb-832c20c3122c"
      },
      "execution_count": null,
      "outputs": [
        {
          "output_type": "execute_result",
          "data": {
            "text/plain": [
              "6"
            ]
          },
          "metadata": {},
          "execution_count": 24
        }
      ]
    },
    {
      "cell_type": "code",
      "source": [
        "#string_array = ['imtiaz', 'imtran', 'imtdad']\n",
        "def longestCommonPrefix(strs):\n",
        "        if len(strs) == 0:\n",
        "            return \"\"\n",
        "        prefix = strs[0]\n",
        "        for i in range(1, len(strs)):\n",
        "            while strs[i].find(prefix) != 0:\n",
        "                prefix = prefix[0 : len(prefix) - 1]\n",
        "                if prefix == \"\":\n",
        "                    return \"\"\n",
        "        return prefix\n",
        "\n",
        "\n",
        "\n",
        "\n"
      ],
      "metadata": {
        "id": "skz_3o7U_T8J"
      },
      "execution_count": null,
      "outputs": []
    },
    {
      "cell_type": "code",
      "source": [
        "longestCommonPrefix(['imtiaz', 'imtran', 'imtdad'])"
      ],
      "metadata": {
        "colab": {
          "base_uri": "https://localhost:8080/",
          "height": 36
        },
        "id": "UkIeRMlEBBql",
        "outputId": "d3e4ebb5-dd3b-48d2-e008-7fb41f359a2c"
      },
      "execution_count": null,
      "outputs": [
        {
          "output_type": "execute_result",
          "data": {
            "text/plain": [
              "'imt'"
            ],
            "application/vnd.google.colaboratory.intrinsic+json": {
              "type": "string"
            }
          },
          "metadata": {},
          "execution_count": 30
        }
      ]
    },
    {
      "cell_type": "code",
      "source": [
        "def longestCommonPrefix(strs):\n",
        "    if not strs:\n",
        "        return \"\"\n",
        "\n",
        "    prefix = strs[0]\n",
        "\n",
        "    for word in strs[1:]:\n",
        "        i = 0\n",
        "        while i < len(prefix) and i < len(word) and prefix[i] == word[i]:\n",
        "            i += 1  # Find the longest matching prefix\n",
        "        prefix = prefix[:i]  # Trim the prefix\n",
        "\n",
        "        if not prefix:\n",
        "            return \"\"\n",
        "\n",
        "    return prefix"
      ],
      "metadata": {
        "id": "GIIgefaxNyC5"
      },
      "execution_count": null,
      "outputs": []
    },
    {
      "cell_type": "code",
      "source": [
        "longestCommonPrefix(['imtiaz', 'imtran', 'i'])"
      ],
      "metadata": {
        "colab": {
          "base_uri": "https://localhost:8080/",
          "height": 36
        },
        "id": "jOthfBh5N0ek",
        "outputId": "0ca2e97b-34bc-4eb4-830f-c81546e3b810"
      },
      "execution_count": null,
      "outputs": [
        {
          "output_type": "execute_result",
          "data": {
            "text/plain": [
              "'i'"
            ],
            "application/vnd.google.colaboratory.intrinsic+json": {
              "type": "string"
            }
          },
          "metadata": {},
          "execution_count": 33
        }
      ]
    },
    {
      "cell_type": "code",
      "source": [
        "# two pointers working example\n",
        "arr1 = [1,2,3,5,7,9]\n",
        "target = 8\n",
        "left = 0\n",
        "right = len(arr1) - 1\n",
        "while left < right:\n",
        "  current_sum = arr1[left] + arr1[right]\n",
        "  if current_sum == target:\n",
        "    print('found at indices', left, right, ' of the array')\n",
        "    break\n",
        "  elif current_sum < target:\n",
        "    left +=1\n",
        "  else:\n",
        "    right -=1\n"
      ],
      "metadata": {
        "colab": {
          "base_uri": "https://localhost:8080/"
        },
        "id": "XsIewzum6eSB",
        "outputId": "dce73805-1475-4ae5-8a6e-e233d78813a5"
      },
      "execution_count": null,
      "outputs": [
        {
          "output_type": "stream",
          "name": "stdout",
          "text": [
            "found at indices 0 4  of the array\n"
          ]
        }
      ]
    },
    {
      "cell_type": "code",
      "source": [
        "# finding lenght of last word by using function\n",
        "string = 'I am from swat  '\n",
        "if string == ' ':\n",
        "  print(0)\n",
        "else:\n",
        "  print(len(string.split()[-1]))\n"
      ],
      "metadata": {
        "id": "lio3lvuU6W1W",
        "colab": {
          "base_uri": "https://localhost:8080/"
        },
        "outputId": "dd7a4bb4-f135-459d-8f23-8d50305babc3"
      },
      "execution_count": null,
      "outputs": [
        {
          "output_type": "stream",
          "name": "stdout",
          "text": [
            "4\n"
          ]
        }
      ]
    },
    {
      "cell_type": "code",
      "source": [
        "# finding length of last word without using function\n",
        "string = 'I am from swat karkanai '\n",
        "length = 0\n",
        "ind = len(string) - 1\n",
        "while ind >= 0 and string[ind] == \" \":\n",
        "  ind -= 1\n",
        "while ind >= 0 and string[ind] != \" \":\n",
        "  length += 1\n",
        "  ind -= 1\n",
        "print(length)\n"
      ],
      "metadata": {
        "colab": {
          "base_uri": "https://localhost:8080/"
        },
        "id": "04UfiubRFtnD",
        "outputId": "b4bf618a-a87e-4501-d01a-73163e4ec64c"
      },
      "execution_count": null,
      "outputs": [
        {
          "output_type": "stream",
          "name": "stdout",
          "text": [
            "8\n"
          ]
        }
      ]
    },
    {
      "cell_type": "code",
      "source": [
        "# instead of returning length, return last word of the string\n",
        "string = 'I am from swat karkanai '\n",
        "word = ' '\n",
        "ind = len(string) - 1\n",
        "while ind >= 0 and string[ind] == \" \":\n",
        "  ind -= 1\n",
        "while ind >= 0 and string[ind] != \" \":\n",
        "  word += string[ind]\n",
        "  ind -= 1\n",
        "print(word[::-1])"
      ],
      "metadata": {
        "colab": {
          "base_uri": "https://localhost:8080/"
        },
        "id": "jCFijyGZ-683",
        "outputId": "fa1b2a2f-b995-4345-bf7b-6ec0b6ed0e3e"
      },
      "execution_count": null,
      "outputs": [
        {
          "output_type": "stream",
          "name": "stdout",
          "text": [
            "karkanai \n"
          ]
        }
      ]
    },
    {
      "cell_type": "code",
      "source": [
        "arr = [4,1,2,1,2]\n",
        "checkarr = []\n",
        "for i in arr:\n",
        "  if i in checkarr:\n",
        "    checkarr.remove(i)\n",
        "  else:\n",
        "    checkarr.append(i)\n",
        "print(checkarr)\n"
      ],
      "metadata": {
        "colab": {
          "base_uri": "https://localhost:8080/"
        },
        "id": "bVYKYF8zPofS",
        "outputId": "a956c85a-a5b6-4b47-cd53-ec7cee7c208e"
      },
      "execution_count": null,
      "outputs": [
        {
          "output_type": "stream",
          "name": "stdout",
          "text": [
            "[4]\n"
          ]
        }
      ]
    },
    {
      "cell_type": "code",
      "source": [
        "arr1 = [4,1,2,1,2]\n",
        "print(sum(set(arr1)) * 2 - sum(arr1))"
      ],
      "metadata": {
        "colab": {
          "base_uri": "https://localhost:8080/"
        },
        "id": "FaWzotg6Tmxo",
        "outputId": "50b86f45-d923-4dc6-f3d0-cbe8d6f3b8bf"
      },
      "execution_count": null,
      "outputs": [
        {
          "output_type": "stream",
          "name": "stdout",
          "text": [
            "4\n"
          ]
        }
      ]
    },
    {
      "cell_type": "code",
      "source": [
        "arr2 = [4,1,2,1,2]\n",
        "result = 0\n",
        "for i in arr2:\n",
        "  result ^= i\n",
        "print(result)\n"
      ],
      "metadata": {
        "colab": {
          "base_uri": "https://localhost:8080/"
        },
        "id": "ie4PBZZxWPN3",
        "outputId": "58b4bf02-0ea1-411d-8a83-40a31d8cb028"
      },
      "execution_count": null,
      "outputs": [
        {
          "output_type": "stream",
          "name": "stdout",
          "text": [
            "4\n"
          ]
        }
      ]
    },
    {
      "cell_type": "code",
      "source": [],
      "metadata": {
        "id": "xHphizO5PybO"
      },
      "execution_count": null,
      "outputs": []
    }
  ]
}