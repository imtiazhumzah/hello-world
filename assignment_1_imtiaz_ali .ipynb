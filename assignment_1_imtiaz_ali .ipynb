{
  "nbformat": 4,
  "nbformat_minor": 0,
  "metadata": {
    "colab": {
      "provenance": []
    },
    "kernelspec": {
      "name": "python3",
      "display_name": "Python 3"
    },
    "language_info": {
      "name": "python"
    }
  },
  "cells": [
    {
      "cell_type": "markdown",
      "source": [
        "Assignment # 1 Python Basics\n"
      ],
      "metadata": {
        "id": "3FJ9HmNKQ-DI"
      }
    },
    {
      "cell_type": "markdown",
      "source": [
        "Task 1: Variables and Data Types"
      ],
      "metadata": {
        "id": "55zpsfTyVM4M"
      }
    },
    {
      "cell_type": "markdown",
      "source": [
        "a- Three variables to store int(age), str(name) and bool(is_student)"
      ],
      "metadata": {
        "id": "R6TZoAKRQvPW"
      }
    },
    {
      "cell_type": "code",
      "source": [
        "age = 25\n",
        "name = \"ian\"\n",
        "is_student = True\n",
        "print(\"age = \",age,\"name = \",name, \"is a student \",is_student)"
      ],
      "metadata": {
        "colab": {
          "base_uri": "https://localhost:8080/"
        },
        "id": "QXaO1xZCQ6Dm",
        "outputId": "70847e3b-80fc-458a-fdf6-ab39d2cd9fb1"
      },
      "execution_count": null,
      "outputs": [
        {
          "output_type": "stream",
          "name": "stdout",
          "text": [
            "age =  25 name =  ian is a student  True\n"
          ]
        }
      ]
    },
    {
      "cell_type": "markdown",
      "source": [
        "b- To add values to the variables defined earlier\n"
      ],
      "metadata": {
        "id": "UOze_Y2lU8Ty"
      }
    },
    {
      "cell_type": "code",
      "source": [
        "age = 25 # value is added to the variable age\n",
        "name = \"ian\" + \" john\" # john is concatenated with ian\n",
        "is_student = is_student != is_student # is_student bool variable is negated\n",
        "print(\"age = \",age,\"name = \",name, \"is a student! \",is_student)"
      ],
      "metadata": {
        "colab": {
          "base_uri": "https://localhost:8080/"
        },
        "id": "XXW2tERjS4kr",
        "outputId": "b6342411-501e-425b-f7f2-193cb9ebc1cd"
      },
      "execution_count": null,
      "outputs": [
        {
          "output_type": "stream",
          "name": "stdout",
          "text": [
            "age =  25 name =  ian john is a student!  False\n"
          ]
        }
      ]
    },
    {
      "cell_type": "markdown",
      "source": [
        "Task 2: Expressions and Operators"
      ],
      "metadata": {
        "id": "xINuEp9KVawJ"
      }
    },
    {
      "cell_type": "markdown",
      "source": [
        "a- To create a rectangle and calculate its area"
      ],
      "metadata": {
        "id": "ZY1KxD0sVlYg"
      }
    },
    {
      "cell_type": "code",
      "source": [
        "width = 5.5\n",
        "height= 3.25\n",
        "area = width * height\n",
        "print(\"Area of the rectangle is \", area)"
      ],
      "metadata": {
        "colab": {
          "base_uri": "https://localhost:8080/"
        },
        "id": "kB4_DI-8VeTw",
        "outputId": "a062d58b-3aaa-4e59-a411-cb2ec6d78f62"
      },
      "execution_count": null,
      "outputs": [
        {
          "output_type": "stream",
          "name": "stdout",
          "text": [
            "Area of the rectangle is  17.875\n"
          ]
        }
      ]
    },
    {
      "cell_type": "markdown",
      "source": [
        "b- To get input from the user and convert temperature scale Celsius to fahrenheit using formula"
      ],
      "metadata": {
        "id": "M130EiOlWOdt"
      }
    },
    {
      "cell_type": "code",
      "source": [
        "celsius_scale = int(input(\"please enter a temperature value \")) # to get input from user for temperature in celsius\n",
        "Fahrenheit_scale = (celsius_scale * 9/5) + 32 # conversion of the scale to fahrenheit\n",
        "print(\"The required Fahrenheit scale is \", Fahrenheit_scale)"
      ],
      "metadata": {
        "colab": {
          "base_uri": "https://localhost:8080/"
        },
        "id": "7fJ8lOj5WoTS",
        "outputId": "4d24d5cd-98bc-44c4-b97c-6f5d1d027eb8"
      },
      "execution_count": null,
      "outputs": [
        {
          "output_type": "stream",
          "name": "stdout",
          "text": [
            "please enter a temperature value 39\n",
            "The required Fahrenheit scale is  102.2\n"
          ]
        }
      ]
    },
    {
      "cell_type": "markdown",
      "source": [
        "c- To print area of a circle, getting input from user and using formula to calculate the area"
      ],
      "metadata": {
        "id": "IXKsU0OtX_rE"
      }
    },
    {
      "cell_type": "code",
      "source": [
        "radius = int(input(\"Enter radius of a cirlce \"))\n",
        "pi = 3.14159\n",
        "Area_of_circle = pi * radius *2 # formula of area of a circle\n",
        "print(\"Area of the circle is \", Area_of_circle)"
      ],
      "metadata": {
        "colab": {
          "base_uri": "https://localhost:8080/"
        },
        "id": "vElFRPoZYNWz",
        "outputId": "3de376aa-e7c7-4825-cba4-24917ef2ae4d"
      },
      "execution_count": null,
      "outputs": [
        {
          "output_type": "stream",
          "name": "stdout",
          "text": [
            "Enter radius of a cirlce 4\n",
            "Area of the circle is  25.13272\n"
          ]
        }
      ]
    },
    {
      "cell_type": "markdown",
      "source": [
        "Task 3: List Manipulation"
      ],
      "metadata": {
        "id": "fIsrQ2yCZD2Y"
      }
    },
    {
      "cell_type": "markdown",
      "source": [
        "a) Create a list called \"fruits\" containing the following fruits: \"apple\", \"banana\", \"cherry\", \"date\", \"strawberry\", \"fig\", and \"grape\". Print the list."
      ],
      "metadata": {
        "id": "oGb_UeaUZNaj"
      }
    },
    {
      "cell_type": "code",
      "source": [
        "fruits = [\"apple\", \"banana\", \"cherry\", \"date\", \"strawberry\", \"fig\", \"grape\"]\n",
        "print(fruits)"
      ],
      "metadata": {
        "colab": {
          "base_uri": "https://localhost:8080/"
        },
        "id": "ZLtSql_2ZTdM",
        "outputId": "90984f1a-64a2-404c-fc56-142fd2c2becd"
      },
      "execution_count": null,
      "outputs": [
        {
          "output_type": "stream",
          "name": "stdout",
          "text": [
            "['apple', 'banana', 'cherry', 'date', 'strawberry', 'fig', 'grape']\n"
          ]
        }
      ]
    },
    {
      "cell_type": "markdown",
      "source": [
        "1- Remove the first and last elements from the \"fruits\" list. Print the updated list."
      ],
      "metadata": {
        "id": "fOq1ox4zZtoG"
      }
    },
    {
      "cell_type": "code",
      "source": [
        "fruits.remove(\"apple\")\n",
        "fruits.remove(\"grape\")\n",
        "print(fruits)"
      ],
      "metadata": {
        "colab": {
          "base_uri": "https://localhost:8080/"
        },
        "id": "_it5VANUZ1tC",
        "outputId": "ee847f64-41a9-4901-f0d3-83341d93adfe"
      },
      "execution_count": null,
      "outputs": [
        {
          "output_type": "stream",
          "name": "stdout",
          "text": [
            "['banana', 'cherry', 'date', 'strawberry', 'fig']\n"
          ]
        }
      ]
    },
    {
      "cell_type": "markdown",
      "source": [
        "2. Replace the second to fourth items with [\"kiwi\", \"lemon\", \"mango\"] using list slicing."
      ],
      "metadata": {
        "id": "S9YmFb5hbRo0"
      }
    },
    {
      "cell_type": "code",
      "source": [
        "fruits[1:4] = [\"kiwi\", \"lemon\", \"mango\"]\n",
        "print(fruits)"
      ],
      "metadata": {
        "colab": {
          "base_uri": "https://localhost:8080/"
        },
        "id": "cCisEOO_ZLz9",
        "outputId": "6100ba62-f2e5-4d0f-fe75-bf98bcf18dd9"
      },
      "execution_count": null,
      "outputs": [
        {
          "output_type": "stream",
          "name": "stdout",
          "text": [
            "['banana', 'kiwi', 'lemon', 'mango', 'fig']\n"
          ]
        }
      ]
    },
    {
      "cell_type": "markdown",
      "source": [
        "3. To check how many items are there in the list using function len()"
      ],
      "metadata": {
        "id": "osRcHK-fdECf"
      }
    },
    {
      "cell_type": "code",
      "source": [
        "len(fruits)"
      ],
      "metadata": {
        "colab": {
          "base_uri": "https://localhost:8080/"
        },
        "id": "57z6CN9oc-wg",
        "outputId": "38c3407f-ddd8-49a6-b8e0-725b53346a67"
      },
      "execution_count": null,
      "outputs": [
        {
          "output_type": "execute_result",
          "data": {
            "text/plain": [
              "5"
            ]
          },
          "metadata": {},
          "execution_count": 23
        }
      ]
    },
    {
      "cell_type": "markdown",
      "source": [
        "Task 4: Dictionary Operations"
      ],
      "metadata": {
        "id": "dnXGZEa-rYVo"
      }
    },
    {
      "cell_type": "markdown",
      "source": [
        "a) Create a dictionary named \"capitals\" with three key-value pairs: \"USA\" - \"Washington D.C.,\" \"France\" - \"Paris,\" and \"Japan\" - \"Tokyo.\" Print the dictionary."
      ],
      "metadata": {
        "id": "Etv3_BZEroUG"
      }
    },
    {
      "cell_type": "code",
      "source": [
        "capitals = {\"USA\": \"Washington D.C\", \"France\": \"Paris\", \"Japan\" : \"Tokyo.\" }\n",
        "print(capitals)"
      ],
      "metadata": {
        "colab": {
          "base_uri": "https://localhost:8080/"
        },
        "id": "iMZftvWBrs0e",
        "outputId": "972eea49-030d-412a-fda7-f225554abd2a"
      },
      "execution_count": 1,
      "outputs": [
        {
          "output_type": "stream",
          "name": "stdout",
          "text": [
            "{'USA': 'Washington D.C', 'France': 'Paris', 'Japan': 'Tokyo.'}\n"
          ]
        }
      ]
    },
    {
      "cell_type": "markdown",
      "source": [
        "b) Add a new country and its capital to the \"capitals\" dictionary. The country is \"Germany,\" and the capital is \"Berlin.\" Print the updated dictionary."
      ],
      "metadata": {
        "id": "OCqLF5hSsfd8"
      }
    },
    {
      "cell_type": "code",
      "source": [
        "capitals['Germany'] = \"Berlin\"\n",
        "print(capitals)"
      ],
      "metadata": {
        "colab": {
          "base_uri": "https://localhost:8080/"
        },
        "id": "1ZXIVBe-s7BX",
        "outputId": "479c0c82-1cd7-4649-86cc-7a306a268a29"
      },
      "execution_count": 2,
      "outputs": [
        {
          "output_type": "stream",
          "name": "stdout",
          "text": [
            "{'USA': 'Washington D.C', 'France': 'Paris', 'Japan': 'Tokyo.', 'Germany': 'Berlin'}\n"
          ]
        }
      ]
    },
    {
      "cell_type": "markdown",
      "source": [
        "c) Check if \"France\" exists in the \"capitals\" dictionary. If it does, print \"France is in the dictionary,\" otherwise, print \"France is not in the dictionary.\""
      ],
      "metadata": {
        "id": "iDBrYYDctNaD"
      }
    },
    {
      "cell_type": "code",
      "source": [
        "print(capitals.get('France'), \"France is in the dictionay\")"
      ],
      "metadata": {
        "colab": {
          "base_uri": "https://localhost:8080/"
        },
        "id": "jSPTH1ERtPJ6",
        "outputId": "e6de2ff1-572b-42ef-8dec-9f9e889aa468"
      },
      "execution_count": 3,
      "outputs": [
        {
          "output_type": "stream",
          "name": "stdout",
          "text": [
            "Paris France is in the dictionay\n"
          ]
        }
      ]
    },
    {
      "cell_type": "markdown",
      "source": [
        "Task 5: Comparison Operators, Logical Operators and If/Else:"
      ],
      "metadata": {
        "id": "TqSyPxDquL5B"
      }
    },
    {
      "cell_type": "markdown",
      "source": [
        "a) Create a variable called number that takes user input. Write a block of code that checks if the number is positive or negative. If the number is positive only then further check if it is even or odd."
      ],
      "metadata": {
        "id": "mlj50QTkuT9B"
      }
    },
    {
      "cell_type": "code",
      "source": [
        "number = int(input(\"Enter a number either positive or negative: \"))\n",
        "if(number>0):\n",
        "  if (number%2==0):\n",
        "    print(\"The number is even\")\n",
        "  else:\n",
        "    print(\"The number is odd\")\n",
        "else:\n",
        "  print(\"The number you entered is negative\")\n",
        ""
      ],
      "metadata": {
        "colab": {
          "base_uri": "https://localhost:8080/"
        },
        "id": "h-bb1kKIuOf5",
        "outputId": "c746f567-c0f6-4326-84c5-108db70b33fc"
      },
      "execution_count": 7,
      "outputs": [
        {
          "output_type": "stream",
          "name": "stdout",
          "text": [
            "Enter a number either positive or negative: 4\n",
            "The number is even\n"
          ]
        }
      ]
    },
    {
      "cell_type": "markdown",
      "source": [
        "b) Create two variables called age and GPA. Give them values of your choice. Next, write a block of code to check if a student with this age and GPA is eligible for admission."
      ],
      "metadata": {
        "id": "_lIsGdXSwnal"
      }
    },
    {
      "cell_type": "code",
      "source": [
        "age =30\n",
        "GPA=3.5\n",
        "if((age>=18) and (GPA>=3.0)): # checking if the student has an age of atleast 18y and gpa of 3.0\n",
        "  print(\"Eligible for admission\")\n",
        "else:\n",
        "  print(\"Not eligible for admission\")"
      ],
      "metadata": {
        "colab": {
          "base_uri": "https://localhost:8080/"
        },
        "id": "Bu9vojcCshcM",
        "outputId": "fb5ad57a-fe1e-4510-ab72-23fff382729b"
      },
      "execution_count": 8,
      "outputs": [
        {
          "output_type": "stream",
          "name": "stdout",
          "text": [
            "Eligible for admission\n"
          ]
        }
      ]
    },
    {
      "cell_type": "markdown",
      "source": [
        "Task 6: Strings Manipulation"
      ],
      "metadata": {
        "id": "zx4jCZi_xvvj"
      }
    },
    {
      "cell_type": "markdown",
      "source": [
        "a) Create a string variable containing the following sentence:\n",
        "   \"Python programming is fun and powerful!\"\n"
      ],
      "metadata": {
        "id": "YkwZaGxSxyol"
      }
    },
    {
      "cell_type": "markdown",
      "source": [
        "1. Find the length of the string."
      ],
      "metadata": {
        "id": "tdt9QOXczcsW"
      }
    },
    {
      "cell_type": "code",
      "source": [
        "string_variable = \"Python programming is fun and powerful!\"\n",
        "print(len(string_variable)) # to count all the characters in the string_variable"
      ],
      "metadata": {
        "colab": {
          "base_uri": "https://localhost:8080/"
        },
        "id": "541vVDZ_serj",
        "outputId": "f4270a2d-131e-4a68-f098-956569ed491c"
      },
      "execution_count": 11,
      "outputs": [
        {
          "output_type": "stream",
          "name": "stdout",
          "text": [
            "39\n"
          ]
        }
      ]
    },
    {
      "cell_type": "markdown",
      "source": [
        "2. Convert the string to uppercase."
      ],
      "metadata": {
        "id": "Uv0liEMizh93"
      }
    },
    {
      "cell_type": "code",
      "source": [
        "print(string_variable.upper())"
      ],
      "metadata": {
        "colab": {
          "base_uri": "https://localhost:8080/"
        },
        "id": "VZ9q2l7Crna2",
        "outputId": "99b2ff0f-8e24-45bb-f7bd-ef577ec1e144"
      },
      "execution_count": 13,
      "outputs": [
        {
          "output_type": "stream",
          "name": "stdout",
          "text": [
            "PYTHON PROGRAMMING IS FUN AND POWERFUL!\n"
          ]
        }
      ]
    },
    {
      "cell_type": "markdown",
      "source": [
        "   3. Replace \"fun\" with \"exciting.\""
      ],
      "metadata": {
        "id": "rpOIx1pX0A5X"
      }
    },
    {
      "cell_type": "code",
      "source": [
        "print(string_variable.replace(\"fun\",\"exciting\"))"
      ],
      "metadata": {
        "colab": {
          "base_uri": "https://localhost:8080/"
        },
        "id": "AYna2aWm0ELt",
        "outputId": "99672d8e-14d0-438e-a4c6-9b66aeedcdac"
      },
      "execution_count": 14,
      "outputs": [
        {
          "output_type": "stream",
          "name": "stdout",
          "text": [
            "Python programming is exciting and powerful!\n"
          ]
        }
      ]
    },
    {
      "cell_type": "markdown",
      "source": [
        "4. Check if the string contains the word \"Python.\""
      ],
      "metadata": {
        "id": "YWPm8xSG0X52"
      }
    },
    {
      "cell_type": "code",
      "source": [
        "print(string_variable.find(\"Python\")) # returns index 0 where the word is present, if word \"Python\" is in the string_variable otherwise -1"
      ],
      "metadata": {
        "colab": {
          "base_uri": "https://localhost:8080/"
        },
        "id": "Kg0sQ3GK0cKl",
        "outputId": "04e6a1ee-27aa-47a5-8c6f-9b06f1e9878f"
      },
      "execution_count": 17,
      "outputs": [
        {
          "output_type": "stream",
          "name": "stdout",
          "text": [
            "0\n"
          ]
        }
      ]
    },
    {
      "cell_type": "markdown",
      "source": [
        "5. Remove the word programming from the sentence and print the rest of the sentence."
      ],
      "metadata": {
        "id": "4CJ_KX_a2Dmr"
      }
    },
    {
      "cell_type": "code",
      "source": [
        "print(string_variable.replace(\" programming\",\"\")) # remove \"programming\" word, however the space before programming ensures grammatical correction"
      ],
      "metadata": {
        "colab": {
          "base_uri": "https://localhost:8080/"
        },
        "id": "7Rek5x9Q2HwS",
        "outputId": "949762f8-e553-4a8f-f559-97760068efa2"
      },
      "execution_count": 21,
      "outputs": [
        {
          "output_type": "stream",
          "name": "stdout",
          "text": [
            "Python is fun and powerful!\n"
          ]
        }
      ]
    },
    {
      "cell_type": "markdown",
      "source": [
        "6. Extract the last word \"powerful!\""
      ],
      "metadata": {
        "id": "LX0qxhWp4O2v"
      }
    },
    {
      "cell_type": "code",
      "source": [
        "# split()[-1] below will extract 'powerful!\" from string_variable starting from last character till a space occurs.\n",
        "string_variable_extraction = string_variable.split()[-1]\n",
        "print(string_variable_extraction)"
      ],
      "metadata": {
        "colab": {
          "base_uri": "https://localhost:8080/"
        },
        "id": "M1bd6HPl4QXZ",
        "outputId": "fead104f-b13f-438c-8b5b-709fa3fb0b76"
      },
      "execution_count": 25,
      "outputs": [
        {
          "output_type": "stream",
          "name": "stdout",
          "text": [
            "powerful!\n"
          ]
        }
      ]
    },
    {
      "cell_type": "markdown",
      "source": [
        "b) Given the string email = \"user@example.com\", perform the following:"
      ],
      "metadata": {
        "id": "KhOWbfxE4Ev-"
      }
    },
    {
      "cell_type": "markdown",
      "source": [
        "•\tExtract the username part (everything before the \"@\" symbol)."
      ],
      "metadata": {
        "id": "Yi8WwW7q6Iqj"
      }
    },
    {
      "cell_type": "code",
      "source": [
        "string_email = \"user@example.com\"\n",
        "print(string_email[0:4])"
      ],
      "metadata": {
        "colab": {
          "base_uri": "https://localhost:8080/"
        },
        "id": "0NuCDC1L6EFM",
        "outputId": "24c5524c-5259-4fe7-c9b6-6532b3fd3b0d"
      },
      "execution_count": 27,
      "outputs": [
        {
          "output_type": "stream",
          "name": "stdout",
          "text": [
            "user\n"
          ]
        }
      ]
    },
    {
      "cell_type": "markdown",
      "source": [
        "•\tExtract the domain part (everything after the \"@\" symbol)."
      ],
      "metadata": {
        "id": "03Fq4I7T666b"
      }
    },
    {
      "cell_type": "code",
      "source": [
        "print(string_email[5:])"
      ],
      "metadata": {
        "colab": {
          "base_uri": "https://localhost:8080/"
        },
        "id": "yWiqQuAk6-Cy",
        "outputId": "b2bce990-c289-470f-eaf5-055e3002129e"
      },
      "execution_count": 29,
      "outputs": [
        {
          "output_type": "stream",
          "name": "stdout",
          "text": [
            "example.com\n"
          ]
        }
      ]
    },
    {
      "cell_type": "markdown",
      "source": [
        "•\tCheck if the email contains the substring \"example\"."
      ],
      "metadata": {
        "id": "sb4ojZCo7MMp"
      }
    },
    {
      "cell_type": "code",
      "source": [
        "print(string_email.find(\"example\"), \"is the index number where example is found!\")\n",
        "# or we can use the following code to find if the word 'example' is present or not\n",
        "if ('example' in string_email):\n",
        "  print('example is present in the string \"string_email\"')\n",
        "else :\n",
        "  print('word not found')"
      ],
      "metadata": {
        "colab": {
          "base_uri": "https://localhost:8080/"
        },
        "id": "QQ4K8z3w7PeB",
        "outputId": "02fda71e-5f6e-4eff-8ea4-83b04eebdf8b"
      },
      "execution_count": 40,
      "outputs": [
        {
          "output_type": "stream",
          "name": "stdout",
          "text": [
            "5 is the index number where example is found!\n",
            "example is present in the string \"string_email\"\n"
          ]
        }
      ]
    },
    {
      "cell_type": "markdown",
      "source": [
        "                                                                     THE END"
      ],
      "metadata": {
        "id": "zlWRltvy96aW"
      }
    }
  ]
}