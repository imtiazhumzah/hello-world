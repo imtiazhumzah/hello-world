{
  "cells": [
    {
      "cell_type": "markdown",
      "id": "33956be4",
      "metadata": {
        "id": "33956be4"
      },
      "source": [
        "#### [Question1]\n",
        "\n",
        "a) Create a string variable called my_str containing the following sentence: Python programming is fun and powerful! <br>\n",
        "b) Find the length of my_str. <br>\n",
        "c) Replace \"fun\" in my_str with \"exciting.\" Store this back in my_str and print my_str <br>\n",
        "d) Find the index of the word powerful in my_str <br>\n",
        "e) Split the string into a list of words (google which function can help you do this). Store this in my_str_to_list and print it"
      ]
    },
    {
      "cell_type": "code",
      "execution_count": 1,
      "id": "4dfe59e8",
      "metadata": {
        "id": "4dfe59e8"
      },
      "outputs": [],
      "source": [
        "# create my_str below\n",
        "my_str = \"Python programming is fun and powerful!\"\n"
      ]
    },
    {
      "cell_type": "code",
      "execution_count": 2,
      "id": "33b969da",
      "metadata": {
        "id": "33b969da",
        "outputId": "02cc38eb-b72c-42cf-ad13-9eb91fc6d2f7",
        "colab": {
          "base_uri": "https://localhost:8080/"
        }
      },
      "outputs": [
        {
          "output_type": "stream",
          "name": "stdout",
          "text": [
            "39\n"
          ]
        }
      ],
      "source": [
        "# find out the length of my_str. no need to store this anywhere\n",
        "print(len(my_str))\n"
      ]
    },
    {
      "cell_type": "code",
      "execution_count": 3,
      "id": "b45d1a3b",
      "metadata": {
        "id": "b45d1a3b",
        "outputId": "40c97d52-fb98-47fe-9c84-4a1548c4844e",
        "colab": {
          "base_uri": "https://localhost:8080/"
        }
      },
      "outputs": [
        {
          "output_type": "stream",
          "name": "stdout",
          "text": [
            "Python programming is exciting and powerful!\n"
          ]
        }
      ],
      "source": [
        "# update my_str so it has the word exciting instead of fun. print my_str at the end\n",
        "\n",
        "print(my_str.replace(\"fun\",\"exciting\"))\n"
      ]
    },
    {
      "cell_type": "code",
      "execution_count": 4,
      "id": "4c67c03c",
      "metadata": {
        "id": "4c67c03c",
        "outputId": "84c96557-3b86-4ecf-e9b6-864662419d4f",
        "colab": {
          "base_uri": "https://localhost:8080/"
        }
      },
      "outputs": [
        {
          "output_type": "stream",
          "name": "stdout",
          "text": [
            "30\n"
          ]
        }
      ],
      "source": [
        "# find the index of the word powerful in my_str\n",
        "\n",
        "print(my_str.find(\"powerful!\"))\n"
      ]
    },
    {
      "cell_type": "code",
      "execution_count": 5,
      "id": "bdfffa17",
      "metadata": {
        "id": "bdfffa17",
        "outputId": "e0a170ad-6ca0-4bac-e307-02941bcf727a",
        "colab": {
          "base_uri": "https://localhost:8080/"
        }
      },
      "outputs": [
        {
          "output_type": "stream",
          "name": "stdout",
          "text": [
            "['Python', 'programming', 'is', 'fun', 'and', 'powerful!']\n"
          ]
        }
      ],
      "source": [
        "# create my_str_to_list and store my_str split into a list of words in this. print my_str_to_list\n",
        "\n",
        "my_str_to_list = my_str.split()\n",
        "print(my_str_to_list)\n"
      ]
    },
    {
      "cell_type": "markdown",
      "id": "2235471f",
      "metadata": {
        "id": "2235471f"
      },
      "source": [
        "#### [Question2]\n",
        "Given a variable called Celsius with the value 108.6, convert it to Fahrenheit. Google the formula for celcius to fahrenheit conversion. Print out Fahrenheit."
      ]
    },
    {
      "cell_type": "code",
      "execution_count": 6,
      "id": "3364767a",
      "metadata": {
        "id": "3364767a",
        "outputId": "655c8b17-93c9-4b9f-a264-005832d096a0",
        "colab": {
          "base_uri": "https://localhost:8080/"
        }
      },
      "outputs": [
        {
          "output_type": "stream",
          "name": "stdout",
          "text": [
            "227.48\n"
          ]
        }
      ],
      "source": [
        "Celsius = 108.6\n",
        "\n",
        "Fahrenheit =  (Celsius * 9/5) + 32# write your conversion formula here\n",
        "\n",
        "\n",
        "#print out Fahrenheit below\n",
        "print(Fahrenheit)\n"
      ]
    },
    {
      "cell_type": "markdown",
      "id": "f7069988",
      "metadata": {
        "id": "f7069988"
      },
      "source": [
        "#### [Question3]\n",
        "\n",
        "A university wants to write a program that will help them decide the eligibility of each applicant. The conditions are:\n",
        "- all admits must be 18 or older in age\n",
        "- if their GPA is 3.0 or above, they are eligible. If their GPA is 2.8 or above, they are eligible based on a performance test. Otherwise they are not eligible.\n",
        "\n",
        "\n",
        "Given the three lists names, ages and GPA:\n",
        "\n",
        "Write a for loop that will print out the following three things in each iteration:\n",
        "\n",
        "- Student (insert name) has age (insert age) and GPA (insert GPA)\n",
        "- Eligible for admission/ Eligible for admission based on performance test/ Not eligible for admission\n",
        "- New line\n",
        "\n",
        "example:\n",
        "\n",
        "Student Hassan Ali has age 19 and GPA 3.0 <br>\n",
        "Eligible for admission"
      ]
    },
    {
      "cell_type": "code",
      "execution_count": 7,
      "id": "3bd3d902",
      "metadata": {
        "id": "3bd3d902",
        "outputId": "90ace1d4-5d8d-43e3-fc53-00f97b9c7e2b",
        "colab": {
          "base_uri": "https://localhost:8080/"
        }
      },
      "outputs": [
        {
          "output_type": "stream",
          "name": "stdout",
          "text": [
            "student nanme Hassan Ali has age 19 and GPA 3.0\n",
            "Eligible for admission\n",
            "student nanme Rabbiya Sarmad has age 17 and GPA 3.9\n",
            "Eligible for admission\n",
            "student nanme Zara Haq has age 15 and GPA 2.5\n",
            "Not eligible for admission\n",
            "student nanme Hussain Rafay has age 21 and GPA 3.1\n",
            "Eligible for admission\n",
            "student nanme Dua Hamid has age 18 and GPA 2.9\n",
            "Eligible for admission based on performance test\n"
          ]
        }
      ],
      "source": [
        "names = ['Hassan Ali', 'Rabbiya Sarmad', 'Zara Haq', 'Hussain Rafay', 'Dua Hamid']\n",
        "ages = [19, 17, 15, 21, 18, 20]\n",
        "GPA = [3.0, 3.9, 2.5, 3.1, 2.9]\n",
        "\n",
        "\n",
        "# Write your for loop below:\n",
        "for i in range(len(names)):\n",
        "    #print(f\"Student {names[i]} has age {ages[i]} and GPA {GPA[i]}\")\n",
        "    print(\"student nanme\", names[i], \"has age\", ages[i], \"and GPA\",GPA[i])\n",
        "    if GPA[i] >= 3.0:\n",
        "        print(\"Eligible for admission\")\n",
        "    elif GPA[i] >= 2.8:\n",
        "        print(\"Eligible for admission based on performance test\")\n",
        "    else:\n",
        "        print(\"Not eligible for admission\")\n",
        "\n",
        "\n"
      ]
    },
    {
      "cell_type": "markdown",
      "id": "893405b9",
      "metadata": {
        "id": "893405b9"
      },
      "source": [
        "#### [Question 4]\n",
        "\n",
        "Given the following list called numbers:\n",
        "\n",
        "a) Convert it into a tuple and print it. <br>\n",
        "b) Calculate the sum of this tuple. Store it in sum_numbers. print sum_numbers <br>\n",
        "c) Using slicing, fetch every odd indexed element from numbers <br>\n",
        "d) Create new **lists** called evens and odds. Using ONE for loop, add every even integer from the numbers tuple to evens and every odd number to odds. in the end, print numbers, evens and odds. <br>\n",
        "e) Would it be possible to do this if evens and odds were tuples instead of lists?"
      ]
    },
    {
      "cell_type": "code",
      "execution_count": 8,
      "id": "f0e87e0d",
      "metadata": {
        "id": "f0e87e0d",
        "outputId": "e72a77a9-da3c-4200-8560-90f152551066",
        "colab": {
          "base_uri": "https://localhost:8080/"
        }
      },
      "outputs": [
        {
          "output_type": "stream",
          "name": "stdout",
          "text": [
            "(12, 34, 45, 67, 89, 100, 23, 56)\n"
          ]
        }
      ],
      "source": [
        "numbers =  [12, 34, 45, 67, 89, 100, 23, 56]\n",
        "\n",
        "#convert numbers into a tuple below and print numbers\n",
        "numbers_tuple = tuple(numbers)\n",
        "print(numbers_tuple)\n",
        "\n"
      ]
    },
    {
      "cell_type": "code",
      "execution_count": 11,
      "id": "a41a80cb",
      "metadata": {
        "id": "a41a80cb",
        "outputId": "5f582ba5-ff9c-4228-b21a-3537a28122ab",
        "colab": {
          "base_uri": "https://localhost:8080/"
        }
      },
      "outputs": [
        {
          "output_type": "stream",
          "name": "stdout",
          "text": [
            "426\n"
          ]
        }
      ],
      "source": [
        "# create sum_numbers and store the sum of numbers in it. print sum_numbers\n",
        "sum_numbers=0\n",
        "for n in numbers:\n",
        "  sum_numbers = sum_numbers+n\n",
        "print(sum_numbers)"
      ]
    },
    {
      "cell_type": "code",
      "execution_count": 13,
      "id": "5908766a",
      "metadata": {
        "id": "5908766a",
        "outputId": "7abb1254-2d1a-4277-bbb5-8f8f923a7087",
        "colab": {
          "base_uri": "https://localhost:8080/"
        }
      },
      "outputs": [
        {
          "output_type": "stream",
          "name": "stdout",
          "text": [
            "34\n",
            "67\n",
            "100\n",
            "56\n"
          ]
        }
      ],
      "source": [
        "# fetch every odd indexed element from numbers below. No need to store this anywhere, just show output\n",
        "index = 0\n",
        "for n in numbers:\n",
        "    if index % 2 == 1:  # Check if index is odd\n",
        "        print(n)\n",
        "    index += 1\n",
        "\n",
        "\n",
        "\n",
        "\n"
      ]
    },
    {
      "cell_type": "code",
      "execution_count": 15,
      "id": "027c59f5",
      "metadata": {
        "id": "027c59f5",
        "outputId": "1e758c2a-e6bf-4768-c4ab-07c704f1cfd8",
        "colab": {
          "base_uri": "https://localhost:8080/"
        }
      },
      "outputs": [
        {
          "output_type": "stream",
          "name": "stdout",
          "text": [
            "Evens: [12, 34, 100, 56]\n",
            "Odds: [45, 67, 89, 23]\n"
          ]
        }
      ],
      "source": [
        "# create empty lists called evens and odds below:\n",
        "evens=[]\n",
        "odds=[]\n",
        "\n",
        "# write a single for loop to add integers from the numbers tuple to evens and odds lists below:\n",
        "for num in numbers:\n",
        "    if (num %2 ==0):\n",
        "      evens.append(num)\n",
        "    else:\n",
        "      odds.append(num)\n",
        "\n",
        "\n",
        "\n",
        "\n",
        "# print out numbers, evens and odd below\n",
        "\n",
        "print(\"Evens:\", evens)\n",
        "print(\"Odds:\", odds)\n"
      ]
    },
    {
      "cell_type": "code",
      "execution_count": null,
      "id": "4f801920",
      "metadata": {
        "id": "4f801920"
      },
      "outputs": [],
      "source": [
        "# comment if the above would be possible to do if evens and odds were tuples instead of lists?\n",
        "# No, because tuples are immutable\n",
        "\n"
      ]
    },
    {
      "cell_type": "markdown",
      "id": "b0bf88d8",
      "metadata": {
        "id": "b0bf88d8"
      },
      "source": [
        "#### [Question 5]\n",
        "\n",
        "a) Create a list called fruits containing the following fruits: apple, banana, orange, grape, kiwi, mango <br>\n",
        "b) Using a for loop, update every single item in fruits so that the first letter is capitalized. Print fruits at the end"
      ]
    },
    {
      "cell_type": "code",
      "execution_count": 33,
      "id": "0d1aed0e",
      "metadata": {
        "id": "0d1aed0e",
        "outputId": "638f2bd7-f868-4209-b273-070984b30c12",
        "colab": {
          "base_uri": "https://localhost:8080/"
        }
      },
      "outputs": [
        {
          "output_type": "stream",
          "name": "stdout",
          "text": [
            "['APPLE', 'BANANA', 'ORANGE', 'GRAPE', 'KIWI', 'MANGO']\n"
          ]
        }
      ],
      "source": [
        "# create fruits below\n",
        "\n",
        "fruits = ['apple', 'banana', 'orange', 'grape', 'kiwi', 'mango']\n",
        "\n",
        "# write a for loop to capitalize every element in fruits below\n",
        "for i, f in enumerate(fruits):\n",
        "    fruits[i] = f.upper()  # Update list in place\n",
        "\n",
        "#print updated fruits below\n",
        "print(fruits)\n",
        "\n",
        "\n",
        "\n"
      ]
    },
    {
      "cell_type": "markdown",
      "id": "57fe7528",
      "metadata": {
        "id": "57fe7528"
      },
      "source": [
        "#### [Question 6]\n",
        "\n",
        "a) Create a dictionary named \"capitals\" with three key-value pairs: \"USA\" - \"Washington DC\", \"France\" - \"Paris\",  and \"Japan\" - \"Tokyo\". Print the dictionary. <br>\n",
        "b) Add a new country and its capital to the \"capitals\" dictionary. The country is \"Germany\" and the capital is \"Berlin\". Print the updated dictionary. <br>\n",
        "c) Check if \"France\" exists in the \"capitals\" dictionary. If it does, print \"France is in the dictionary\" otherwise, print \"France is not in the dictionary\" (hint: you will need to use the keyword in)"
      ]
    },
    {
      "cell_type": "code",
      "execution_count": 28,
      "id": "fe365bbe",
      "metadata": {
        "id": "fe365bbe",
        "outputId": "fd4f946b-6b4a-42da-807c-2764e3d9b9b6",
        "colab": {
          "base_uri": "https://localhost:8080/"
        }
      },
      "outputs": [
        {
          "output_type": "stream",
          "name": "stdout",
          "text": [
            "{'USA': 'Washington D.C', 'France': 'Paris', 'Japan': 'Tokyo.'}\n"
          ]
        }
      ],
      "source": [
        "# create the dictionary capitals below with its key:value pairs and print it\n",
        "\n",
        "capitals = {\"USA\": \"Washington D.C\", \"France\": \"Paris\", \"Japan\" : \"Tokyo.\" }\n",
        "print(capitals)\n"
      ]
    },
    {
      "cell_type": "code",
      "execution_count": 29,
      "id": "d219c2ce",
      "metadata": {
        "id": "d219c2ce",
        "outputId": "7d6496db-1658-46a8-b22a-375a68ba35f1",
        "colab": {
          "base_uri": "https://localhost:8080/"
        }
      },
      "outputs": [
        {
          "output_type": "stream",
          "name": "stdout",
          "text": [
            "{'USA': 'Washington D.C', 'France': 'Paris', 'Japan': 'Tokyo.', 'Germany': 'Berlin'}\n"
          ]
        }
      ],
      "source": [
        "# add germany to capitals below and print updated dictionary\n",
        "\n",
        "capitals['Germany'] = \"Berlin\"\n",
        "print(capitals)\n"
      ]
    },
    {
      "cell_type": "code",
      "execution_count": 34,
      "id": "65940d65",
      "metadata": {
        "id": "65940d65",
        "outputId": "b67d6d32-6f74-4264-ae76-7dbe1bd17bdb",
        "colab": {
          "base_uri": "https://localhost:8080/"
        }
      },
      "outputs": [
        {
          "output_type": "stream",
          "name": "stdout",
          "text": [
            "France is in the dictionary\n"
          ]
        }
      ],
      "source": [
        "# check if france is in the dictionary and print \"France is in the dictionary\" or \"France is not in the dictionary\"\n",
        "\n",
        "if \"France\" in capitals:\n",
        "    print(\"France is in the dictionary\")\n",
        "else:\n",
        "    print(\"France is not in the dictionary\")\n"
      ]
    }
  ],
  "metadata": {
    "kernelspec": {
      "display_name": "Python 3 (ipykernel)",
      "language": "python",
      "name": "python3"
    },
    "language_info": {
      "codemirror_mode": {
        "name": "ipython",
        "version": 3
      },
      "file_extension": ".py",
      "mimetype": "text/x-python",
      "name": "python",
      "nbconvert_exporter": "python",
      "pygments_lexer": "ipython3",
      "version": "3.9.13"
    },
    "colab": {
      "provenance": []
    }
  },
  "nbformat": 4,
  "nbformat_minor": 5
}