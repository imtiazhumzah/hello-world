{
  "cells": [
    {
      "cell_type": "code",
      "execution_count": 1,
      "metadata": {
        "id": "mjDCqpW8rnsD"
      },
      "outputs": [],
      "source": [
        "import pandas as pd\n",
        "import numpy as np\n",
        "import matplotlib.pyplot as plt\n",
        "import seaborn as sns\n",
        "\n",
        "\n",
        "from sklearn.preprocessing import MinMaxScaler, StandardScaler, OneHotEncoder\n",
        "\n",
        "from sklearn.model_selection import train_test_split\n",
        "\n",
        "import statsmodels.api as sm\n",
        "from sklearn.tree import DecisionTreeRegressor\n",
        "from sklearn.ensemble import RandomForestRegressor\n",
        "\n",
        "from sklearn.metrics import mean_squared_error\n",
        "\n",
        "\n",
        "import warnings\n",
        "warnings.filterwarnings('ignore')"
      ]
    },
    {
      "cell_type": "markdown",
      "metadata": {
        "id": "fqnLxupJwKLt"
      },
      "source": [
        "Loading the Data"
      ]
    },
    {
      "cell_type": "code",
      "execution_count": 2,
      "metadata": {
        "id": "R1A2tAk3vjnW"
      },
      "outputs": [],
      "source": [
        "choc_sales = pd.read_csv(\"/content/Chocolate Sales.csv\")\n"
      ]
    },
    {
      "cell_type": "code",
      "execution_count": 3,
      "metadata": {
        "colab": {
          "base_uri": "https://localhost:8080/",
          "height": 206
        },
        "id": "KmxTWCvuwFSX",
        "outputId": "dd99237f-8452-4a04-b9b5-13b753d79783"
      },
      "outputs": [
        {
          "output_type": "execute_result",
          "data": {
            "text/plain": [
              "     Sales Person    Country              Product       Date    Amount  \\\n",
              "0  Jehu Rudeforth         UK      Mint Chip Choco  04-Jan-22   $5,320    \n",
              "1     Van Tuxwell      India        85% Dark Bars  01-Aug-22   $7,896    \n",
              "2    Gigi Bohling      India  Peanut Butter Cubes  07-Jul-22   $4,501    \n",
              "3    Jan Morforth  Australia  Peanut Butter Cubes  27-Apr-22  $12,726    \n",
              "4  Jehu Rudeforth         UK  Peanut Butter Cubes  24-Feb-22  $13,685    \n",
              "\n",
              "   Boxes Shipped  \n",
              "0            180  \n",
              "1             94  \n",
              "2             91  \n",
              "3            342  \n",
              "4            184  "
            ],
            "text/html": [
              "\n",
              "  <div id=\"df-4ef9d504-c34e-46af-87c4-0da244c666db\" class=\"colab-df-container\">\n",
              "    <div>\n",
              "<style scoped>\n",
              "    .dataframe tbody tr th:only-of-type {\n",
              "        vertical-align: middle;\n",
              "    }\n",
              "\n",
              "    .dataframe tbody tr th {\n",
              "        vertical-align: top;\n",
              "    }\n",
              "\n",
              "    .dataframe thead th {\n",
              "        text-align: right;\n",
              "    }\n",
              "</style>\n",
              "<table border=\"1\" class=\"dataframe\">\n",
              "  <thead>\n",
              "    <tr style=\"text-align: right;\">\n",
              "      <th></th>\n",
              "      <th>Sales Person</th>\n",
              "      <th>Country</th>\n",
              "      <th>Product</th>\n",
              "      <th>Date</th>\n",
              "      <th>Amount</th>\n",
              "      <th>Boxes Shipped</th>\n",
              "    </tr>\n",
              "  </thead>\n",
              "  <tbody>\n",
              "    <tr>\n",
              "      <th>0</th>\n",
              "      <td>Jehu Rudeforth</td>\n",
              "      <td>UK</td>\n",
              "      <td>Mint Chip Choco</td>\n",
              "      <td>04-Jan-22</td>\n",
              "      <td>$5,320</td>\n",
              "      <td>180</td>\n",
              "    </tr>\n",
              "    <tr>\n",
              "      <th>1</th>\n",
              "      <td>Van Tuxwell</td>\n",
              "      <td>India</td>\n",
              "      <td>85% Dark Bars</td>\n",
              "      <td>01-Aug-22</td>\n",
              "      <td>$7,896</td>\n",
              "      <td>94</td>\n",
              "    </tr>\n",
              "    <tr>\n",
              "      <th>2</th>\n",
              "      <td>Gigi Bohling</td>\n",
              "      <td>India</td>\n",
              "      <td>Peanut Butter Cubes</td>\n",
              "      <td>07-Jul-22</td>\n",
              "      <td>$4,501</td>\n",
              "      <td>91</td>\n",
              "    </tr>\n",
              "    <tr>\n",
              "      <th>3</th>\n",
              "      <td>Jan Morforth</td>\n",
              "      <td>Australia</td>\n",
              "      <td>Peanut Butter Cubes</td>\n",
              "      <td>27-Apr-22</td>\n",
              "      <td>$12,726</td>\n",
              "      <td>342</td>\n",
              "    </tr>\n",
              "    <tr>\n",
              "      <th>4</th>\n",
              "      <td>Jehu Rudeforth</td>\n",
              "      <td>UK</td>\n",
              "      <td>Peanut Butter Cubes</td>\n",
              "      <td>24-Feb-22</td>\n",
              "      <td>$13,685</td>\n",
              "      <td>184</td>\n",
              "    </tr>\n",
              "  </tbody>\n",
              "</table>\n",
              "</div>\n",
              "    <div class=\"colab-df-buttons\">\n",
              "\n",
              "  <div class=\"colab-df-container\">\n",
              "    <button class=\"colab-df-convert\" onclick=\"convertToInteractive('df-4ef9d504-c34e-46af-87c4-0da244c666db')\"\n",
              "            title=\"Convert this dataframe to an interactive table.\"\n",
              "            style=\"display:none;\">\n",
              "\n",
              "  <svg xmlns=\"http://www.w3.org/2000/svg\" height=\"24px\" viewBox=\"0 -960 960 960\">\n",
              "    <path d=\"M120-120v-720h720v720H120Zm60-500h600v-160H180v160Zm220 220h160v-160H400v160Zm0 220h160v-160H400v160ZM180-400h160v-160H180v160Zm440 0h160v-160H620v160ZM180-180h160v-160H180v160Zm440 0h160v-160H620v160Z\"/>\n",
              "  </svg>\n",
              "    </button>\n",
              "\n",
              "  <style>\n",
              "    .colab-df-container {\n",
              "      display:flex;\n",
              "      gap: 12px;\n",
              "    }\n",
              "\n",
              "    .colab-df-convert {\n",
              "      background-color: #E8F0FE;\n",
              "      border: none;\n",
              "      border-radius: 50%;\n",
              "      cursor: pointer;\n",
              "      display: none;\n",
              "      fill: #1967D2;\n",
              "      height: 32px;\n",
              "      padding: 0 0 0 0;\n",
              "      width: 32px;\n",
              "    }\n",
              "\n",
              "    .colab-df-convert:hover {\n",
              "      background-color: #E2EBFA;\n",
              "      box-shadow: 0px 1px 2px rgba(60, 64, 67, 0.3), 0px 1px 3px 1px rgba(60, 64, 67, 0.15);\n",
              "      fill: #174EA6;\n",
              "    }\n",
              "\n",
              "    .colab-df-buttons div {\n",
              "      margin-bottom: 4px;\n",
              "    }\n",
              "\n",
              "    [theme=dark] .colab-df-convert {\n",
              "      background-color: #3B4455;\n",
              "      fill: #D2E3FC;\n",
              "    }\n",
              "\n",
              "    [theme=dark] .colab-df-convert:hover {\n",
              "      background-color: #434B5C;\n",
              "      box-shadow: 0px 1px 3px 1px rgba(0, 0, 0, 0.15);\n",
              "      filter: drop-shadow(0px 1px 2px rgba(0, 0, 0, 0.3));\n",
              "      fill: #FFFFFF;\n",
              "    }\n",
              "  </style>\n",
              "\n",
              "    <script>\n",
              "      const buttonEl =\n",
              "        document.querySelector('#df-4ef9d504-c34e-46af-87c4-0da244c666db button.colab-df-convert');\n",
              "      buttonEl.style.display =\n",
              "        google.colab.kernel.accessAllowed ? 'block' : 'none';\n",
              "\n",
              "      async function convertToInteractive(key) {\n",
              "        const element = document.querySelector('#df-4ef9d504-c34e-46af-87c4-0da244c666db');\n",
              "        const dataTable =\n",
              "          await google.colab.kernel.invokeFunction('convertToInteractive',\n",
              "                                                    [key], {});\n",
              "        if (!dataTable) return;\n",
              "\n",
              "        const docLinkHtml = 'Like what you see? Visit the ' +\n",
              "          '<a target=\"_blank\" href=https://colab.research.google.com/notebooks/data_table.ipynb>data table notebook</a>'\n",
              "          + ' to learn more about interactive tables.';\n",
              "        element.innerHTML = '';\n",
              "        dataTable['output_type'] = 'display_data';\n",
              "        await google.colab.output.renderOutput(dataTable, element);\n",
              "        const docLink = document.createElement('div');\n",
              "        docLink.innerHTML = docLinkHtml;\n",
              "        element.appendChild(docLink);\n",
              "      }\n",
              "    </script>\n",
              "  </div>\n",
              "\n",
              "\n",
              "<div id=\"df-072ba024-1670-4131-80d6-1746b546a6e9\">\n",
              "  <button class=\"colab-df-quickchart\" onclick=\"quickchart('df-072ba024-1670-4131-80d6-1746b546a6e9')\"\n",
              "            title=\"Suggest charts\"\n",
              "            style=\"display:none;\">\n",
              "\n",
              "<svg xmlns=\"http://www.w3.org/2000/svg\" height=\"24px\"viewBox=\"0 0 24 24\"\n",
              "     width=\"24px\">\n",
              "    <g>\n",
              "        <path d=\"M19 3H5c-1.1 0-2 .9-2 2v14c0 1.1.9 2 2 2h14c1.1 0 2-.9 2-2V5c0-1.1-.9-2-2-2zM9 17H7v-7h2v7zm4 0h-2V7h2v10zm4 0h-2v-4h2v4z\"/>\n",
              "    </g>\n",
              "</svg>\n",
              "  </button>\n",
              "\n",
              "<style>\n",
              "  .colab-df-quickchart {\n",
              "      --bg-color: #E8F0FE;\n",
              "      --fill-color: #1967D2;\n",
              "      --hover-bg-color: #E2EBFA;\n",
              "      --hover-fill-color: #174EA6;\n",
              "      --disabled-fill-color: #AAA;\n",
              "      --disabled-bg-color: #DDD;\n",
              "  }\n",
              "\n",
              "  [theme=dark] .colab-df-quickchart {\n",
              "      --bg-color: #3B4455;\n",
              "      --fill-color: #D2E3FC;\n",
              "      --hover-bg-color: #434B5C;\n",
              "      --hover-fill-color: #FFFFFF;\n",
              "      --disabled-bg-color: #3B4455;\n",
              "      --disabled-fill-color: #666;\n",
              "  }\n",
              "\n",
              "  .colab-df-quickchart {\n",
              "    background-color: var(--bg-color);\n",
              "    border: none;\n",
              "    border-radius: 50%;\n",
              "    cursor: pointer;\n",
              "    display: none;\n",
              "    fill: var(--fill-color);\n",
              "    height: 32px;\n",
              "    padding: 0;\n",
              "    width: 32px;\n",
              "  }\n",
              "\n",
              "  .colab-df-quickchart:hover {\n",
              "    background-color: var(--hover-bg-color);\n",
              "    box-shadow: 0 1px 2px rgba(60, 64, 67, 0.3), 0 1px 3px 1px rgba(60, 64, 67, 0.15);\n",
              "    fill: var(--button-hover-fill-color);\n",
              "  }\n",
              "\n",
              "  .colab-df-quickchart-complete:disabled,\n",
              "  .colab-df-quickchart-complete:disabled:hover {\n",
              "    background-color: var(--disabled-bg-color);\n",
              "    fill: var(--disabled-fill-color);\n",
              "    box-shadow: none;\n",
              "  }\n",
              "\n",
              "  .colab-df-spinner {\n",
              "    border: 2px solid var(--fill-color);\n",
              "    border-color: transparent;\n",
              "    border-bottom-color: var(--fill-color);\n",
              "    animation:\n",
              "      spin 1s steps(1) infinite;\n",
              "  }\n",
              "\n",
              "  @keyframes spin {\n",
              "    0% {\n",
              "      border-color: transparent;\n",
              "      border-bottom-color: var(--fill-color);\n",
              "      border-left-color: var(--fill-color);\n",
              "    }\n",
              "    20% {\n",
              "      border-color: transparent;\n",
              "      border-left-color: var(--fill-color);\n",
              "      border-top-color: var(--fill-color);\n",
              "    }\n",
              "    30% {\n",
              "      border-color: transparent;\n",
              "      border-left-color: var(--fill-color);\n",
              "      border-top-color: var(--fill-color);\n",
              "      border-right-color: var(--fill-color);\n",
              "    }\n",
              "    40% {\n",
              "      border-color: transparent;\n",
              "      border-right-color: var(--fill-color);\n",
              "      border-top-color: var(--fill-color);\n",
              "    }\n",
              "    60% {\n",
              "      border-color: transparent;\n",
              "      border-right-color: var(--fill-color);\n",
              "    }\n",
              "    80% {\n",
              "      border-color: transparent;\n",
              "      border-right-color: var(--fill-color);\n",
              "      border-bottom-color: var(--fill-color);\n",
              "    }\n",
              "    90% {\n",
              "      border-color: transparent;\n",
              "      border-bottom-color: var(--fill-color);\n",
              "    }\n",
              "  }\n",
              "</style>\n",
              "\n",
              "  <script>\n",
              "    async function quickchart(key) {\n",
              "      const quickchartButtonEl =\n",
              "        document.querySelector('#' + key + ' button');\n",
              "      quickchartButtonEl.disabled = true;  // To prevent multiple clicks.\n",
              "      quickchartButtonEl.classList.add('colab-df-spinner');\n",
              "      try {\n",
              "        const charts = await google.colab.kernel.invokeFunction(\n",
              "            'suggestCharts', [key], {});\n",
              "      } catch (error) {\n",
              "        console.error('Error during call to suggestCharts:', error);\n",
              "      }\n",
              "      quickchartButtonEl.classList.remove('colab-df-spinner');\n",
              "      quickchartButtonEl.classList.add('colab-df-quickchart-complete');\n",
              "    }\n",
              "    (() => {\n",
              "      let quickchartButtonEl =\n",
              "        document.querySelector('#df-072ba024-1670-4131-80d6-1746b546a6e9 button');\n",
              "      quickchartButtonEl.style.display =\n",
              "        google.colab.kernel.accessAllowed ? 'block' : 'none';\n",
              "    })();\n",
              "  </script>\n",
              "</div>\n",
              "\n",
              "    </div>\n",
              "  </div>\n"
            ],
            "application/vnd.google.colaboratory.intrinsic+json": {
              "type": "dataframe",
              "variable_name": "choc_sales",
              "summary": "{\n  \"name\": \"choc_sales\",\n  \"rows\": 1094,\n  \"fields\": [\n    {\n      \"column\": \"Sales Person\",\n      \"properties\": {\n        \"dtype\": \"category\",\n        \"num_unique_values\": 25,\n        \"samples\": [\n          \"Barr Faughny\",\n          \"Kaine Padly\",\n          \"Jehu Rudeforth\"\n        ],\n        \"semantic_type\": \"\",\n        \"description\": \"\"\n      }\n    },\n    {\n      \"column\": \"Country\",\n      \"properties\": {\n        \"dtype\": \"category\",\n        \"num_unique_values\": 6,\n        \"samples\": [\n          \"UK\",\n          \"India\",\n          \"Canada\"\n        ],\n        \"semantic_type\": \"\",\n        \"description\": \"\"\n      }\n    },\n    {\n      \"column\": \"Product\",\n      \"properties\": {\n        \"dtype\": \"category\",\n        \"num_unique_values\": 22,\n        \"samples\": [\n          \"Mint Chip Choco\",\n          \"Fruit & Nut Bars\",\n          \"Eclairs\"\n        ],\n        \"semantic_type\": \"\",\n        \"description\": \"\"\n      }\n    },\n    {\n      \"column\": \"Date\",\n      \"properties\": {\n        \"dtype\": \"object\",\n        \"num_unique_values\": 168,\n        \"samples\": [\n          \"22-Jun-22\",\n          \"30-Jun-22\",\n          \"22-Apr-22\"\n        ],\n        \"semantic_type\": \"\",\n        \"description\": \"\"\n      }\n    },\n    {\n      \"column\": \"Amount\",\n      \"properties\": {\n        \"dtype\": \"string\",\n        \"num_unique_values\": 827,\n        \"samples\": [\n          \"$9,660 \",\n          \"$3,318 \",\n          \"$4,347 \"\n        ],\n        \"semantic_type\": \"\",\n        \"description\": \"\"\n      }\n    },\n    {\n      \"column\": \"Boxes Shipped\",\n      \"properties\": {\n        \"dtype\": \"number\",\n        \"std\": 121,\n        \"min\": 1,\n        \"max\": 709,\n        \"num_unique_values\": 385,\n        \"samples\": [\n          316,\n          322,\n          518\n        ],\n        \"semantic_type\": \"\",\n        \"description\": \"\"\n      }\n    }\n  ]\n}"
            }
          },
          "metadata": {},
          "execution_count": 3
        }
      ],
      "source": [
        "choc_sales.head(5)"
      ]
    },
    {
      "cell_type": "code",
      "source": [
        "choc_sales.info()"
      ],
      "metadata": {
        "id": "P0Ebbt866nmo",
        "colab": {
          "base_uri": "https://localhost:8080/"
        },
        "outputId": "0fd7cfed-4ab7-4aa3-e0c1-b5b8352e2836"
      },
      "execution_count": 4,
      "outputs": [
        {
          "output_type": "stream",
          "name": "stdout",
          "text": [
            "<class 'pandas.core.frame.DataFrame'>\n",
            "RangeIndex: 1094 entries, 0 to 1093\n",
            "Data columns (total 6 columns):\n",
            " #   Column         Non-Null Count  Dtype \n",
            "---  ------         --------------  ----- \n",
            " 0   Sales Person   1094 non-null   object\n",
            " 1   Country        1094 non-null   object\n",
            " 2   Product        1094 non-null   object\n",
            " 3   Date           1094 non-null   object\n",
            " 4   Amount         1094 non-null   object\n",
            " 5   Boxes Shipped  1094 non-null   int64 \n",
            "dtypes: int64(1), object(5)\n",
            "memory usage: 51.4+ KB\n"
          ]
        }
      ]
    },
    {
      "cell_type": "markdown",
      "source": [
        "8.  Are there any missing values in the dataset (e.g., in Sales Person, Country, Product, Date,\n",
        "Amount, or Boxes Shipped)? How would you handle them?\n",
        "\n",
        "  Ans: There are no missing values in the dataset. If it had, I would do\n",
        " mean or median for Numerical features and mode for Categorical features.\n",
        "\n",
        "  Justification: Prevents data loss while maintaining structure."
      ],
      "metadata": {
        "id": "9RmNPACTpM0W"
      }
    },
    {
      "cell_type": "code",
      "execution_count": 5,
      "metadata": {
        "colab": {
          "base_uri": "https://localhost:8080/",
          "height": 272
        },
        "id": "am43eaErxRKA",
        "outputId": "64a9454c-341a-4f26-9e83-664079a02a7f"
      },
      "outputs": [
        {
          "output_type": "execute_result",
          "data": {
            "text/plain": [
              "Sales Person     0\n",
              "Country          0\n",
              "Product          0\n",
              "Date             0\n",
              "Amount           0\n",
              "Boxes Shipped    0\n",
              "dtype: int64"
            ],
            "text/html": [
              "<div>\n",
              "<style scoped>\n",
              "    .dataframe tbody tr th:only-of-type {\n",
              "        vertical-align: middle;\n",
              "    }\n",
              "\n",
              "    .dataframe tbody tr th {\n",
              "        vertical-align: top;\n",
              "    }\n",
              "\n",
              "    .dataframe thead th {\n",
              "        text-align: right;\n",
              "    }\n",
              "</style>\n",
              "<table border=\"1\" class=\"dataframe\">\n",
              "  <thead>\n",
              "    <tr style=\"text-align: right;\">\n",
              "      <th></th>\n",
              "      <th>0</th>\n",
              "    </tr>\n",
              "  </thead>\n",
              "  <tbody>\n",
              "    <tr>\n",
              "      <th>Sales Person</th>\n",
              "      <td>0</td>\n",
              "    </tr>\n",
              "    <tr>\n",
              "      <th>Country</th>\n",
              "      <td>0</td>\n",
              "    </tr>\n",
              "    <tr>\n",
              "      <th>Product</th>\n",
              "      <td>0</td>\n",
              "    </tr>\n",
              "    <tr>\n",
              "      <th>Date</th>\n",
              "      <td>0</td>\n",
              "    </tr>\n",
              "    <tr>\n",
              "      <th>Amount</th>\n",
              "      <td>0</td>\n",
              "    </tr>\n",
              "    <tr>\n",
              "      <th>Boxes Shipped</th>\n",
              "      <td>0</td>\n",
              "    </tr>\n",
              "  </tbody>\n",
              "</table>\n",
              "</div><br><label><b>dtype:</b> int64</label>"
            ]
          },
          "metadata": {},
          "execution_count": 5
        }
      ],
      "source": [
        "choc_sales.isnull().sum()"
      ]
    },
    {
      "cell_type": "markdown",
      "source": [
        "Q-12. There are no duplicates, If found, would remove exact duplicates.\n",
        "\n",
        "Justification: Duplicates inflate counts and bias results — clean to ensure accuracy."
      ],
      "metadata": {
        "id": "YXld8zeTsS__"
      }
    },
    {
      "cell_type": "code",
      "execution_count": 6,
      "metadata": {
        "colab": {
          "base_uri": "https://localhost:8080/"
        },
        "id": "dh7_Jm10fW4e",
        "outputId": "00442116-d517-4d75-ac3c-b009b0d55a53"
      },
      "outputs": [
        {
          "output_type": "execute_result",
          "data": {
            "text/plain": [
              "np.int64(0)"
            ]
          },
          "metadata": {},
          "execution_count": 6
        }
      ],
      "source": [
        "choc_sales.duplicated().sum()"
      ]
    },
    {
      "cell_type": "code",
      "execution_count": 7,
      "metadata": {
        "colab": {
          "base_uri": "https://localhost:8080/"
        },
        "id": "kHMcfgd0gWEy",
        "outputId": "d3f3d0f4-2c91-42d7-e963-82b370636736"
      },
      "outputs": [
        {
          "output_type": "execute_result",
          "data": {
            "text/plain": [
              "(1094, 6)"
            ]
          },
          "metadata": {},
          "execution_count": 7
        }
      ],
      "source": [
        "choc_sales.shape"
      ]
    },
    {
      "cell_type": "code",
      "execution_count": 8,
      "metadata": {
        "colab": {
          "base_uri": "https://localhost:8080/",
          "height": 394
        },
        "id": "nsB_CuEqw1Jv",
        "outputId": "22fd3600-8460-4690-d864-9fe4bb287f01"
      },
      "outputs": [
        {
          "output_type": "execute_result",
          "data": {
            "text/plain": [
              "         Sales Person    Country  Product       Date   Amount  Boxes Shipped\n",
              "count            1094       1094     1094       1094     1094    1094.000000\n",
              "unique             25          6       22        168      827            NaN\n",
              "top     Kelci Walkden  Australia  Eclairs  30-Jun-22  $2,317             NaN\n",
              "freq               54        205       60         16        5            NaN\n",
              "mean              NaN        NaN      NaN        NaN      NaN     161.797989\n",
              "std               NaN        NaN      NaN        NaN      NaN     121.544145\n",
              "min               NaN        NaN      NaN        NaN      NaN       1.000000\n",
              "25%               NaN        NaN      NaN        NaN      NaN      70.000000\n",
              "50%               NaN        NaN      NaN        NaN      NaN     135.000000\n",
              "75%               NaN        NaN      NaN        NaN      NaN     228.750000\n",
              "max               NaN        NaN      NaN        NaN      NaN     709.000000"
            ],
            "text/html": [
              "\n",
              "  <div id=\"df-0882eb9d-dcd4-4353-8f95-8d71338fa8b2\" class=\"colab-df-container\">\n",
              "    <div>\n",
              "<style scoped>\n",
              "    .dataframe tbody tr th:only-of-type {\n",
              "        vertical-align: middle;\n",
              "    }\n",
              "\n",
              "    .dataframe tbody tr th {\n",
              "        vertical-align: top;\n",
              "    }\n",
              "\n",
              "    .dataframe thead th {\n",
              "        text-align: right;\n",
              "    }\n",
              "</style>\n",
              "<table border=\"1\" class=\"dataframe\">\n",
              "  <thead>\n",
              "    <tr style=\"text-align: right;\">\n",
              "      <th></th>\n",
              "      <th>Sales Person</th>\n",
              "      <th>Country</th>\n",
              "      <th>Product</th>\n",
              "      <th>Date</th>\n",
              "      <th>Amount</th>\n",
              "      <th>Boxes Shipped</th>\n",
              "    </tr>\n",
              "  </thead>\n",
              "  <tbody>\n",
              "    <tr>\n",
              "      <th>count</th>\n",
              "      <td>1094</td>\n",
              "      <td>1094</td>\n",
              "      <td>1094</td>\n",
              "      <td>1094</td>\n",
              "      <td>1094</td>\n",
              "      <td>1094.000000</td>\n",
              "    </tr>\n",
              "    <tr>\n",
              "      <th>unique</th>\n",
              "      <td>25</td>\n",
              "      <td>6</td>\n",
              "      <td>22</td>\n",
              "      <td>168</td>\n",
              "      <td>827</td>\n",
              "      <td>NaN</td>\n",
              "    </tr>\n",
              "    <tr>\n",
              "      <th>top</th>\n",
              "      <td>Kelci Walkden</td>\n",
              "      <td>Australia</td>\n",
              "      <td>Eclairs</td>\n",
              "      <td>30-Jun-22</td>\n",
              "      <td>$2,317</td>\n",
              "      <td>NaN</td>\n",
              "    </tr>\n",
              "    <tr>\n",
              "      <th>freq</th>\n",
              "      <td>54</td>\n",
              "      <td>205</td>\n",
              "      <td>60</td>\n",
              "      <td>16</td>\n",
              "      <td>5</td>\n",
              "      <td>NaN</td>\n",
              "    </tr>\n",
              "    <tr>\n",
              "      <th>mean</th>\n",
              "      <td>NaN</td>\n",
              "      <td>NaN</td>\n",
              "      <td>NaN</td>\n",
              "      <td>NaN</td>\n",
              "      <td>NaN</td>\n",
              "      <td>161.797989</td>\n",
              "    </tr>\n",
              "    <tr>\n",
              "      <th>std</th>\n",
              "      <td>NaN</td>\n",
              "      <td>NaN</td>\n",
              "      <td>NaN</td>\n",
              "      <td>NaN</td>\n",
              "      <td>NaN</td>\n",
              "      <td>121.544145</td>\n",
              "    </tr>\n",
              "    <tr>\n",
              "      <th>min</th>\n",
              "      <td>NaN</td>\n",
              "      <td>NaN</td>\n",
              "      <td>NaN</td>\n",
              "      <td>NaN</td>\n",
              "      <td>NaN</td>\n",
              "      <td>1.000000</td>\n",
              "    </tr>\n",
              "    <tr>\n",
              "      <th>25%</th>\n",
              "      <td>NaN</td>\n",
              "      <td>NaN</td>\n",
              "      <td>NaN</td>\n",
              "      <td>NaN</td>\n",
              "      <td>NaN</td>\n",
              "      <td>70.000000</td>\n",
              "    </tr>\n",
              "    <tr>\n",
              "      <th>50%</th>\n",
              "      <td>NaN</td>\n",
              "      <td>NaN</td>\n",
              "      <td>NaN</td>\n",
              "      <td>NaN</td>\n",
              "      <td>NaN</td>\n",
              "      <td>135.000000</td>\n",
              "    </tr>\n",
              "    <tr>\n",
              "      <th>75%</th>\n",
              "      <td>NaN</td>\n",
              "      <td>NaN</td>\n",
              "      <td>NaN</td>\n",
              "      <td>NaN</td>\n",
              "      <td>NaN</td>\n",
              "      <td>228.750000</td>\n",
              "    </tr>\n",
              "    <tr>\n",
              "      <th>max</th>\n",
              "      <td>NaN</td>\n",
              "      <td>NaN</td>\n",
              "      <td>NaN</td>\n",
              "      <td>NaN</td>\n",
              "      <td>NaN</td>\n",
              "      <td>709.000000</td>\n",
              "    </tr>\n",
              "  </tbody>\n",
              "</table>\n",
              "</div>\n",
              "    <div class=\"colab-df-buttons\">\n",
              "\n",
              "  <div class=\"colab-df-container\">\n",
              "    <button class=\"colab-df-convert\" onclick=\"convertToInteractive('df-0882eb9d-dcd4-4353-8f95-8d71338fa8b2')\"\n",
              "            title=\"Convert this dataframe to an interactive table.\"\n",
              "            style=\"display:none;\">\n",
              "\n",
              "  <svg xmlns=\"http://www.w3.org/2000/svg\" height=\"24px\" viewBox=\"0 -960 960 960\">\n",
              "    <path d=\"M120-120v-720h720v720H120Zm60-500h600v-160H180v160Zm220 220h160v-160H400v160Zm0 220h160v-160H400v160ZM180-400h160v-160H180v160Zm440 0h160v-160H620v160ZM180-180h160v-160H180v160Zm440 0h160v-160H620v160Z\"/>\n",
              "  </svg>\n",
              "    </button>\n",
              "\n",
              "  <style>\n",
              "    .colab-df-container {\n",
              "      display:flex;\n",
              "      gap: 12px;\n",
              "    }\n",
              "\n",
              "    .colab-df-convert {\n",
              "      background-color: #E8F0FE;\n",
              "      border: none;\n",
              "      border-radius: 50%;\n",
              "      cursor: pointer;\n",
              "      display: none;\n",
              "      fill: #1967D2;\n",
              "      height: 32px;\n",
              "      padding: 0 0 0 0;\n",
              "      width: 32px;\n",
              "    }\n",
              "\n",
              "    .colab-df-convert:hover {\n",
              "      background-color: #E2EBFA;\n",
              "      box-shadow: 0px 1px 2px rgba(60, 64, 67, 0.3), 0px 1px 3px 1px rgba(60, 64, 67, 0.15);\n",
              "      fill: #174EA6;\n",
              "    }\n",
              "\n",
              "    .colab-df-buttons div {\n",
              "      margin-bottom: 4px;\n",
              "    }\n",
              "\n",
              "    [theme=dark] .colab-df-convert {\n",
              "      background-color: #3B4455;\n",
              "      fill: #D2E3FC;\n",
              "    }\n",
              "\n",
              "    [theme=dark] .colab-df-convert:hover {\n",
              "      background-color: #434B5C;\n",
              "      box-shadow: 0px 1px 3px 1px rgba(0, 0, 0, 0.15);\n",
              "      filter: drop-shadow(0px 1px 2px rgba(0, 0, 0, 0.3));\n",
              "      fill: #FFFFFF;\n",
              "    }\n",
              "  </style>\n",
              "\n",
              "    <script>\n",
              "      const buttonEl =\n",
              "        document.querySelector('#df-0882eb9d-dcd4-4353-8f95-8d71338fa8b2 button.colab-df-convert');\n",
              "      buttonEl.style.display =\n",
              "        google.colab.kernel.accessAllowed ? 'block' : 'none';\n",
              "\n",
              "      async function convertToInteractive(key) {\n",
              "        const element = document.querySelector('#df-0882eb9d-dcd4-4353-8f95-8d71338fa8b2');\n",
              "        const dataTable =\n",
              "          await google.colab.kernel.invokeFunction('convertToInteractive',\n",
              "                                                    [key], {});\n",
              "        if (!dataTable) return;\n",
              "\n",
              "        const docLinkHtml = 'Like what you see? Visit the ' +\n",
              "          '<a target=\"_blank\" href=https://colab.research.google.com/notebooks/data_table.ipynb>data table notebook</a>'\n",
              "          + ' to learn more about interactive tables.';\n",
              "        element.innerHTML = '';\n",
              "        dataTable['output_type'] = 'display_data';\n",
              "        await google.colab.output.renderOutput(dataTable, element);\n",
              "        const docLink = document.createElement('div');\n",
              "        docLink.innerHTML = docLinkHtml;\n",
              "        element.appendChild(docLink);\n",
              "      }\n",
              "    </script>\n",
              "  </div>\n",
              "\n",
              "\n",
              "<div id=\"df-63299b4c-3163-46a1-8bea-811f51ec7f2e\">\n",
              "  <button class=\"colab-df-quickchart\" onclick=\"quickchart('df-63299b4c-3163-46a1-8bea-811f51ec7f2e')\"\n",
              "            title=\"Suggest charts\"\n",
              "            style=\"display:none;\">\n",
              "\n",
              "<svg xmlns=\"http://www.w3.org/2000/svg\" height=\"24px\"viewBox=\"0 0 24 24\"\n",
              "     width=\"24px\">\n",
              "    <g>\n",
              "        <path d=\"M19 3H5c-1.1 0-2 .9-2 2v14c0 1.1.9 2 2 2h14c1.1 0 2-.9 2-2V5c0-1.1-.9-2-2-2zM9 17H7v-7h2v7zm4 0h-2V7h2v10zm4 0h-2v-4h2v4z\"/>\n",
              "    </g>\n",
              "</svg>\n",
              "  </button>\n",
              "\n",
              "<style>\n",
              "  .colab-df-quickchart {\n",
              "      --bg-color: #E8F0FE;\n",
              "      --fill-color: #1967D2;\n",
              "      --hover-bg-color: #E2EBFA;\n",
              "      --hover-fill-color: #174EA6;\n",
              "      --disabled-fill-color: #AAA;\n",
              "      --disabled-bg-color: #DDD;\n",
              "  }\n",
              "\n",
              "  [theme=dark] .colab-df-quickchart {\n",
              "      --bg-color: #3B4455;\n",
              "      --fill-color: #D2E3FC;\n",
              "      --hover-bg-color: #434B5C;\n",
              "      --hover-fill-color: #FFFFFF;\n",
              "      --disabled-bg-color: #3B4455;\n",
              "      --disabled-fill-color: #666;\n",
              "  }\n",
              "\n",
              "  .colab-df-quickchart {\n",
              "    background-color: var(--bg-color);\n",
              "    border: none;\n",
              "    border-radius: 50%;\n",
              "    cursor: pointer;\n",
              "    display: none;\n",
              "    fill: var(--fill-color);\n",
              "    height: 32px;\n",
              "    padding: 0;\n",
              "    width: 32px;\n",
              "  }\n",
              "\n",
              "  .colab-df-quickchart:hover {\n",
              "    background-color: var(--hover-bg-color);\n",
              "    box-shadow: 0 1px 2px rgba(60, 64, 67, 0.3), 0 1px 3px 1px rgba(60, 64, 67, 0.15);\n",
              "    fill: var(--button-hover-fill-color);\n",
              "  }\n",
              "\n",
              "  .colab-df-quickchart-complete:disabled,\n",
              "  .colab-df-quickchart-complete:disabled:hover {\n",
              "    background-color: var(--disabled-bg-color);\n",
              "    fill: var(--disabled-fill-color);\n",
              "    box-shadow: none;\n",
              "  }\n",
              "\n",
              "  .colab-df-spinner {\n",
              "    border: 2px solid var(--fill-color);\n",
              "    border-color: transparent;\n",
              "    border-bottom-color: var(--fill-color);\n",
              "    animation:\n",
              "      spin 1s steps(1) infinite;\n",
              "  }\n",
              "\n",
              "  @keyframes spin {\n",
              "    0% {\n",
              "      border-color: transparent;\n",
              "      border-bottom-color: var(--fill-color);\n",
              "      border-left-color: var(--fill-color);\n",
              "    }\n",
              "    20% {\n",
              "      border-color: transparent;\n",
              "      border-left-color: var(--fill-color);\n",
              "      border-top-color: var(--fill-color);\n",
              "    }\n",
              "    30% {\n",
              "      border-color: transparent;\n",
              "      border-left-color: var(--fill-color);\n",
              "      border-top-color: var(--fill-color);\n",
              "      border-right-color: var(--fill-color);\n",
              "    }\n",
              "    40% {\n",
              "      border-color: transparent;\n",
              "      border-right-color: var(--fill-color);\n",
              "      border-top-color: var(--fill-color);\n",
              "    }\n",
              "    60% {\n",
              "      border-color: transparent;\n",
              "      border-right-color: var(--fill-color);\n",
              "    }\n",
              "    80% {\n",
              "      border-color: transparent;\n",
              "      border-right-color: var(--fill-color);\n",
              "      border-bottom-color: var(--fill-color);\n",
              "    }\n",
              "    90% {\n",
              "      border-color: transparent;\n",
              "      border-bottom-color: var(--fill-color);\n",
              "    }\n",
              "  }\n",
              "</style>\n",
              "\n",
              "  <script>\n",
              "    async function quickchart(key) {\n",
              "      const quickchartButtonEl =\n",
              "        document.querySelector('#' + key + ' button');\n",
              "      quickchartButtonEl.disabled = true;  // To prevent multiple clicks.\n",
              "      quickchartButtonEl.classList.add('colab-df-spinner');\n",
              "      try {\n",
              "        const charts = await google.colab.kernel.invokeFunction(\n",
              "            'suggestCharts', [key], {});\n",
              "      } catch (error) {\n",
              "        console.error('Error during call to suggestCharts:', error);\n",
              "      }\n",
              "      quickchartButtonEl.classList.remove('colab-df-spinner');\n",
              "      quickchartButtonEl.classList.add('colab-df-quickchart-complete');\n",
              "    }\n",
              "    (() => {\n",
              "      let quickchartButtonEl =\n",
              "        document.querySelector('#df-63299b4c-3163-46a1-8bea-811f51ec7f2e button');\n",
              "      quickchartButtonEl.style.display =\n",
              "        google.colab.kernel.accessAllowed ? 'block' : 'none';\n",
              "    })();\n",
              "  </script>\n",
              "</div>\n",
              "\n",
              "    </div>\n",
              "  </div>\n"
            ],
            "application/vnd.google.colaboratory.intrinsic+json": {
              "type": "dataframe",
              "summary": "{\n  \"name\": \"choc_sales\",\n  \"rows\": 11,\n  \"fields\": [\n    {\n      \"column\": \"Sales Person\",\n      \"properties\": {\n        \"dtype\": \"category\",\n        \"num_unique_values\": 4,\n        \"samples\": [\n          25,\n          \"54\",\n          \"1094\"\n        ],\n        \"semantic_type\": \"\",\n        \"description\": \"\"\n      }\n    },\n    {\n      \"column\": \"Country\",\n      \"properties\": {\n        \"dtype\": \"category\",\n        \"num_unique_values\": 4,\n        \"samples\": [\n          6,\n          \"205\",\n          \"1094\"\n        ],\n        \"semantic_type\": \"\",\n        \"description\": \"\"\n      }\n    },\n    {\n      \"column\": \"Product\",\n      \"properties\": {\n        \"dtype\": \"category\",\n        \"num_unique_values\": 4,\n        \"samples\": [\n          22,\n          \"60\",\n          \"1094\"\n        ],\n        \"semantic_type\": \"\",\n        \"description\": \"\"\n      }\n    },\n    {\n      \"column\": \"Date\",\n      \"properties\": {\n        \"dtype\": \"date\",\n        \"min\": \"1970-01-01 00:00:00.000000016\",\n        \"max\": \"2022-06-30 00:00:00\",\n        \"num_unique_values\": 4,\n        \"samples\": [\n          168,\n          \"16\",\n          \"1094\"\n        ],\n        \"semantic_type\": \"\",\n        \"description\": \"\"\n      }\n    },\n    {\n      \"column\": \"Amount\",\n      \"properties\": {\n        \"dtype\": \"category\",\n        \"num_unique_values\": 4,\n        \"samples\": [\n          827,\n          \"5\",\n          \"1094\"\n        ],\n        \"semantic_type\": \"\",\n        \"description\": \"\"\n      }\n    },\n    {\n      \"column\": \"Boxes Shipped\",\n      \"properties\": {\n        \"dtype\": \"number\",\n        \"std\": 381.9934437072297,\n        \"min\": 1.0,\n        \"max\": 1094.0,\n        \"num_unique_values\": 8,\n        \"samples\": [\n          161.7979890310786,\n          135.0,\n          1094.0\n        ],\n        \"semantic_type\": \"\",\n        \"description\": \"\"\n      }\n    }\n  ]\n}"
            }
          },
          "metadata": {},
          "execution_count": 8
        }
      ],
      "source": [
        "choc_sales.describe(include='all')"
      ]
    },
    {
      "cell_type": "code",
      "execution_count": 9,
      "metadata": {
        "colab": {
          "base_uri": "https://localhost:8080/"
        },
        "id": "0n2KzP7lF05P",
        "outputId": "70816dc8-1e86-4c48-8c20-34e4f76d8117"
      },
      "outputs": [
        {
          "output_type": "stream",
          "name": "stdout",
          "text": [
            "Sales Person\n",
            "Kelci Walkden          54\n",
            "Brien Boise            53\n",
            "Van Tuxwell            51\n",
            "Beverie Moffet         50\n",
            "Oby Sorrel             49\n",
            "Dennison Crosswaite    49\n",
            "Ches Bonnell           48\n",
            "Gigi Bohling           47\n",
            "Karlen McCaffrey       47\n",
            "Curtice Advani         46\n",
            "Madelene Upcott        45\n",
            "Kaine Padly            45\n",
            "Marney O'Breen         45\n",
            "Jehu Rudeforth         43\n",
            "Roddy Speechley        43\n",
            "Gunar Cockshoot        43\n",
            "Barr Faughny           43\n",
            "Mallorie Waber         41\n",
            "Jan Morforth           39\n",
            "Andria Kimpton         39\n",
            "Husein Augar           38\n",
            "Dotty Strutley         36\n",
            "Rafaelita Blaksland    34\n",
            "Wilone O'Kielt         34\n",
            "Camilla Castle         32\n",
            "Name: count, dtype: int64\n",
            "___________________________________________\n",
            "Country\n",
            "Australia      205\n",
            "India          184\n",
            "USA            179\n",
            "UK             178\n",
            "Canada         175\n",
            "New Zealand    173\n",
            "Name: count, dtype: int64\n",
            "___________________________________________\n",
            "Product\n",
            "Eclairs                 60\n",
            "50% Dark Bites          60\n",
            "Smooth Sliky Salty      59\n",
            "White Choc              58\n",
            "Drinking Coco           56\n",
            "Spicy Special Slims     54\n",
            "Organic Choco Syrup     52\n",
            "85% Dark Bars           50\n",
            "Fruit & Nut Bars        50\n",
            "After Nines             50\n",
            "Peanut Butter Cubes     49\n",
            "99% Dark & Pure         49\n",
            "Milk Bars               49\n",
            "Raspberry Choco         48\n",
            "Almond Choco            48\n",
            "Orange Choco            47\n",
            "Mint Chip Choco         45\n",
            "Manuka Honey Choco      45\n",
            "Caramel Stuffed Bars    43\n",
            "70% Dark Bites          42\n",
            "Baker's Choco Chips     41\n",
            "Choco Coated Almonds    39\n",
            "Name: count, dtype: int64\n",
            "___________________________________________\n",
            "Date\n",
            "30-Jun-22    16\n",
            "13-Jan-22    16\n",
            "02-Mar-22    16\n",
            "07-Jul-22    15\n",
            "04-Jul-22    14\n",
            "             ..\n",
            "18-Feb-22     1\n",
            "20-Jul-22     1\n",
            "28-Apr-22     1\n",
            "14-Jul-22     1\n",
            "20-Jan-22     1\n",
            "Name: count, Length: 168, dtype: int64\n",
            "___________________________________________\n",
            "Amount\n",
            "$2,317      5\n",
            "$2,303      4\n",
            "$4,361      4\n",
            "$3,472      4\n",
            "$3,577      4\n",
            "           ..\n",
            "$3,528      1\n",
            "$2,450      1\n",
            "$10,577     1\n",
            "$2,597      1\n",
            "$8,617      1\n",
            "Name: count, Length: 827, dtype: int64\n",
            "___________________________________________\n"
          ]
        }
      ],
      "source": [
        "col_values_all = choc_sales.select_dtypes(include=['object', 'float'])\n",
        "for col in col_values_all.columns:\n",
        "    print(col_values_all[col].value_counts())\n",
        "    print(\"___________________________________________\")"
      ]
    },
    {
      "cell_type": "markdown",
      "source": [
        "Q-9. There are no ranges given in the date column, if it did, I would extract the start or end date (typically the start date).\n",
        "\n",
        "Justification: Ranges aren't usable in time-based analysis."
      ],
      "metadata": {
        "id": "VM-06UzYs3mU"
      }
    },
    {
      "cell_type": "markdown",
      "source": [
        "Q-10. There were no negative or unrealistic values for Amount column. I have changed its datatype from Object to Numerical as it is required for performing certain predicitons."
      ],
      "metadata": {
        "id": "2Fey37t5tOl8"
      }
    },
    {
      "cell_type": "code",
      "execution_count": 10,
      "metadata": {
        "id": "vAHSUW7RHssd"
      },
      "outputs": [],
      "source": [
        "choc_sales['Amount'] = choc_sales['Amount'].replace('[\\$,]', '', regex=True).astype(float)\n"
      ]
    },
    {
      "cell_type": "code",
      "source": [
        "choc_sales['Amount'] <= 0"
      ],
      "metadata": {
        "colab": {
          "base_uri": "https://localhost:8080/",
          "height": 458
        },
        "id": "1CocE1aPLpvj",
        "outputId": "128589b9-b21e-4f1c-ad7d-e9d7e219bd47"
      },
      "execution_count": 11,
      "outputs": [
        {
          "output_type": "execute_result",
          "data": {
            "text/plain": [
              "0       False\n",
              "1       False\n",
              "2       False\n",
              "3       False\n",
              "4       False\n",
              "        ...  \n",
              "1089    False\n",
              "1090    False\n",
              "1091    False\n",
              "1092    False\n",
              "1093    False\n",
              "Name: Amount, Length: 1094, dtype: bool"
            ],
            "text/html": [
              "<div>\n",
              "<style scoped>\n",
              "    .dataframe tbody tr th:only-of-type {\n",
              "        vertical-align: middle;\n",
              "    }\n",
              "\n",
              "    .dataframe tbody tr th {\n",
              "        vertical-align: top;\n",
              "    }\n",
              "\n",
              "    .dataframe thead th {\n",
              "        text-align: right;\n",
              "    }\n",
              "</style>\n",
              "<table border=\"1\" class=\"dataframe\">\n",
              "  <thead>\n",
              "    <tr style=\"text-align: right;\">\n",
              "      <th></th>\n",
              "      <th>Amount</th>\n",
              "    </tr>\n",
              "  </thead>\n",
              "  <tbody>\n",
              "    <tr>\n",
              "      <th>0</th>\n",
              "      <td>False</td>\n",
              "    </tr>\n",
              "    <tr>\n",
              "      <th>1</th>\n",
              "      <td>False</td>\n",
              "    </tr>\n",
              "    <tr>\n",
              "      <th>2</th>\n",
              "      <td>False</td>\n",
              "    </tr>\n",
              "    <tr>\n",
              "      <th>3</th>\n",
              "      <td>False</td>\n",
              "    </tr>\n",
              "    <tr>\n",
              "      <th>4</th>\n",
              "      <td>False</td>\n",
              "    </tr>\n",
              "    <tr>\n",
              "      <th>...</th>\n",
              "      <td>...</td>\n",
              "    </tr>\n",
              "    <tr>\n",
              "      <th>1089</th>\n",
              "      <td>False</td>\n",
              "    </tr>\n",
              "    <tr>\n",
              "      <th>1090</th>\n",
              "      <td>False</td>\n",
              "    </tr>\n",
              "    <tr>\n",
              "      <th>1091</th>\n",
              "      <td>False</td>\n",
              "    </tr>\n",
              "    <tr>\n",
              "      <th>1092</th>\n",
              "      <td>False</td>\n",
              "    </tr>\n",
              "    <tr>\n",
              "      <th>1093</th>\n",
              "      <td>False</td>\n",
              "    </tr>\n",
              "  </tbody>\n",
              "</table>\n",
              "<p>1094 rows × 1 columns</p>\n",
              "</div><br><label><b>dtype:</b> bool</label>"
            ]
          },
          "metadata": {},
          "execution_count": 11
        }
      ]
    },
    {
      "cell_type": "markdown",
      "source": [
        "Q-11. I will keep it as a single category if it's 64% (Country) or 89% (Product).\n",
        "\n",
        "Justification: Breaking down \"Other\" isn't practical unless more info is available; treat as a valid category."
      ],
      "metadata": {
        "id": "4gFBAqS7ukqn"
      }
    },
    {
      "cell_type": "markdown",
      "source": [
        "**EDA:** Use visualizations (e.g., bar charts for sales by country, line plots for sales over\n",
        "time, histograms for Amount) to explore the data.\n"
      ],
      "metadata": {
        "id": "oPjMpOxyu2LE"
      }
    },
    {
      "cell_type": "code",
      "source": [
        "# Convert 'Date' column to datetime\n",
        "choc_sales['Date'] = pd.to_datetime(choc_sales['Date'])\n",
        "\n",
        "# 1. Bar Chart: Sales by Country\n",
        "plt.figure(figsize=(10, 5))\n",
        "country_sales = choc_sales.groupby('Country')['Amount'].sum().sort_values(ascending=False)\n",
        "sns.barplot(x=country_sales.index, y=country_sales.values, palette='Set2')\n",
        "plt.title('Total Sales Amount by Country')\n",
        "plt.ylabel('Total Amount')\n",
        "plt.xticks(rotation=45)\n",
        "plt.tight_layout()\n",
        "plt.show()\n",
        "\n",
        "# 2. Line Plot: Sales Over Time\n",
        "plt.figure(figsize=(14, 6))\n",
        "sales_over_time = choc_sales.groupby('Date')['Amount'].sum().sort_index()\n",
        "plt.plot(sales_over_time.index, sales_over_time.values, marker='o', linestyle='-')\n",
        "plt.title('Sales Over Time')\n",
        "plt.xlabel('Date')\n",
        "plt.ylabel('Total Amount')\n",
        "plt.xticks(rotation=45)\n",
        "plt.tight_layout()\n",
        "plt.show()\n",
        "\n",
        "# 3. Histogram: Distribution of Amount\n",
        "plt.figure(figsize=(10, 6))\n",
        "sns.histplot(choc_sales['Amount'], bins=30, kde=True, color='skyblue')\n",
        "plt.title('Distribution of Sales Amount')\n",
        "plt.xlabel('Amount')\n",
        "plt.ylabel('Frequency')\n",
        "plt.tight_layout()\n",
        "plt.show()\n"
      ],
      "metadata": {
        "colab": {
          "base_uri": "https://localhost:8080/",
          "height": 1000
        },
        "id": "4kHBNvvy0g2h",
        "outputId": "522456d2-bb65-4484-88c1-2c96aa5b006d"
      },
      "execution_count": 12,
      "outputs": [
        {
          "output_type": "display_data",
          "data": {
            "text/plain": [
              "<Figure size 1000x500 with 1 Axes>"
            ],
            "image/png": "[encoded data removed]"
          },
          "metadata": {}
        },
        {
          "output_type": "display_data",
          "data": {
            "text/plain": [
              "<Figure size 1400x600 with 1 Axes>"
            ],
            "image/png": "[encoded data removed]"
          },
          "metadata": {}
        },
        {
          "output_type": "display_data",
          "data": {
            "text/plain": [
              "<Figure size 1000x600 with 1 Axes>"
            ],
            "image/png": "[encoded data removed]"
          },
          "metadata": {}
        }
      ]
    },
    {
      "cell_type": "code",
      "source": [
        "plt.figure(figsize=(6,3))\n",
        "sns.histplot(x=choc_sales['Boxes Shipped'], kde=True)\n",
        "plt.title('Distribution of Boxes Shipped')\n",
        "plt.xlabel('Boxes Shipped')\n",
        "plt.show()"
      ],
      "metadata": {
        "colab": {
          "base_uri": "https://localhost:8080/",
          "height": 333
        },
        "id": "uUGUKP4rSYZq",
        "outputId": "c19c28c5-56e3-46ba-e4ea-05d0f66f4785"
      },
      "execution_count": 13,
      "outputs": [
        {
          "output_type": "display_data",
          "data": {
            "text/plain": [
              "<Figure size 600x300 with 1 Axes>"
            ],
            "image/png": "[encoded data removed]"
          },
          "metadata": {}
        }
      ]
    },
    {
      "cell_type": "code",
      "source": [
        "outliers_boxes = choc_sales[(choc_sales['Boxes Shipped'] < lower_bound) | (choc_sales['Boxes Shipped'] > upper_bound)]\n",
        "print(f\"Number of outliers in Boxes Shipped: {len(outliers_boxes)}\")"
      ],
      "metadata": {
        "colab": {
          "base_uri": "https://localhost:8080/"
        },
        "id": "nbL51MpV2JCo",
        "outputId": "27d0c226-7921-4eb4-951f-312c1d4b5074"
      },
      "execution_count": 16,
      "outputs": [
        {
          "output_type": "stream",
          "name": "stdout",
          "text": [
            "Number of outliers in Boxes Shipped: 0\n"
          ]
        }
      ]
    },
    {
      "cell_type": "code",
      "source": [
        "plt.figure(figsize=(6,3))\n",
        "sns.boxplot(x=choc_sales['Boxes Shipped'])\n",
        "plt.title('Boxplot of Boxes Shipped')\n",
        "plt.show()"
      ],
      "metadata": {
        "colab": {
          "base_uri": "https://localhost:8080/",
          "height": 333
        },
        "id": "r1ObqIfm2UQK",
        "outputId": "e6f9aae5-4d13-4078-c926-134154c8e0a4"
      },
      "execution_count": 17,
      "outputs": [
        {
          "output_type": "display_data",
          "data": {
            "text/plain": [
              "<Figure size 600x300 with 1 Axes>"
            ],
            "image/png": "[encoded data removed]"
          },
          "metadata": {}
        }
      ]
    },
    {
      "cell_type": "code",
      "source": [
        "choc_sales[['Boxes Shipped', 'Amount']].describe()"
      ],
      "metadata": {
        "colab": {
          "base_uri": "https://localhost:8080/",
          "height": 300
        },
        "id": "NfGhEfQj3Ct0",
        "outputId": "f453b0e0-9ae9-446f-ef24-a1c2bea0476e"
      },
      "execution_count": 18,
      "outputs": [
        {
          "output_type": "execute_result",
          "data": {
            "text/plain": [
              "       Boxes Shipped        Amount\n",
              "count    1094.000000   1094.000000\n",
              "mean      161.797989   5652.308044\n",
              "std       121.544145   4102.442014\n",
              "min         1.000000      7.000000\n",
              "25%        70.000000   2390.500000\n",
              "50%       135.000000   4868.500000\n",
              "75%       228.750000   8027.250000\n",
              "max       709.000000  22050.000000"
            ],
            "text/html": [
              "\n",
              "  <div id=\"df-b4335742-1dd2-42fb-908e-18e008b7ad20\" class=\"colab-df-container\">\n",
              "    <div>\n",
              "<style scoped>\n",
              "    .dataframe tbody tr th:only-of-type {\n",
              "        vertical-align: middle;\n",
              "    }\n",
              "\n",
              "    .dataframe tbody tr th {\n",
              "        vertical-align: top;\n",
              "    }\n",
              "\n",
              "    .dataframe thead th {\n",
              "        text-align: right;\n",
              "    }\n",
              "</style>\n",
              "<table border=\"1\" class=\"dataframe\">\n",
              "  <thead>\n",
              "    <tr style=\"text-align: right;\">\n",
              "      <th></th>\n",
              "      <th>Boxes Shipped</th>\n",
              "      <th>Amount</th>\n",
              "    </tr>\n",
              "  </thead>\n",
              "  <tbody>\n",
              "    <tr>\n",
              "      <th>count</th>\n",
              "      <td>1094.000000</td>\n",
              "      <td>1094.000000</td>\n",
              "    </tr>\n",
              "    <tr>\n",
              "      <th>mean</th>\n",
              "      <td>161.797989</td>\n",
              "      <td>5652.308044</td>\n",
              "    </tr>\n",
              "    <tr>\n",
              "      <th>std</th>\n",
              "      <td>121.544145</td>\n",
              "      <td>4102.442014</td>\n",
              "    </tr>\n",
              "    <tr>\n",
              "      <th>min</th>\n",
              "      <td>1.000000</td>\n",
              "      <td>7.000000</td>\n",
              "    </tr>\n",
              "    <tr>\n",
              "      <th>25%</th>\n",
              "      <td>70.000000</td>\n",
              "      <td>2390.500000</td>\n",
              "    </tr>\n",
              "    <tr>\n",
              "      <th>50%</th>\n",
              "      <td>135.000000</td>\n",
              "      <td>4868.500000</td>\n",
              "    </tr>\n",
              "    <tr>\n",
              "      <th>75%</th>\n",
              "      <td>228.750000</td>\n",
              "      <td>8027.250000</td>\n",
              "    </tr>\n",
              "    <tr>\n",
              "      <th>max</th>\n",
              "      <td>709.000000</td>\n",
              "      <td>22050.000000</td>\n",
              "    </tr>\n",
              "  </tbody>\n",
              "</table>\n",
              "</div>\n",
              "    <div class=\"colab-df-buttons\">\n",
              "\n",
              "  <div class=\"colab-df-container\">\n",
              "    <button class=\"colab-df-convert\" onclick=\"convertToInteractive('df-b4335742-1dd2-42fb-908e-18e008b7ad20')\"\n",
              "            title=\"Convert this dataframe to an interactive table.\"\n",
              "            style=\"display:none;\">\n",
              "\n",
              "  <svg xmlns=\"http://www.w3.org/2000/svg\" height=\"24px\" viewBox=\"0 -960 960 960\">\n",
              "    <path d=\"M120-120v-720h720v720H120Zm60-500h600v-160H180v160Zm220 220h160v-160H400v160Zm0 220h160v-160H400v160ZM180-400h160v-160H180v160Zm440 0h160v-160H620v160ZM180-180h160v-160H180v160Zm440 0h160v-160H620v160Z\"/>\n",
              "  </svg>\n",
              "    </button>\n",
              "\n",
              "  <style>\n",
              "    .colab-df-container {\n",
              "      display:flex;\n",
              "      gap: 12px;\n",
              "    }\n",
              "\n",
              "    .colab-df-convert {\n",
              "      background-color: #E8F0FE;\n",
              "      border: none;\n",
              "      border-radius: 50%;\n",
              "      cursor: pointer;\n",
              "      display: none;\n",
              "      fill: #1967D2;\n",
              "      height: 32px;\n",
              "      padding: 0 0 0 0;\n",
              "      width: 32px;\n",
              "    }\n",
              "\n",
              "    .colab-df-convert:hover {\n",
              "      background-color: #E2EBFA;\n",
              "      box-shadow: 0px 1px 2px rgba(60, 64, 67, 0.3), 0px 1px 3px 1px rgba(60, 64, 67, 0.15);\n",
              "      fill: #174EA6;\n",
              "    }\n",
              "\n",
              "    .colab-df-buttons div {\n",
              "      margin-bottom: 4px;\n",
              "    }\n",
              "\n",
              "    [theme=dark] .colab-df-convert {\n",
              "      background-color: #3B4455;\n",
              "      fill: #D2E3FC;\n",
              "    }\n",
              "\n",
              "    [theme=dark] .colab-df-convert:hover {\n",
              "      background-color: #434B5C;\n",
              "      box-shadow: 0px 1px 3px 1px rgba(0, 0, 0, 0.15);\n",
              "      filter: drop-shadow(0px 1px 2px rgba(0, 0, 0, 0.3));\n",
              "      fill: #FFFFFF;\n",
              "    }\n",
              "  </style>\n",
              "\n",
              "    <script>\n",
              "      const buttonEl =\n",
              "        document.querySelector('#df-b4335742-1dd2-42fb-908e-18e008b7ad20 button.colab-df-convert');\n",
              "      buttonEl.style.display =\n",
              "        google.colab.kernel.accessAllowed ? 'block' : 'none';\n",
              "\n",
              "      async function convertToInteractive(key) {\n",
              "        const element = document.querySelector('#df-b4335742-1dd2-42fb-908e-18e008b7ad20');\n",
              "        const dataTable =\n",
              "          await google.colab.kernel.invokeFunction('convertToInteractive',\n",
              "                                                    [key], {});\n",
              "        if (!dataTable) return;\n",
              "\n",
              "        const docLinkHtml = 'Like what you see? Visit the ' +\n",
              "          '<a target=\"_blank\" href=https://colab.research.google.com/notebooks/data_table.ipynb>data table notebook</a>'\n",
              "          + ' to learn more about interactive tables.';\n",
              "        element.innerHTML = '';\n",
              "        dataTable['output_type'] = 'display_data';\n",
              "        await google.colab.output.renderOutput(dataTable, element);\n",
              "        const docLink = document.createElement('div');\n",
              "        docLink.innerHTML = docLinkHtml;\n",
              "        element.appendChild(docLink);\n",
              "      }\n",
              "    </script>\n",
              "  </div>\n",
              "\n",
              "\n",
              "<div id=\"df-3112b06a-eede-483a-91aa-96b9c803cc35\">\n",
              "  <button class=\"colab-df-quickchart\" onclick=\"quickchart('df-3112b06a-eede-483a-91aa-96b9c803cc35')\"\n",
              "            title=\"Suggest charts\"\n",
              "            style=\"display:none;\">\n",
              "\n",
              "<svg xmlns=\"http://www.w3.org/2000/svg\" height=\"24px\"viewBox=\"0 0 24 24\"\n",
              "     width=\"24px\">\n",
              "    <g>\n",
              "        <path d=\"M19 3H5c-1.1 0-2 .9-2 2v14c0 1.1.9 2 2 2h14c1.1 0 2-.9 2-2V5c0-1.1-.9-2-2-2zM9 17H7v-7h2v7zm4 0h-2V7h2v10zm4 0h-2v-4h2v4z\"/>\n",
              "    </g>\n",
              "</svg>\n",
              "  </button>\n",
              "\n",
              "<style>\n",
              "  .colab-df-quickchart {\n",
              "      --bg-color: #E8F0FE;\n",
              "      --fill-color: #1967D2;\n",
              "      --hover-bg-color: #E2EBFA;\n",
              "      --hover-fill-color: #174EA6;\n",
              "      --disabled-fill-color: #AAA;\n",
              "      --disabled-bg-color: #DDD;\n",
              "  }\n",
              "\n",
              "  [theme=dark] .colab-df-quickchart {\n",
              "      --bg-color: #3B4455;\n",
              "      --fill-color: #D2E3FC;\n",
              "      --hover-bg-color: #434B5C;\n",
              "      --hover-fill-color: #FFFFFF;\n",
              "      --disabled-bg-color: #3B4455;\n",
              "      --disabled-fill-color: #666;\n",
              "  }\n",
              "\n",
              "  .colab-df-quickchart {\n",
              "    background-color: var(--bg-color);\n",
              "    border: none;\n",
              "    border-radius: 50%;\n",
              "    cursor: pointer;\n",
              "    display: none;\n",
              "    fill: var(--fill-color);\n",
              "    height: 32px;\n",
              "    padding: 0;\n",
              "    width: 32px;\n",
              "  }\n",
              "\n",
              "  .colab-df-quickchart:hover {\n",
              "    background-color: var(--hover-bg-color);\n",
              "    box-shadow: 0 1px 2px rgba(60, 64, 67, 0.3), 0 1px 3px 1px rgba(60, 64, 67, 0.15);\n",
              "    fill: var(--button-hover-fill-color);\n",
              "  }\n",
              "\n",
              "  .colab-df-quickchart-complete:disabled,\n",
              "  .colab-df-quickchart-complete:disabled:hover {\n",
              "    background-color: var(--disabled-bg-color);\n",
              "    fill: var(--disabled-fill-color);\n",
              "    box-shadow: none;\n",
              "  }\n",
              "\n",
              "  .colab-df-spinner {\n",
              "    border: 2px solid var(--fill-color);\n",
              "    border-color: transparent;\n",
              "    border-bottom-color: var(--fill-color);\n",
              "    animation:\n",
              "      spin 1s steps(1) infinite;\n",
              "  }\n",
              "\n",
              "  @keyframes spin {\n",
              "    0% {\n",
              "      border-color: transparent;\n",
              "      border-bottom-color: var(--fill-color);\n",
              "      border-left-color: var(--fill-color);\n",
              "    }\n",
              "    20% {\n",
              "      border-color: transparent;\n",
              "      border-left-color: var(--fill-color);\n",
              "      border-top-color: var(--fill-color);\n",
              "    }\n",
              "    30% {\n",
              "      border-color: transparent;\n",
              "      border-left-color: var(--fill-color);\n",
              "      border-top-color: var(--fill-color);\n",
              "      border-right-color: var(--fill-color);\n",
              "    }\n",
              "    40% {\n",
              "      border-color: transparent;\n",
              "      border-right-color: var(--fill-color);\n",
              "      border-top-color: var(--fill-color);\n",
              "    }\n",
              "    60% {\n",
              "      border-color: transparent;\n",
              "      border-right-color: var(--fill-color);\n",
              "    }\n",
              "    80% {\n",
              "      border-color: transparent;\n",
              "      border-right-color: var(--fill-color);\n",
              "      border-bottom-color: var(--fill-color);\n",
              "    }\n",
              "    90% {\n",
              "      border-color: transparent;\n",
              "      border-bottom-color: var(--fill-color);\n",
              "    }\n",
              "  }\n",
              "</style>\n",
              "\n",
              "  <script>\n",
              "    async function quickchart(key) {\n",
              "      const quickchartButtonEl =\n",
              "        document.querySelector('#' + key + ' button');\n",
              "      quickchartButtonEl.disabled = true;  // To prevent multiple clicks.\n",
              "      quickchartButtonEl.classList.add('colab-df-spinner');\n",
              "      try {\n",
              "        const charts = await google.colab.kernel.invokeFunction(\n",
              "            'suggestCharts', [key], {});\n",
              "      } catch (error) {\n",
              "        console.error('Error during call to suggestCharts:', error);\n",
              "      }\n",
              "      quickchartButtonEl.classList.remove('colab-df-spinner');\n",
              "      quickchartButtonEl.classList.add('colab-df-quickchart-complete');\n",
              "    }\n",
              "    (() => {\n",
              "      let quickchartButtonEl =\n",
              "        document.querySelector('#df-3112b06a-eede-483a-91aa-96b9c803cc35 button');\n",
              "      quickchartButtonEl.style.display =\n",
              "        google.colab.kernel.accessAllowed ? 'block' : 'none';\n",
              "    })();\n",
              "  </script>\n",
              "</div>\n",
              "\n",
              "    </div>\n",
              "  </div>\n"
            ],
            "application/vnd.google.colaboratory.intrinsic+json": {
              "type": "dataframe",
              "summary": "{\n  \"name\": \"choc_sales[['Boxes Shipped', 'Amount']]\",\n  \"rows\": 8,\n  \"fields\": [\n    {\n      \"column\": \"Boxes Shipped\",\n      \"properties\": {\n        \"dtype\": \"number\",\n        \"std\": 381.9934437072297,\n        \"min\": 1.0,\n        \"max\": 1094.0,\n        \"num_unique_values\": 8,\n        \"samples\": [\n          161.7979890310786,\n          135.0,\n          1094.0\n        ],\n        \"semantic_type\": \"\",\n        \"description\": \"\"\n      }\n    },\n    {\n      \"column\": \"Amount\",\n      \"properties\": {\n        \"dtype\": \"number\",\n        \"std\": 6966.480132607466,\n        \"min\": 7.0,\n        \"max\": 22050.0,\n        \"num_unique_values\": 8,\n        \"samples\": [\n          5652.308043875685,\n          4868.5,\n          1094.0\n        ],\n        \"semantic_type\": \"\",\n        \"description\": \"\"\n      }\n    }\n  ]\n}"
            }
          },
          "metadata": {},
          "execution_count": 18
        }
      ]
    },
    {
      "cell_type": "code",
      "source": [
        "import numpy as np\n",
        "\n",
        "# Function to cap outliers using IQR method\n",
        "def cap_outliers(series):\n",
        "    Q1 = series.quantile(0.25)\n",
        "    Q3 = series.quantile(0.75)\n",
        "    IQR = Q3 - Q1\n",
        "    lower_bound = Q1 - 1.5 * IQR\n",
        "    upper_bound = Q3 + 1.5 * IQR\n",
        "\n",
        "    # Cap values\n",
        "    return np.where(series < lower_bound, lower_bound,\n",
        "           np.where(series > upper_bound, upper_bound, series))\n",
        "\n",
        "# Apply capping to the columns\n",
        "choc_sales['Amount_capped'] = cap_outliers(choc_sales['Amount'])\n",
        "choc_sales['Boxes_Shipped_capped'] = cap_outliers(choc_sales['Boxes Shipped'])\n"
      ],
      "metadata": {
        "id": "IWaWZjjE5Zk6"
      },
      "execution_count": 19,
      "outputs": []
    },
    {
      "cell_type": "code",
      "source": [
        "\n",
        "\n",
        "# Amount before and after\n",
        "plt.figure(figsize=(12, 5))\n",
        "\n",
        "plt.subplot(1, 2, 1)\n",
        "sns.boxplot(x=choc_sales['Amount'])\n",
        "plt.title(\"Original Amount\")\n",
        "\n",
        "plt.subplot(1, 2, 2)\n",
        "sns.boxplot(x=choc_sales['Amount_capped'])\n",
        "plt.title(\"Capped Amount\")\n",
        "\n",
        "plt.tight_layout()\n",
        "plt.show()\n"
      ],
      "metadata": {
        "colab": {
          "base_uri": "https://localhost:8080/",
          "height": 502
        },
        "id": "7e9r34tx5dFh",
        "outputId": "aa806494-476f-4e15-9883-634bdb452157"
      },
      "execution_count": 20,
      "outputs": [
        {
          "output_type": "display_data",
          "data": {
            "text/plain": [
              "<Figure size 1200x500 with 2 Axes>"
            ],
            "image/png": "[encoded data removed]"
          },
          "metadata": {}
        }
      ]
    },
    {
      "cell_type": "code",
      "source": [
        "plt.figure(figsize=(12, 5))\n",
        "\n",
        "plt.subplot(1, 2, 1)\n",
        "sns.boxplot(x=choc_sales['Boxes Shipped'])\n",
        "plt.title(\"Original Boxes Shipped\")\n",
        "\n",
        "plt.subplot(1, 2, 2)\n",
        "sns.boxplot(x=choc_sales['Boxes_Shipped_capped'])\n",
        "plt.title(\"Capped Boxes Shipped\")\n",
        "\n",
        "plt.tight_layout()\n",
        "plt.show()"
      ],
      "metadata": {
        "colab": {
          "base_uri": "https://localhost:8080/",
          "height": 502
        },
        "id": "pOG_VU1g5nl7",
        "outputId": "39e5a7a4-5365-4bff-f221-d89d2fe3f690"
      },
      "execution_count": 21,
      "outputs": [
        {
          "output_type": "display_data",
          "data": {
            "text/plain": [
              "<Figure size 1200x500 with 2 Axes>"
            ],
            "image/png": "[encoded data removed]"
          },
          "metadata": {}
        }
      ]
    },
    {
      "cell_type": "markdown",
      "source": [
        "1.  What is the total revenue generated by each salesperson (Kelci Walkden, Brien Boise,\n",
        "and Others)? How do their performances compare?\n",
        "\n",
        "  Ans: Brien Boise generated the highest total revenue followed by Kelci Walkden. I have separately found the revenues for all the sales person in the dataset, which shows some of the sales persons are performing well and others are contributing comparatively less."
      ],
      "metadata": {
        "id": "Fm9JfFKryrpV"
      }
    },
    {
      "cell_type": "code",
      "execution_count": 22,
      "metadata": {
        "colab": {
          "base_uri": "https://localhost:8080/"
        },
        "id": "3x_Iypr2UkdR",
        "outputId": "04aeae54-1047-41b1-d988-f3a3d78b7b28"
      },
      "outputs": [
        {
          "output_type": "stream",
          "name": "stdout",
          "text": [
            "    Sales Person    Amount\n",
            "0    Brien Boise  312816.0\n",
            "1  Kelci Walkden  311710.0\n"
          ]
        }
      ],
      "source": [
        "filtered_sales = choc_sales[choc_sales['Sales Person'].isin(['Kelci Walkden', 'Brien Boise'])]\n",
        "\n",
        "salesperson_revenue = filtered_sales.groupby('Sales Person')['Amount'].sum().reset_index()\n",
        "print(salesperson_revenue)"
      ]
    },
    {
      "cell_type": "code",
      "source": [
        "unfiltered_sales = choc_sales[~choc_sales['Sales Person'].isin(['Kelci Walkden', 'Brien Boise'])]\n",
        "others_revenue = unfiltered_sales.groupby('Sales Person')['Amount'].sum().reset_index()\n",
        "print(others_revenue.sort_values(by='Amount', ascending=False))\n",
        "print('***********************')\n",
        "print('Others revenues sum: ',others_revenue['Amount'].sum())"
      ],
      "metadata": {
        "id": "154XQ7_ycN4B",
        "colab": {
          "base_uri": "https://localhost:8080/"
        },
        "outputId": "d3abbbe0-3844-4a39-a0be-d8e4a0f0be28"
      },
      "execution_count": 23,
      "outputs": [
        {
          "output_type": "stream",
          "name": "stdout",
          "text": [
            "           Sales Person    Amount\n",
            "4          Ches Bonnell  320901.0\n",
            "18           Oby Sorrel  316645.0\n",
            "15      Madelene Upcott  316099.0\n",
            "21          Van Tuxwell  303149.0\n",
            "6   Dennison Crosswaite  291669.0\n",
            "2        Beverie Moffet  278922.0\n",
            "13          Kaine Padly  266490.0\n",
            "17       Marney O'Breen  259742.0\n",
            "1          Barr Faughny  258713.0\n",
            "20      Roddy Speechley  251062.0\n",
            "9       Gunar Cockshoot  238483.0\n",
            "8          Gigi Bohling  232666.0\n",
            "14     Karlen McCaffrey  223895.0\n",
            "12       Jehu Rudeforth  220976.0\n",
            "11         Jan Morforth  219667.0\n",
            "5        Curtice Advani  216461.0\n",
            "19  Rafaelita Blaksland  210245.0\n",
            "10         Husein Augar  205212.0\n",
            "0        Andria Kimpton  201747.0\n",
            "16       Mallorie Waber  200592.0\n",
            "3        Camilla Castle  196616.0\n",
            "7        Dotty Strutley  190624.0\n",
            "22       Wilone O'Kielt  138523.0\n",
            "***********************\n",
            "Others revenues sum:  5559099.0\n"
          ]
        }
      ]
    },
    {
      "cell_type": "markdown",
      "source": [
        "2.  Which country (Australia, India, or Others) contributes the most to the total sales\n",
        "revenue? What percentage of the total revenue does it account for?\n",
        "\n",
        "  Ans: Result shows Australia contributes to the highest sale, followed by UK and India. Other values are also given."
      ],
      "metadata": {
        "id": "38QNSjPv0QQh"
      }
    },
    {
      "cell_type": "code",
      "source": [
        "known_countries = choc_sales[choc_sales['Country'].isin(['Australia', 'India'])]\n",
        "country_revenue = known_countries.groupby('Country')['Amount'].sum().reset_index()\n",
        "print(country_revenue)\n",
        "\n"
      ],
      "metadata": {
        "colab": {
          "base_uri": "https://localhost:8080/"
        },
        "id": "ViwyEHHU-uJo",
        "outputId": "17b09f79-8e6e-420b-8566-00a72e533ca5"
      },
      "execution_count": 24,
      "outputs": [
        {
          "output_type": "stream",
          "name": "stdout",
          "text": [
            "     Country     Amount\n",
            "0  Australia  1137367.0\n",
            "1      India  1045800.0\n"
          ]
        }
      ]
    },
    {
      "cell_type": "code",
      "source": [
        "countries_others = choc_sales[~choc_sales['Country'].isin(['Australia', 'India'])]\n",
        "countries_revenue = countries_others.groupby('Country')['Amount'].sum().reset_index()\n",
        "print(countries_revenue.sort_values(by='Amount', ascending=False))"
      ],
      "metadata": {
        "colab": {
          "base_uri": "https://localhost:8080/"
        },
        "id": "Qd2i-TgIAv5A",
        "outputId": "79c30f56-f081-4233-a181-83f96f3574e1"
      },
      "execution_count": 25,
      "outputs": [
        {
          "output_type": "stream",
          "name": "stdout",
          "text": [
            "       Country     Amount\n",
            "2           UK  1051792.0\n",
            "3          USA  1035349.0\n",
            "0       Canada   962899.0\n",
            "1  New Zealand   950418.0\n"
          ]
        }
      ]
    },
    {
      "cell_type": "code",
      "source": [
        "# Revenues and percentage of all the countries\n",
        "all_countries_revenue = choc_sales.groupby('Country')['Amount'].sum().reset_index()\n",
        "total_revenue = all_countries_revenue['Amount'].sum()\n",
        "\n",
        "all_countries_revenue['Percentage'] = (all_countries_revenue['Amount'] / total_revenue) * 100\n",
        "all_countries_revenue = all_countries_revenue.sort_values(by='Amount', ascending=False).reset_index(drop=True)\n",
        "\n",
        "print(all_countries_revenue)\n"
      ],
      "metadata": {
        "colab": {
          "base_uri": "https://localhost:8080/"
        },
        "id": "kY7YZtYlBnRA",
        "outputId": "7a462bcc-b852-48c0-ccf0-ebb0d521d0d8"
      },
      "execution_count": 26,
      "outputs": [
        {
          "output_type": "stream",
          "name": "stdout",
          "text": [
            "       Country     Amount  Percentage\n",
            "0    Australia  1137367.0   18.393208\n",
            "1           UK  1051792.0   17.009311\n",
            "2        India  1045800.0   16.912410\n",
            "3          USA  1035349.0   16.743399\n",
            "4       Canada   962899.0   15.571756\n",
            "5  New Zealand   950418.0   15.369917\n"
          ]
        }
      ]
    },
    {
      "cell_type": "markdown",
      "source": [
        "3.  How many unique products are sold in the dataset? Which product (e.g., 50% Dark Bites,\n",
        "Eclairs, or Others) has the highest number of transactions?\n",
        "\n",
        "  Ans: 22 unique products are sold in the dataset. Eclairs and 50% Dark Bites have the highest number of transactions."
      ],
      "metadata": {
        "id": "glrnNTnr1Bis"
      }
    },
    {
      "cell_type": "code",
      "source": [
        "# Number of unique products\n",
        "unique_products = choc_sales['Product'].nunique()\n",
        "\n",
        "# Transactions per product\n",
        "product_transactions = choc_sales['Product'].value_counts().reset_index()\n",
        "product_transactions.columns = ['Product', 'Transaction Count']\n",
        "print('Total Unique Products',unique_products)\n",
        "print('****************')\n",
        "print(product_transactions)\n"
      ],
      "metadata": {
        "colab": {
          "base_uri": "https://localhost:8080/"
        },
        "id": "SZMraHV_Eg_B",
        "outputId": "9a75f751-efbb-476f-9ca1-baa3f1cb0a34"
      },
      "execution_count": 27,
      "outputs": [
        {
          "output_type": "stream",
          "name": "stdout",
          "text": [
            "Total Unique Products 22\n",
            "****************\n",
            "                 Product  Transaction Count\n",
            "0                Eclairs                 60\n",
            "1         50% Dark Bites                 60\n",
            "2     Smooth Sliky Salty                 59\n",
            "3             White Choc                 58\n",
            "4          Drinking Coco                 56\n",
            "5    Spicy Special Slims                 54\n",
            "6    Organic Choco Syrup                 52\n",
            "7          85% Dark Bars                 50\n",
            "8       Fruit & Nut Bars                 50\n",
            "9            After Nines                 50\n",
            "10   Peanut Butter Cubes                 49\n",
            "11       99% Dark & Pure                 49\n",
            "12             Milk Bars                 49\n",
            "13       Raspberry Choco                 48\n",
            "14          Almond Choco                 48\n",
            "15          Orange Choco                 47\n",
            "16       Mint Chip Choco                 45\n",
            "17    Manuka Honey Choco                 45\n",
            "18  Caramel Stuffed Bars                 43\n",
            "19        70% Dark Bites                 42\n",
            "20   Baker's Choco Chips                 41\n",
            "21  Choco Coated Almonds                 39\n"
          ]
        }
      ]
    },
    {
      "cell_type": "markdown",
      "source": [
        "4.  What is the trend of sales over time based on the Date column? Identify the month or\n",
        "period with the highest transaction count.\n"
      ],
      "metadata": {
        "id": "UJ6S-66q1oLH"
      }
    },
    {
      "cell_type": "code",
      "source": [],
      "metadata": {
        "id": "FUreRi3e2Kvi"
      },
      "execution_count": null,
      "outputs": []
    },
    {
      "cell_type": "markdown",
      "source": [
        "5.  What is the distribution of the Amount column? Are there any outliers in the revenue\n",
        "generated per transaction (e.g., values above 638.20 or below 1.00)?\n",
        "\n",
        "  Ans: It shows skewness, means the data is not normally distributed. There are outliers in the amount column shown below."
      ],
      "metadata": {
        "id": "tzmS-Uncv3Nh"
      }
    },
    {
      "cell_type": "code",
      "execution_count": 28,
      "metadata": {
        "colab": {
          "base_uri": "https://localhost:8080/",
          "height": 333
        },
        "id": "gZMA1c1N1G3w",
        "outputId": "9a7b55ea-ebce-4f1a-ab08-eb4d1448a0f7"
      },
      "outputs": [
        {
          "output_type": "display_data",
          "data": {
            "text/plain": [
              "<Figure size 600x300 with 1 Axes>"
            ],
            "image/png": "[encoded data removed]"
          },
          "metadata": {}
        }
      ],
      "source": [
        "plt.figure(figsize=(6,3))\n",
        "sns.histplot(x=choc_sales['Amount'], kde=True)\n",
        "plt.title('Distribution of Amount')\n",
        "plt.xlabel('Amount')\n",
        "plt.show()"
      ]
    },
    {
      "cell_type": "code",
      "source": [
        "# Example for Amount\n",
        "Q1 = choc_sales['Amount'].quantile(0.25)\n",
        "Q3 = choc_sales['Amount'].quantile(0.75)\n",
        "IQR = Q3 - Q1\n",
        "lower_bound = Q1 - 1.5 * IQR\n",
        "upper_bound = Q3 + 1.5 * IQR\n",
        "\n",
        "outliers_amount = choc_sales[(choc_sales['Amount'] < lower_bound) | (choc_sales['Amount'] > upper_bound)]\n",
        "print(f\"Number of outliers in Amount: {len(outliers_amount)}\")\n"
      ],
      "metadata": {
        "colab": {
          "base_uri": "https://localhost:8080/"
        },
        "id": "n5qKA0J-10aD",
        "outputId": "18b7d821-8c34-450c-898a-6d54c518ccce"
      },
      "execution_count": null,
      "outputs": [
        {
          "output_type": "stream",
          "name": "stdout",
          "text": [
            "Number of outliers in Amount: 16\n"
          ]
        }
      ]
    },
    {
      "cell_type": "code",
      "source": [
        "plt.figure(figsize=(6,3))\n",
        "sns.boxplot(x=choc_sales['Amount'])\n",
        "plt.title('Boxplot of Amount')\n",
        "plt.show()"
      ],
      "metadata": {
        "colab": {
          "base_uri": "https://localhost:8080/",
          "height": 333
        },
        "id": "lwkgr2zo1-wa",
        "outputId": "ff80f53f-c836-45be-9c25-86a914be7722"
      },
      "execution_count": null,
      "outputs": [
        {
          "output_type": "display_data",
          "data": {
            "text/plain": [
              "<Figure size 600x300 with 1 Axes>"
            ],
            "image/png": "[encoded data removed]"
          },
          "metadata": {}
        }
      ]
    },
    {
      "cell_type": "markdown",
      "source": [
        "6.  How does the number of Boxes Shipped correlate with the Amount? Is there a strong\n",
        "relationship between these two variables?\n",
        "\n",
        "  Ans: Boxes Shipped has a very weak negative correlation with Amount. No, because the heatmap shows correlation value of -0.02."
      ],
      "metadata": {
        "id": "krm5KEhPxXMw"
      }
    },
    {
      "cell_type": "code",
      "source": [
        "correlation = choc_sales['Boxes Shipped'].corr(choc_sales['Amount'])\n",
        "print(f\"Correlation: {correlation:.2f}\")"
      ],
      "metadata": {
        "colab": {
          "base_uri": "https://localhost:8080/"
        },
        "id": "VaNQnDjvJJPb",
        "outputId": "087a94b0-de17-4c65-c0c6-c10abbdac882"
      },
      "execution_count": 31,
      "outputs": [
        {
          "output_type": "stream",
          "name": "stdout",
          "text": [
            "Correlation: -0.02\n"
          ]
        }
      ]
    },
    {
      "cell_type": "code",
      "source": [
        "plt.figure(figsize=[10,6])\n",
        "sns.heatmap(choc_sales.corr(numeric_only=True), annot=True)\n",
        "plt.show()"
      ],
      "metadata": {
        "colab": {
          "base_uri": "https://localhost:8080/",
          "height": 528
        },
        "id": "SaL16sKTJhZC",
        "outputId": "df04514f-fd16-4169-c067-f425a3b79fb1"
      },
      "execution_count": 32,
      "outputs": [
        {
          "output_type": "display_data",
          "data": {
            "text/plain": [
              "<Figure size 1000x600 with 2 Axes>"
            ],
            "image/png": "[encoded data removed]"
          },
          "metadata": {}
        }
      ]
    },
    {
      "cell_type": "code",
      "source": [
        "# Plot distribution\n",
        "sns.histplot(choc_sales['Amount'], bins=50, kde=True)\n",
        "plt.title(\"Distribution of Revenue per Transaction\")\n",
        "plt.xlabel(\"Amount\")\n",
        "plt.ylabel(\"Frequency\")\n",
        "plt.show()\n",
        "\n",
        "# Outliers\n",
        "outliers = choc_sales[(choc_sales['Amount'] > 638.20) | (choc_sales['Amount'] < 1.00)]\n",
        "print(outliers[['Date', 'Sales Person', 'Amount']])\n"
      ],
      "metadata": {
        "colab": {
          "base_uri": "https://localhost:8080/",
          "height": 715
        },
        "id": "F4FD172kFLCg",
        "outputId": "b74bde5e-fe4a-4e87-c967-39a25d22ece3"
      },
      "execution_count": null,
      "outputs": [
        {
          "output_type": "display_data",
          "data": {
            "text/plain": [
              "<Figure size 640x480 with 1 Axes>"
            ],
            "image/png": "[encoded data removed]"
          },
          "metadata": {}
        },
        {
          "output_type": "stream",
          "name": "stdout",
          "text": [
            "           Date      Sales Person   Amount\n",
            "0     04-Jan-22    Jehu Rudeforth   5320.0\n",
            "1     01-Aug-22       Van Tuxwell   7896.0\n",
            "2     07-Jul-22      Gigi Bohling   4501.0\n",
            "3     27-Apr-22      Jan Morforth  12726.0\n",
            "4     24-Feb-22    Jehu Rudeforth  13685.0\n",
            "...         ...               ...      ...\n",
            "1087  24-May-22    Beverie Moffet   3066.0\n",
            "1089  17-May-22  Karlen McCaffrey   4410.0\n",
            "1090  07-Jun-22    Jehu Rudeforth   6559.0\n",
            "1092  28-Jul-22    Dotty Strutley   2086.0\n",
            "1093  23-May-22  Karlen McCaffrey   5075.0\n",
            "\n",
            "[1023 rows x 3 columns]\n"
          ]
        }
      ]
    },
    {
      "cell_type": "markdown",
      "source": [
        "7.  Which salesperson shipped the most boxes of chocolate? Does this align with their total\n",
        "revenue contribution?\n",
        "\n",
        "  Ans: Karlen McCaffrey shipped the most boxes of chocolate overall. However, this does not align with total revenue contribution, as the correlation between Boxes Shipped and Amount is very weak (-0.02). This suggests that shipping more boxes does not necessarily lead to higher revenue — likely due to differences in product pricing or order sizes."
      ],
      "metadata": {
        "id": "GJ7Derx83KCq"
      }
    },
    {
      "cell_type": "code",
      "source": [
        "boxes_shipped = choc_sales.groupby('Sales Person')['Boxes Shipped'].sum().reset_index()\n",
        "print(\"Top by Boxes shipped:\\n\",boxes_shipped.sort_values(by='Boxes Shipped', ascending=False).head(1))"
      ],
      "metadata": {
        "colab": {
          "base_uri": "https://localhost:8080/"
        },
        "id": "Ao0c5L02KZ4r",
        "outputId": "884f5cfd-3f36-4ff1-d25c-d8859b8aeffe"
      },
      "execution_count": 33,
      "outputs": [
        {
          "output_type": "stream",
          "name": "stdout",
          "text": [
            "Top by Boxes shipped:\n",
            "         Sales Person  Boxes Shipped\n",
            "15  Karlen McCaffrey           9658\n"
          ]
        }
      ]
    },
    {
      "cell_type": "markdown",
      "source": [
        "13. Based on the dataset, which salesperson should the chocolate company recognize as the\n",
        "top performer? Justify your answer using revenue and boxes shipped.\n",
        "\n",
        "  Ans: Ches Bonnell of the dataset is recognized as the top performer because of the revenue generated. Boxes shipped is of less importance as far as revenue is concerned."
      ],
      "metadata": {
        "id": "8G8ErwTT4u8i"
      }
    },
    {
      "cell_type": "code",
      "source": [
        "revenue_per_person = choc_sales.groupby('Sales Person')['Amount'].sum().reset_index()\n",
        "top_revenue_person = revenue_per_person.sort_values(by='Amount', ascending=False).head(1)\n",
        "\n",
        "print(\"Top by Revenue:\\n\", top_revenue_person)"
      ],
      "metadata": {
        "colab": {
          "base_uri": "https://localhost:8080/"
        },
        "id": "LOT2gy7jKo2x",
        "outputId": "8ba40fbd-1627-41c0-bb69-4039d3ae806c"
      },
      "execution_count": 34,
      "outputs": [
        {
          "output_type": "stream",
          "name": "stdout",
          "text": [
            "Top by Revenue:\n",
            "    Sales Person    Amount\n",
            "5  Ches Bonnell  320901.0\n"
          ]
        }
      ]
    },
    {
      "cell_type": "code",
      "source": [
        "comparison = pd.merge(boxes_shipped, revenue_per_person, on='Sales Person')\n",
        "\n",
        "# Sort by revenue or boxes (as needed)\n",
        "comparison_sorted = comparison.sort_values(by='Amount', ascending=False).reset_index(drop=True)\n",
        "\n",
        "print(comparison_sorted)"
      ],
      "metadata": {
        "colab": {
          "base_uri": "https://localhost:8080/"
        },
        "id": "79p7tCJvM7_k",
        "outputId": "d52813bf-b08b-465a-ae5f-7a3bdda80f0a"
      },
      "execution_count": 35,
      "outputs": [
        {
          "output_type": "stream",
          "name": "stdout",
          "text": [
            "           Sales Person  Boxes Shipped    Amount\n",
            "0          Ches Bonnell           7522  320901.0\n",
            "1            Oby Sorrel           8608  316645.0\n",
            "2       Madelene Upcott           7279  316099.0\n",
            "3           Brien Boise           8102  312816.0\n",
            "4         Kelci Walkden           8702  311710.0\n",
            "5           Van Tuxwell           6799  303149.0\n",
            "6   Dennison Crosswaite           8767  291669.0\n",
            "7        Beverie Moffet           9214  278922.0\n",
            "8           Kaine Padly           7253  266490.0\n",
            "9        Marney O'Breen           8043  259742.0\n",
            "10         Barr Faughny           6366  258713.0\n",
            "11      Roddy Speechley           6899  251062.0\n",
            "12      Gunar Cockshoot           6677  238483.0\n",
            "13         Gigi Bohling           6303  232666.0\n",
            "14     Karlen McCaffrey           9658  223895.0\n",
            "15       Jehu Rudeforth           7246  220976.0\n",
            "16         Jan Morforth           7661  219667.0\n",
            "17       Curtice Advani           7074  216461.0\n",
            "18  Rafaelita Blaksland           4297  210245.0\n",
            "19         Husein Augar           5849  205212.0\n",
            "20       Andria Kimpton           6448  201747.0\n",
            "21       Mallorie Waber           5980  200592.0\n",
            "22       Camilla Castle           5374  196616.0\n",
            "23       Dotty Strutley           6853  190624.0\n",
            "24       Wilone O'Kielt           4033  138523.0\n"
          ]
        }
      ]
    },
    {
      "cell_type": "markdown",
      "source": [
        "14. Which country should the company focus on for expanding its chocolate sales? Support\n",
        "your recommendation with data.\n",
        "\n",
        "  Ans: The company should focus on Australia for expanding its chocolate sales, as it currently generates the highest total revenue among all countries.\n",
        "\n",
        "  The United Kingdom and India follow in 2nd and 3rd place, showing strong market potential as well. These three countries together likely represent the most profitable customer base.\n",
        "\n",
        "  In contrast, the USA, Canada, and New Zealand rank lower (4th to 6th), indicating either smaller markets or underperformance. Therefore, focusing on top-performing countries like Australia ensures the company builds on proven demand and revenue potential."
      ],
      "metadata": {
        "id": "1WnQ3pvq5rxL"
      }
    },
    {
      "cell_type": "code",
      "source": [
        "top_country = choc_sales.groupby('Country')['Amount'].sum()\n",
        "print(top_country.sort_values(ascending=False))\n"
      ],
      "metadata": {
        "colab": {
          "base_uri": "https://localhost:8080/"
        },
        "id": "e82IJjKBPxXu",
        "outputId": "70f5858e-0104-4c3e-90bc-73d2002aa5a2"
      },
      "execution_count": 36,
      "outputs": [
        {
          "output_type": "stream",
          "name": "stdout",
          "text": [
            "Country\n",
            "Australia      1137367.0\n",
            "UK             1051792.0\n",
            "India          1045800.0\n",
            "USA            1035349.0\n",
            "Canada          962899.0\n",
            "New Zealand     950418.0\n",
            "Name: Amount, dtype: float64\n"
          ]
        }
      ]
    },
    {
      "cell_type": "markdown",
      "source": [
        "15. What insights can you provide about the popularity of chocolate products (e.g., 50% Dark\n",
        "Bites vs. Eclairs)? How can the company use this to adjust its production or marketing\n",
        "strategy?\n",
        "\n",
        "  Ans: The company should maintain balanced production across these top products to meet demand.\n",
        "\n",
        "  Marketing efforts can focus on highlighting the unique appeal of each — for example, promoting the indulgence of Eclairs, the richness of 50% Dark Bites, and the novelty of Smooth Silky Salty.\n",
        "\n",
        "  Since customer interest is fairly evenly distributed, the company can also consider bundle offers or cross-promotions among these top items to boost overall sales."
      ],
      "metadata": {
        "id": "JWYQnkKr6oow"
      }
    },
    {
      "cell_type": "code",
      "source": [
        "# Product transaction count\n",
        "product_count = choc_sales['Product'].value_counts().reset_index()\n",
        "product_count.columns = ['Product', 'Transaction Count']\n",
        "\n",
        "# Revenue by product\n",
        "product_revenue = choc_sales.groupby('Product')['Amount'].sum().reset_index()\n",
        "\n",
        "# Comparison\n",
        "product_stats = pd.merge(product_count, product_revenue, on='Product')\n",
        "product_stats = product_stats.sort_values(by='Transaction Count', ascending=False)\n",
        "\n",
        "print(product_stats.head())\n"
      ],
      "metadata": {
        "colab": {
          "base_uri": "https://localhost:8080/"
        },
        "id": "8PWfXJa1q_jp",
        "outputId": "d7e82a93-3862-45e8-db2a-3e6fe8b6f9f8"
      },
      "execution_count": 37,
      "outputs": [
        {
          "output_type": "stream",
          "name": "stdout",
          "text": [
            "              Product  Transaction Count    Amount\n",
            "0             Eclairs                 60  312445.0\n",
            "1      50% Dark Bites                 60  341712.0\n",
            "2  Smooth Sliky Salty                 59  349692.0\n",
            "3          White Choc                 58  329147.0\n",
            "4       Drinking Coco                 56  256655.0\n"
          ]
        }
      ]
    },
    {
      "cell_type": "markdown",
      "source": [
        "16. Are there seasonal patterns in chocolate sales (e.g., higher sales in certain months)? How\n",
        "can the business use this information for inventory planning?\n",
        "\n",
        "  Ans: Increase inventory and production in the months leading up to January and June to meet expected demand.\n",
        "\n",
        "  Plan targeted marketing campaigns during these peak months to maximize revenue.\n",
        "\n",
        "  Adjust staffing and logistics to handle higher order volumes during these seasons."
      ],
      "metadata": {
        "id": "KoTL3sI87XL_"
      }
    },
    {
      "cell_type": "code",
      "source": [
        "# Extract month\n",
        "choc_sales['Date'] = pd.to_datetime(choc_sales['Date'])\n",
        "choc_sales['Month'] = choc_sales['Date'].dt.month\n",
        "\n",
        "# Group by month\n",
        "monthly_sales = choc_sales.groupby('Month')['Amount'].sum().reset_index()\n",
        "\n",
        "# Plotting trend\n",
        "import matplotlib.pyplot as plt\n",
        "import seaborn as sns\n",
        "\n",
        "sns.lineplot(x='Month', y='Amount', data=monthly_sales)\n",
        "plt.title(\"Monthly Chocolate Sales Trend\")\n",
        "plt.xlabel(\"Month\")\n",
        "plt.ylabel(\"Total Revenue\")\n",
        "plt.xticks(range(1, 13))\n",
        "plt.show()\n"
      ],
      "metadata": {
        "colab": {
          "base_uri": "https://localhost:8080/",
          "height": 472
        },
        "id": "nRKIYUgxsJEz",
        "outputId": "85062bde-4638-4b9a-fa0c-bec47ea33c7d"
      },
      "execution_count": 38,
      "outputs": [
        {
          "output_type": "display_data",
          "data": {
            "text/plain": [
              "<Figure size 640x480 with 1 Axes>"
            ],
            "image/png": "[encoded data removed]"
          },
          "metadata": {}
        }
      ]
    },
    {
      "cell_type": "markdown",
      "source": [
        "17. If the company wants to increase revenue by 20%, how many additional boxes of\n",
        "chocolate would need to be shipped, assuming the current average revenue per box\n",
        "remains constant?\n",
        "\n",
        "  Ans: Additional boxes needed to increase revenue by 20%: 35401.4"
      ],
      "metadata": {
        "id": "zxS42qO58Bhq"
      }
    },
    {
      "cell_type": "code",
      "source": [
        "# Current totals\n",
        "current_revenue = choc_sales['Amount'].sum()\n",
        "current_boxes = choc_sales['Boxes Shipped'].sum()\n",
        "print(f\"Current Revenue: ${current_revenue:.2f}\")\n",
        "print(f\"Current Boxes Shipped: {current_boxes:.2f}\")\n",
        "\n",
        "# Average revenue per box\n",
        "revenue_per_box = current_revenue / current_boxes\n",
        "print(f'Revenue per Box: {revenue_per_box:.2f}')\n",
        "\n",
        "# Target revenue\n",
        "target_revenue = current_revenue * 1.20\n",
        "print(f'Target Revenue: {target_revenue:.2f}')\n",
        "\n",
        "# Additional revenue needed\n",
        "additional_revenue_needed = target_revenue - current_revenue\n",
        "print(f'Additional Revenue Needed: {additional_revenue_needed:.2f}')\n",
        "# Boxes needed\n",
        "additional_boxes = additional_revenue_needed / revenue_per_box\n",
        "print('Additional boxes needed to increase revenue by 20%:', additional_boxes)\n",
        "\n",
        "\n"
      ],
      "metadata": {
        "colab": {
          "base_uri": "https://localhost:8080/"
        },
        "id": "1h9odhMdt3Li",
        "outputId": "206d9691-f094-481f-dbd0-4985b997c60f"
      },
      "execution_count": 39,
      "outputs": [
        {
          "output_type": "stream",
          "name": "stdout",
          "text": [
            "Current Revenue: $6183625.00\n",
            "Current Boxes Shipped: 177007.00\n",
            "Revenue per Box: 34.93\n",
            "Target Revenue: 7420350.00\n",
            "Additional Revenue Needed: 1236725.00\n",
            "Additional boxes needed to increase revenue by 20%: 35401.4\n"
          ]
        }
      ]
    },
    {
      "cell_type": "markdown",
      "source": [
        "18. Suppose you want to predict whether a transaction will generate \"High\" revenue (e.g.,\n",
        "Amount > 355.00) or \"Low\" revenue (e.g., Amount ≤ 355.00). How would you\n",
        "preprocess the dataset (e.g., encoding categorical variables like Sales Person, Country,\n",
        "Product) for use in KNN, Decision Tree, Logistic Regression, and Random Forest\n",
        "models?\n"
      ],
      "metadata": {
        "id": "CddVqjDU-z0f"
      }
    },
    {
      "cell_type": "code",
      "source": [
        "choc_sales['Revenue_Label'] = choc_sales['Amount'].apply(lambda x: 'High' if x > 355 else 'Low')\n"
      ],
      "metadata": {
        "id": "NlL4fdRyaj-f"
      },
      "execution_count": 40,
      "outputs": []
    },
    {
      "cell_type": "code",
      "source": [
        "from sklearn.preprocessing import OneHotEncoder\n",
        "import pandas as pd\n",
        "\n",
        "features_cat = choc_sales[['Country', 'Product', 'Sales Person']]\n",
        "encoded_features = pd.get_dummies(features_cat, drop_first=True)\n"
      ],
      "metadata": {
        "id": "8zzHIaYxcGLX"
      },
      "execution_count": 41,
      "outputs": []
    },
    {
      "cell_type": "code",
      "source": [
        "# scaling features for KNN and LR\n",
        "from sklearn.preprocessing import StandardScaler\n",
        "\n",
        "scaler = StandardScaler()\n",
        "scaled_features = scaler.fit_transform(encoded_features)\n"
      ],
      "metadata": {
        "id": "qOyS5h38cUy-"
      },
      "execution_count": 42,
      "outputs": []
    },
    {
      "cell_type": "code",
      "source": [
        "box_features_cat = choc_sales[['Country', 'Product','Boxes Shipped']]\n",
        "#encoded_box_features = pd.get_dummies(box_features_cat, drop_first=True)\n",
        "\n",
        "# One-hot encode categorical columns\n",
        "df_encoded = pd.get_dummies(box_features_cat, columns=['Country', 'Product'])\n",
        "\n",
        "from sklearn.preprocessing import MinMaxScaler\n",
        "\n",
        "scaler = MinMaxScaler()\n",
        "df_encoded[['Boxes Shipped']] = scaler.fit_transform(df_encoded[['Boxes Shipped']])"
      ],
      "metadata": {
        "id": "mWmgKeV-8x1o"
      },
      "execution_count": 51,
      "outputs": []
    },
    {
      "cell_type": "markdown",
      "source": [
        "19. Train a KNN classifier to predict whether a transaction is \"High\" or \"Low\" revenue based\n",
        "on features like Boxes Shipped, Country, and Product. What value of K would you\n",
        "choose, and why?\n",
        "\n",
        "  Ans: I would choose K value to be odd (3 in this case ) and the highest as far as the accuracy result is concerned. I choose k=5 because after this value, accuracy of the model is stable. So there is no need to choose k>5."
      ],
      "metadata": {
        "id": "EM9qANYy-_Dy"
      }
    },
    {
      "cell_type": "code",
      "source": [
        "from sklearn.neighbors import KNeighborsClassifier\n",
        "from sklearn.model_selection import train_test_split\n",
        "from sklearn.metrics import classification_report\n",
        "\n",
        "X_train, X_test, y_train, y_test = train_test_split(df_encoded, choc_sales['Revenue_Label'], test_size=0.2, random_state=42)\n"
      ],
      "metadata": {
        "id": "yqZG7aMBc5xh"
      },
      "execution_count": 52,
      "outputs": []
    },
    {
      "cell_type": "code",
      "source": [
        "from sklearn.metrics import accuracy_score\n",
        "\n",
        "for k in range(1, 20):\n",
        "    knn = KNeighborsClassifier(n_neighbors=k)\n",
        "    knn.fit(X_train, y_train)\n",
        "    y_pred = knn.predict(X_test)\n",
        "    print(f'K={k}, Accuracy={accuracy_score(y_test, y_pred):.4f}')\n"
      ],
      "metadata": {
        "colab": {
          "base_uri": "https://localhost:8080/"
        },
        "id": "iyded6GOdbdX",
        "outputId": "e76115ff-21fd-4dda-cbdf-645cffb9419c"
      },
      "execution_count": 53,
      "outputs": [
        {
          "output_type": "stream",
          "name": "stdout",
          "text": [
            "K=1, Accuracy=0.9452\n",
            "K=2, Accuracy=0.9817\n",
            "K=3, Accuracy=0.9817\n",
            "K=4, Accuracy=0.9817\n",
            "K=5, Accuracy=0.9817\n",
            "K=6, Accuracy=0.9817\n",
            "K=7, Accuracy=0.9817\n",
            "K=8, Accuracy=0.9817\n",
            "K=9, Accuracy=0.9817\n",
            "K=10, Accuracy=0.9817\n",
            "K=11, Accuracy=0.9817\n",
            "K=12, Accuracy=0.9817\n",
            "K=13, Accuracy=0.9817\n",
            "K=14, Accuracy=0.9817\n",
            "K=15, Accuracy=0.9817\n",
            "K=16, Accuracy=0.9817\n",
            "K=17, Accuracy=0.9817\n",
            "K=18, Accuracy=0.9817\n",
            "K=19, Accuracy=0.9817\n"
          ]
        }
      ]
    },
    {
      "cell_type": "markdown",
      "source": [
        "20. Build a Decision Tree Classifier to predict the same \"High\" vs. \"Low\" revenue outcome.\n",
        "Which feature (e.g., Boxes Shipped, Country, Sales Person) is the most important in\n",
        "splitting the data? How do you interpret this?\n",
        "\n",
        "  Ans: Interpretation:\n",
        "\n",
        "  'Boxes Shipped' has an importance of 0.52, meaning it was responsible for 52% of the decision-making in the tree.\n",
        "\n",
        "  This tells us that the number of boxes shipped is by far the most decisive factor in determining whether revenue is High or Low.\n",
        "\n",
        "  Categorical features like Country and Product do help, but to a much lesser extent."
      ],
      "metadata": {
        "id": "PeGt3MlqDYsL"
      }
    },
    {
      "cell_type": "code",
      "source": [
        "from sklearn.tree import DecisionTreeClassifier\n",
        "\n",
        "dt = DecisionTreeClassifier(random_state=42)\n",
        "dt.fit(X_train, y_train)\n"
      ],
      "metadata": {
        "colab": {
          "base_uri": "https://localhost:8080/",
          "height": 80
        },
        "id": "foOzi5KAd08O",
        "outputId": "d568ff51-d8c5-422a-c5ed-536092883260"
      },
      "execution_count": 54,
      "outputs": [
        {
          "output_type": "execute_result",
          "data": {
            "text/plain": [
              "DecisionTreeClassifier(random_state=42)"
            ],
            "text/html": [
              "<style>#sk-container-id-1 {\n",
              "  /* Definition of color scheme common for light and dark mode */\n",
              "  --sklearn-color-text: #000;\n",
              "  --sklearn-color-text-muted: #666;\n",
              "  --sklearn-color-line: gray;\n",
              "  /* Definition of color scheme for unfitted estimators */\n",
              "  --sklearn-color-unfitted-level-0: #fff5e6;\n",
              "  --sklearn-color-unfitted-level-1: #f6e4d2;\n",
              "  --sklearn-color-unfitted-level-2: #ffe0b3;\n",
              "  --sklearn-color-unfitted-level-3: chocolate;\n",
              "  /* Definition of color scheme for fitted estimators */\n",
              "  --sklearn-color-fitted-level-0: #f0f8ff;\n",
              "  --sklearn-color-fitted-level-1: #d4ebff;\n",
              "  --sklearn-color-fitted-level-2: #b3dbfd;\n",
              "  --sklearn-color-fitted-level-3: cornflowerblue;\n",
              "\n",
              "  /* Specific color for light theme */\n",
              "  --sklearn-color-text-on-default-background: var(--sg-text-color, var(--theme-code-foreground, var(--jp-content-font-color1, black)));\n",
              "  --sklearn-color-background: var(--sg-background-color, var(--theme-background, var(--jp-layout-color0, white)));\n",
              "  --sklearn-color-border-box: var(--sg-text-color, var(--theme-code-foreground, var(--jp-content-font-color1, black)));\n",
              "  --sklearn-color-icon: #696969;\n",
              "\n",
              "  @media (prefers-color-scheme: dark) {\n",
              "    /* Redefinition of color scheme for dark theme */\n",
              "    --sklearn-color-text-on-default-background: var(--sg-text-color, var(--theme-code-foreground, var(--jp-content-font-color1, white)));\n",
              "    --sklearn-color-background: var(--sg-background-color, var(--theme-background, var(--jp-layout-color0, #111)));\n",
              "    --sklearn-color-border-box: var(--sg-text-color, var(--theme-code-foreground, var(--jp-content-font-color1, white)));\n",
              "    --sklearn-color-icon: #878787;\n",
              "  }\n",
              "}\n",
              "\n",
              "#sk-container-id-1 {\n",
              "  color: var(--sklearn-color-text);\n",
              "}\n",
              "\n",
              "#sk-container-id-1 pre {\n",
              "  padding: 0;\n",
              "}\n",
              "\n",
              "#sk-container-id-1 input.sk-hidden--visually {\n",
              "  border: 0;\n",
              "  clip: rect(1px 1px 1px 1px);\n",
              "  clip: rect(1px, 1px, 1px, 1px);\n",
              "  height: 1px;\n",
              "  margin: -1px;\n",
              "  overflow: hidden;\n",
              "  padding: 0;\n",
              "  position: absolute;\n",
              "  width: 1px;\n",
              "}\n",
              "\n",
              "#sk-container-id-1 div.sk-dashed-wrapped {\n",
              "  border: 1px dashed var(--sklearn-color-line);\n",
              "  margin: 0 0.4em 0.5em 0.4em;\n",
              "  box-sizing: border-box;\n",
              "  padding-bottom: 0.4em;\n",
              "  background-color: var(--sklearn-color-background);\n",
              "}\n",
              "\n",
              "#sk-container-id-1 div.sk-container {\n",
              "  /* jupyter's `normalize.less` sets `[hidden] { display: none; }`\n",
              "     but bootstrap.min.css set `[hidden] { display: none !important; }`\n",
              "     so we also need the `!important` here to be able to override the\n",
              "     default hidden behavior on the sphinx rendered scikit-learn.org.\n",
              "     See: https://github.com/scikit-learn/scikit-learn/issues/21755 */\n",
              "  display: inline-block !important;\n",
              "  position: relative;\n",
              "}\n",
              "\n",
              "#sk-container-id-1 div.sk-text-repr-fallback {\n",
              "  display: none;\n",
              "}\n",
              "\n",
              "div.sk-parallel-item,\n",
              "div.sk-serial,\n",
              "div.sk-item {\n",
              "  /* draw centered vertical line to link estimators */\n",
              "  background-image: linear-gradient(var(--sklearn-color-text-on-default-background), var(--sklearn-color-text-on-default-background));\n",
              "  background-size: 2px 100%;\n",
              "  background-repeat: no-repeat;\n",
              "  background-position: center center;\n",
              "}\n",
              "\n",
              "/* Parallel-specific style estimator block */\n",
              "\n",
              "#sk-container-id-1 div.sk-parallel-item::after {\n",
              "  content: \"\";\n",
              "  width: 100%;\n",
              "  border-bottom: 2px solid var(--sklearn-color-text-on-default-background);\n",
              "  flex-grow: 1;\n",
              "}\n",
              "\n",
              "#sk-container-id-1 div.sk-parallel {\n",
              "  display: flex;\n",
              "  align-items: stretch;\n",
              "  justify-content: center;\n",
              "  background-color: var(--sklearn-color-background);\n",
              "  position: relative;\n",
              "}\n",
              "\n",
              "#sk-container-id-1 div.sk-parallel-item {\n",
              "  display: flex;\n",
              "  flex-direction: column;\n",
              "}\n",
              "\n",
              "#sk-container-id-1 div.sk-parallel-item:first-child::after {\n",
              "  align-self: flex-end;\n",
              "  width: 50%;\n",
              "}\n",
              "\n",
              "#sk-container-id-1 div.sk-parallel-item:last-child::after {\n",
              "  align-self: flex-start;\n",
              "  width: 50%;\n",
              "}\n",
              "\n",
              "#sk-container-id-1 div.sk-parallel-item:only-child::after {\n",
              "  width: 0;\n",
              "}\n",
              "\n",
              "/* Serial-specific style estimator block */\n",
              "\n",
              "#sk-container-id-1 div.sk-serial {\n",
              "  display: flex;\n",
              "  flex-direction: column;\n",
              "  align-items: center;\n",
              "  background-color: var(--sklearn-color-background);\n",
              "  padding-right: 1em;\n",
              "  padding-left: 1em;\n",
              "}\n",
              "\n",
              "\n",
              "/* Toggleable style: style used for estimator/Pipeline/ColumnTransformer box that is\n",
              "clickable and can be expanded/collapsed.\n",
              "- Pipeline and ColumnTransformer use this feature and define the default style\n",
              "- Estimators will overwrite some part of the style using the `sk-estimator` class\n",
              "*/\n",
              "\n",
              "/* Pipeline and ColumnTransformer style (default) */\n",
              "\n",
              "#sk-container-id-1 div.sk-toggleable {\n",
              "  /* Default theme specific background. It is overwritten whether we have a\n",
              "  specific estimator or a Pipeline/ColumnTransformer */\n",
              "  background-color: var(--sklearn-color-background);\n",
              "}\n",
              "\n",
              "/* Toggleable label */\n",
              "#sk-container-id-1 label.sk-toggleable__label {\n",
              "  cursor: pointer;\n",
              "  display: flex;\n",
              "  width: 100%;\n",
              "  margin-bottom: 0;\n",
              "  padding: 0.5em;\n",
              "  box-sizing: border-box;\n",
              "  text-align: center;\n",
              "  align-items: start;\n",
              "  justify-content: space-between;\n",
              "  gap: 0.5em;\n",
              "}\n",
              "\n",
              "#sk-container-id-1 label.sk-toggleable__label .caption {\n",
              "  font-size: 0.6rem;\n",
              "  font-weight: lighter;\n",
              "  color: var(--sklearn-color-text-muted);\n",
              "}\n",
              "\n",
              "#sk-container-id-1 label.sk-toggleable__label-arrow:before {\n",
              "  /* Arrow on the left of the label */\n",
              "  content: \"▸\";\n",
              "  float: left;\n",
              "  margin-right: 0.25em;\n",
              "  color: var(--sklearn-color-icon);\n",
              "}\n",
              "\n",
              "#sk-container-id-1 label.sk-toggleable__label-arrow:hover:before {\n",
              "  color: var(--sklearn-color-text);\n",
              "}\n",
              "\n",
              "/* Toggleable content - dropdown */\n",
              "\n",
              "#sk-container-id-1 div.sk-toggleable__content {\n",
              "  max-height: 0;\n",
              "  max-width: 0;\n",
              "  overflow: hidden;\n",
              "  text-align: left;\n",
              "  /* unfitted */\n",
              "  background-color: var(--sklearn-color-unfitted-level-0);\n",
              "}\n",
              "\n",
              "#sk-container-id-1 div.sk-toggleable__content.fitted {\n",
              "  /* fitted */\n",
              "  background-color: var(--sklearn-color-fitted-level-0);\n",
              "}\n",
              "\n",
              "#sk-container-id-1 div.sk-toggleable__content pre {\n",
              "  margin: 0.2em;\n",
              "  border-radius: 0.25em;\n",
              "  color: var(--sklearn-color-text);\n",
              "  /* unfitted */\n",
              "  background-color: var(--sklearn-color-unfitted-level-0);\n",
              "}\n",
              "\n",
              "#sk-container-id-1 div.sk-toggleable__content.fitted pre {\n",
              "  /* unfitted */\n",
              "  background-color: var(--sklearn-color-fitted-level-0);\n",
              "}\n",
              "\n",
              "#sk-container-id-1 input.sk-toggleable__control:checked~div.sk-toggleable__content {\n",
              "  /* Expand drop-down */\n",
              "  max-height: 200px;\n",
              "  max-width: 100%;\n",
              "  overflow: auto;\n",
              "}\n",
              "\n",
              "#sk-container-id-1 input.sk-toggleable__control:checked~label.sk-toggleable__label-arrow:before {\n",
              "  content: \"▾\";\n",
              "}\n",
              "\n",
              "/* Pipeline/ColumnTransformer-specific style */\n",
              "\n",
              "#sk-container-id-1 div.sk-label input.sk-toggleable__control:checked~label.sk-toggleable__label {\n",
              "  color: var(--sklearn-color-text);\n",
              "  background-color: var(--sklearn-color-unfitted-level-2);\n",
              "}\n",
              "\n",
              "#sk-container-id-1 div.sk-label.fitted input.sk-toggleable__control:checked~label.sk-toggleable__label {\n",
              "  background-color: var(--sklearn-color-fitted-level-2);\n",
              "}\n",
              "\n",
              "/* Estimator-specific style */\n",
              "\n",
              "/* Colorize estimator box */\n",
              "#sk-container-id-1 div.sk-estimator input.sk-toggleable__control:checked~label.sk-toggleable__label {\n",
              "  /* unfitted */\n",
              "  background-color: var(--sklearn-color-unfitted-level-2);\n",
              "}\n",
              "\n",
              "#sk-container-id-1 div.sk-estimator.fitted input.sk-toggleable__control:checked~label.sk-toggleable__label {\n",
              "  /* fitted */\n",
              "  background-color: var(--sklearn-color-fitted-level-2);\n",
              "}\n",
              "\n",
              "#sk-container-id-1 div.sk-label label.sk-toggleable__label,\n",
              "#sk-container-id-1 div.sk-label label {\n",
              "  /* The background is the default theme color */\n",
              "  color: var(--sklearn-color-text-on-default-background);\n",
              "}\n",
              "\n",
              "/* On hover, darken the color of the background */\n",
              "#sk-container-id-1 div.sk-label:hover label.sk-toggleable__label {\n",
              "  color: var(--sklearn-color-text);\n",
              "  background-color: var(--sklearn-color-unfitted-level-2);\n",
              "}\n",
              "\n",
              "/* Label box, darken color on hover, fitted */\n",
              "#sk-container-id-1 div.sk-label.fitted:hover label.sk-toggleable__label.fitted {\n",
              "  color: var(--sklearn-color-text);\n",
              "  background-color: var(--sklearn-color-fitted-level-2);\n",
              "}\n",
              "\n",
              "/* Estimator label */\n",
              "\n",
              "#sk-container-id-1 div.sk-label label {\n",
              "  font-family: monospace;\n",
              "  font-weight: bold;\n",
              "  display: inline-block;\n",
              "  line-height: 1.2em;\n",
              "}\n",
              "\n",
              "#sk-container-id-1 div.sk-label-container {\n",
              "  text-align: center;\n",
              "}\n",
              "\n",
              "/* Estimator-specific */\n",
              "#sk-container-id-1 div.sk-estimator {\n",
              "  font-family: monospace;\n",
              "  border: 1px dotted var(--sklearn-color-border-box);\n",
              "  border-radius: 0.25em;\n",
              "  box-sizing: border-box;\n",
              "  margin-bottom: 0.5em;\n",
              "  /* unfitted */\n",
              "  background-color: var(--sklearn-color-unfitted-level-0);\n",
              "}\n",
              "\n",
              "#sk-container-id-1 div.sk-estimator.fitted {\n",
              "  /* fitted */\n",
              "  background-color: var(--sklearn-color-fitted-level-0);\n",
              "}\n",
              "\n",
              "/* on hover */\n",
              "#sk-container-id-1 div.sk-estimator:hover {\n",
              "  /* unfitted */\n",
              "  background-color: var(--sklearn-color-unfitted-level-2);\n",
              "}\n",
              "\n",
              "#sk-container-id-1 div.sk-estimator.fitted:hover {\n",
              "  /* fitted */\n",
              "  background-color: var(--sklearn-color-fitted-level-2);\n",
              "}\n",
              "\n",
              "/* Specification for estimator info (e.g. \"i\" and \"?\") */\n",
              "\n",
              "/* Common style for \"i\" and \"?\" */\n",
              "\n",
              ".sk-estimator-doc-link,\n",
              "a:link.sk-estimator-doc-link,\n",
              "a:visited.sk-estimator-doc-link {\n",
              "  float: right;\n",
              "  font-size: smaller;\n",
              "  line-height: 1em;\n",
              "  font-family: monospace;\n",
              "  background-color: var(--sklearn-color-background);\n",
              "  border-radius: 1em;\n",
              "  height: 1em;\n",
              "  width: 1em;\n",
              "  text-decoration: none !important;\n",
              "  margin-left: 0.5em;\n",
              "  text-align: center;\n",
              "  /* unfitted */\n",
              "  border: var(--sklearn-color-unfitted-level-1) 1pt solid;\n",
              "  color: var(--sklearn-color-unfitted-level-1);\n",
              "}\n",
              "\n",
              ".sk-estimator-doc-link.fitted,\n",
              "a:link.sk-estimator-doc-link.fitted,\n",
              "a:visited.sk-estimator-doc-link.fitted {\n",
              "  /* fitted */\n",
              "  border: var(--sklearn-color-fitted-level-1) 1pt solid;\n",
              "  color: var(--sklearn-color-fitted-level-1);\n",
              "}\n",
              "\n",
              "/* On hover */\n",
              "div.sk-estimator:hover .sk-estimator-doc-link:hover,\n",
              ".sk-estimator-doc-link:hover,\n",
              "div.sk-label-container:hover .sk-estimator-doc-link:hover,\n",
              ".sk-estimator-doc-link:hover {\n",
              "  /* unfitted */\n",
              "  background-color: var(--sklearn-color-unfitted-level-3);\n",
              "  color: var(--sklearn-color-background);\n",
              "  text-decoration: none;\n",
              "}\n",
              "\n",
              "div.sk-estimator.fitted:hover .sk-estimator-doc-link.fitted:hover,\n",
              ".sk-estimator-doc-link.fitted:hover,\n",
              "div.sk-label-container:hover .sk-estimator-doc-link.fitted:hover,\n",
              ".sk-estimator-doc-link.fitted:hover {\n",
              "  /* fitted */\n",
              "  background-color: var(--sklearn-color-fitted-level-3);\n",
              "  color: var(--sklearn-color-background);\n",
              "  text-decoration: none;\n",
              "}\n",
              "\n",
              "/* Span, style for the box shown on hovering the info icon */\n",
              ".sk-estimator-doc-link span {\n",
              "  display: none;\n",
              "  z-index: 9999;\n",
              "  position: relative;\n",
              "  font-weight: normal;\n",
              "  right: .2ex;\n",
              "  padding: .5ex;\n",
              "  margin: .5ex;\n",
              "  width: min-content;\n",
              "  min-width: 20ex;\n",
              "  max-width: 50ex;\n",
              "  color: var(--sklearn-color-text);\n",
              "  box-shadow: 2pt 2pt 4pt #999;\n",
              "  /* unfitted */\n",
              "  background: var(--sklearn-color-unfitted-level-0);\n",
              "  border: .5pt solid var(--sklearn-color-unfitted-level-3);\n",
              "}\n",
              "\n",
              ".sk-estimator-doc-link.fitted span {\n",
              "  /* fitted */\n",
              "  background: var(--sklearn-color-fitted-level-0);\n",
              "  border: var(--sklearn-color-fitted-level-3);\n",
              "}\n",
              "\n",
              ".sk-estimator-doc-link:hover span {\n",
              "  display: block;\n",
              "}\n",
              "\n",
              "/* \"?\"-specific style due to the `<a>` HTML tag */\n",
              "\n",
              "#sk-container-id-1 a.estimator_doc_link {\n",
              "  float: right;\n",
              "  font-size: 1rem;\n",
              "  line-height: 1em;\n",
              "  font-family: monospace;\n",
              "  background-color: var(--sklearn-color-background);\n",
              "  border-radius: 1rem;\n",
              "  height: 1rem;\n",
              "  width: 1rem;\n",
              "  text-decoration: none;\n",
              "  /* unfitted */\n",
              "  color: var(--sklearn-color-unfitted-level-1);\n",
              "  border: var(--sklearn-color-unfitted-level-1) 1pt solid;\n",
              "}\n",
              "\n",
              "#sk-container-id-1 a.estimator_doc_link.fitted {\n",
              "  /* fitted */\n",
              "  border: var(--sklearn-color-fitted-level-1) 1pt solid;\n",
              "  color: var(--sklearn-color-fitted-level-1);\n",
              "}\n",
              "\n",
              "/* On hover */\n",
              "#sk-container-id-1 a.estimator_doc_link:hover {\n",
              "  /* unfitted */\n",
              "  background-color: var(--sklearn-color-unfitted-level-3);\n",
              "  color: var(--sklearn-color-background);\n",
              "  text-decoration: none;\n",
              "}\n",
              "\n",
              "#sk-container-id-1 a.estimator_doc_link.fitted:hover {\n",
              "  /* fitted */\n",
              "  background-color: var(--sklearn-color-fitted-level-3);\n",
              "}\n",
              "</style><div id=\"sk-container-id-1\" class=\"sk-top-container\"><div class=\"sk-text-repr-fallback\"><pre>DecisionTreeClassifier(random_state=42)</pre><b>In a Jupyter environment, please rerun this cell to show the HTML representation or trust the notebook. <br />On GitHub, the HTML representation is unable to render, please try loading this page with nbviewer.org.</b></div><div class=\"sk-container\" hidden><div class=\"sk-item\"><div class=\"sk-estimator fitted sk-toggleable\"><input class=\"sk-toggleable__control sk-hidden--visually\" id=\"sk-estimator-id-1\" type=\"checkbox\" checked><label for=\"sk-estimator-id-1\" class=\"sk-toggleable__label fitted sk-toggleable__label-arrow\"><div><div>DecisionTreeClassifier</div></div><div><a class=\"sk-estimator-doc-link fitted\" rel=\"noreferrer\" target=\"_blank\" href=\"https://scikit-learn.org/1.6/modules/generated/sklearn.tree.DecisionTreeClassifier.html\">?<span>Documentation for DecisionTreeClassifier</span></a><span class=\"sk-estimator-doc-link fitted\">i<span>Fitted</span></span></div></label><div class=\"sk-toggleable__content fitted\"><pre>DecisionTreeClassifier(random_state=42)</pre></div> </div></div></div></div>"
            ]
          },
          "metadata": {},
          "execution_count": 54
        }
      ]
    },
    {
      "cell_type": "code",
      "source": [
        "dt.fit(X_train, y_train)\n",
        "y_pred = dt.predict(X_test)\n",
        "print(f'Accuracy={accuracy_score(y_test, y_pred):.4f}')"
      ],
      "metadata": {
        "colab": {
          "base_uri": "https://localhost:8080/"
        },
        "id": "2sgDZphrfsja",
        "outputId": "59c90e28-6034-4571-8874-31d53e272923"
      },
      "execution_count": 55,
      "outputs": [
        {
          "output_type": "stream",
          "name": "stdout",
          "text": [
            "Accuracy=0.9361\n"
          ]
        }
      ]
    },
    {
      "cell_type": "code",
      "source": [
        "from sklearn.metrics import classification_report\n",
        "\n",
        "print(classification_report(y_test, y_pred))\n",
        "\n",
        "importances = pd.Series(dt.feature_importances_, index=df_encoded.columns)\n",
        "importances = importances.sort_values(ascending=False)\n",
        "print(\"\\nFeature Importances:\")\n",
        "print(importances)\n"
      ],
      "metadata": {
        "colab": {
          "base_uri": "https://localhost:8080/"
        },
        "id": "-AJW98O-CVr6",
        "outputId": "3bfea35e-c9b7-4a77-8281-9f15a8374328"
      },
      "execution_count": 57,
      "outputs": [
        {
          "output_type": "stream",
          "name": "stdout",
          "text": [
            "              precision    recall  f1-score   support\n",
            "\n",
            "        High       0.98      0.95      0.97       215\n",
            "         Low       0.00      0.00      0.00         4\n",
            "\n",
            "    accuracy                           0.94       219\n",
            "   macro avg       0.49      0.48      0.48       219\n",
            "weighted avg       0.96      0.94      0.95       219\n",
            "\n",
            "\n",
            "Feature Importances:\n",
            "Boxes Shipped                   0.519694\n",
            "Country_USA                     0.073234\n",
            "Country_New Zealand             0.063056\n",
            "Country_UK                      0.055577\n",
            "Product_Spicy Special Slims     0.055464\n",
            "Country_India                   0.046599\n",
            "Country_Australia               0.040443\n",
            "Country_Canada                  0.035514\n",
            "Product_Fruit & Nut Bars        0.029945\n",
            "Product_Choco Coated Almonds    0.015302\n",
            "Product_Milk Bars               0.012844\n",
            "Product_Smooth Sliky Salty      0.009823\n",
            "Product_70% Dark Bites          0.007158\n",
            "Product_After Nines             0.006477\n",
            "Product_Orange Choco            0.004619\n",
            "Product_Drinking Coco           0.004210\n",
            "Product_Baker's Choco Chips     0.003374\n",
            "Product_Mint Chip Choco         0.003319\n",
            "Product_99% Dark & Pure         0.003201\n",
            "Product_Manuka Honey Choco      0.002823\n",
            "Product_50% Dark Bites          0.002685\n",
            "Product_Caramel Stuffed Bars    0.002331\n",
            "Product_Organic Choco Syrup     0.001159\n",
            "Product_Almond Choco            0.001149\n",
            "Product_85% Dark Bars           0.000000\n",
            "Product_Eclairs                 0.000000\n",
            "Product_Peanut Butter Cubes     0.000000\n",
            "Product_Raspberry Choco         0.000000\n",
            "Product_White Choc              0.000000\n",
            "dtype: float64\n"
          ]
        }
      ]
    },
    {
      "cell_type": "markdown",
      "source": [
        "21. Use Logistic Regression to predict the probability of a transaction being \"High\" revenue.\n",
        "How do the coefficients of the model help you understand the impact of Boxes Shipped\n",
        "on revenue?\n",
        "   \n",
        "  Ans: The positive coefficient (0.462451) means that as more boxes are shipped, the likelihood of a transaction resulting in High revenue increases. While not extremely strong, this effect is significant enough to show that the quantity of boxes shipped plays an important role in driving revenue."
      ],
      "metadata": {
        "id": "OrM497n5GwLm"
      }
    },
    {
      "cell_type": "code",
      "source": [
        "from sklearn.linear_model import LogisticRegression\n",
        "\n",
        "lr = LogisticRegression()\n",
        "lr.fit(X_train, y_train)\n"
      ],
      "metadata": {
        "colab": {
          "base_uri": "https://localhost:8080/",
          "height": 80
        },
        "id": "THWeH1PcfhZg",
        "outputId": "88bd3622-27dd-4ef4-8cc2-49c25c228ec8"
      },
      "execution_count": 58,
      "outputs": [
        {
          "output_type": "execute_result",
          "data": {
            "text/plain": [
              "LogisticRegression()"
            ],
            "text/html": [
              "<style>#sk-container-id-2 {\n",
              "  /* Definition of color scheme common for light and dark mode */\n",
              "  --sklearn-color-text: #000;\n",
              "  --sklearn-color-text-muted: #666;\n",
              "  --sklearn-color-line: gray;\n",
              "  /* Definition of color scheme for unfitted estimators */\n",
              "  --sklearn-color-unfitted-level-0: #fff5e6;\n",
              "  --sklearn-color-unfitted-level-1: #f6e4d2;\n",
              "  --sklearn-color-unfitted-level-2: #ffe0b3;\n",
              "  --sklearn-color-unfitted-level-3: chocolate;\n",
              "  /* Definition of color scheme for fitted estimators */\n",
              "  --sklearn-color-fitted-level-0: #f0f8ff;\n",
              "  --sklearn-color-fitted-level-1: #d4ebff;\n",
              "  --sklearn-color-fitted-level-2: #b3dbfd;\n",
              "  --sklearn-color-fitted-level-3: cornflowerblue;\n",
              "\n",
              "  /* Specific color for light theme */\n",
              "  --sklearn-color-text-on-default-background: var(--sg-text-color, var(--theme-code-foreground, var(--jp-content-font-color1, black)));\n",
              "  --sklearn-color-background: var(--sg-background-color, var(--theme-background, var(--jp-layout-color0, white)));\n",
              "  --sklearn-color-border-box: var(--sg-text-color, var(--theme-code-foreground, var(--jp-content-font-color1, black)));\n",
              "  --sklearn-color-icon: #696969;\n",
              "\n",
              "  @media (prefers-color-scheme: dark) {\n",
              "    /* Redefinition of color scheme for dark theme */\n",
              "    --sklearn-color-text-on-default-background: var(--sg-text-color, var(--theme-code-foreground, var(--jp-content-font-color1, white)));\n",
              "    --sklearn-color-background: var(--sg-background-color, var(--theme-background, var(--jp-layout-color0, #111)));\n",
              "    --sklearn-color-border-box: var(--sg-text-color, var(--theme-code-foreground, var(--jp-content-font-color1, white)));\n",
              "    --sklearn-color-icon: #878787;\n",
              "  }\n",
              "}\n",
              "\n",
              "#sk-container-id-2 {\n",
              "  color: var(--sklearn-color-text);\n",
              "}\n",
              "\n",
              "#sk-container-id-2 pre {\n",
              "  padding: 0;\n",
              "}\n",
              "\n",
              "#sk-container-id-2 input.sk-hidden--visually {\n",
              "  border: 0;\n",
              "  clip: rect(1px 1px 1px 1px);\n",
              "  clip: rect(1px, 1px, 1px, 1px);\n",
              "  height: 1px;\n",
              "  margin: -1px;\n",
              "  overflow: hidden;\n",
              "  padding: 0;\n",
              "  position: absolute;\n",
              "  width: 1px;\n",
              "}\n",
              "\n",
              "#sk-container-id-2 div.sk-dashed-wrapped {\n",
              "  border: 1px dashed var(--sklearn-color-line);\n",
              "  margin: 0 0.4em 0.5em 0.4em;\n",
              "  box-sizing: border-box;\n",
              "  padding-bottom: 0.4em;\n",
              "  background-color: var(--sklearn-color-background);\n",
              "}\n",
              "\n",
              "#sk-container-id-2 div.sk-container {\n",
              "  /* jupyter's `normalize.less` sets `[hidden] { display: none; }`\n",
              "     but bootstrap.min.css set `[hidden] { display: none !important; }`\n",
              "     so we also need the `!important` here to be able to override the\n",
              "     default hidden behavior on the sphinx rendered scikit-learn.org.\n",
              "     See: https://github.com/scikit-learn/scikit-learn/issues/21755 */\n",
              "  display: inline-block !important;\n",
              "  position: relative;\n",
              "}\n",
              "\n",
              "#sk-container-id-2 div.sk-text-repr-fallback {\n",
              "  display: none;\n",
              "}\n",
              "\n",
              "div.sk-parallel-item,\n",
              "div.sk-serial,\n",
              "div.sk-item {\n",
              "  /* draw centered vertical line to link estimators */\n",
              "  background-image: linear-gradient(var(--sklearn-color-text-on-default-background), var(--sklearn-color-text-on-default-background));\n",
              "  background-size: 2px 100%;\n",
              "  background-repeat: no-repeat;\n",
              "  background-position: center center;\n",
              "}\n",
              "\n",
              "/* Parallel-specific style estimator block */\n",
              "\n",
              "#sk-container-id-2 div.sk-parallel-item::after {\n",
              "  content: \"\";\n",
              "  width: 100%;\n",
              "  border-bottom: 2px solid var(--sklearn-color-text-on-default-background);\n",
              "  flex-grow: 1;\n",
              "}\n",
              "\n",
              "#sk-container-id-2 div.sk-parallel {\n",
              "  display: flex;\n",
              "  align-items: stretch;\n",
              "  justify-content: center;\n",
              "  background-color: var(--sklearn-color-background);\n",
              "  position: relative;\n",
              "}\n",
              "\n",
              "#sk-container-id-2 div.sk-parallel-item {\n",
              "  display: flex;\n",
              "  flex-direction: column;\n",
              "}\n",
              "\n",
              "#sk-container-id-2 div.sk-parallel-item:first-child::after {\n",
              "  align-self: flex-end;\n",
              "  width: 50%;\n",
              "}\n",
              "\n",
              "#sk-container-id-2 div.sk-parallel-item:last-child::after {\n",
              "  align-self: flex-start;\n",
              "  width: 50%;\n",
              "}\n",
              "\n",
              "#sk-container-id-2 div.sk-parallel-item:only-child::after {\n",
              "  width: 0;\n",
              "}\n",
              "\n",
              "/* Serial-specific style estimator block */\n",
              "\n",
              "#sk-container-id-2 div.sk-serial {\n",
              "  display: flex;\n",
              "  flex-direction: column;\n",
              "  align-items: center;\n",
              "  background-color: var(--sklearn-color-background);\n",
              "  padding-right: 1em;\n",
              "  padding-left: 1em;\n",
              "}\n",
              "\n",
              "\n",
              "/* Toggleable style: style used for estimator/Pipeline/ColumnTransformer box that is\n",
              "clickable and can be expanded/collapsed.\n",
              "- Pipeline and ColumnTransformer use this feature and define the default style\n",
              "- Estimators will overwrite some part of the style using the `sk-estimator` class\n",
              "*/\n",
              "\n",
              "/* Pipeline and ColumnTransformer style (default) */\n",
              "\n",
              "#sk-container-id-2 div.sk-toggleable {\n",
              "  /* Default theme specific background. It is overwritten whether we have a\n",
              "  specific estimator or a Pipeline/ColumnTransformer */\n",
              "  background-color: var(--sklearn-color-background);\n",
              "}\n",
              "\n",
              "/* Toggleable label */\n",
              "#sk-container-id-2 label.sk-toggleable__label {\n",
              "  cursor: pointer;\n",
              "  display: flex;\n",
              "  width: 100%;\n",
              "  margin-bottom: 0;\n",
              "  padding: 0.5em;\n",
              "  box-sizing: border-box;\n",
              "  text-align: center;\n",
              "  align-items: start;\n",
              "  justify-content: space-between;\n",
              "  gap: 0.5em;\n",
              "}\n",
              "\n",
              "#sk-container-id-2 label.sk-toggleable__label .caption {\n",
              "  font-size: 0.6rem;\n",
              "  font-weight: lighter;\n",
              "  color: var(--sklearn-color-text-muted);\n",
              "}\n",
              "\n",
              "#sk-container-id-2 label.sk-toggleable__label-arrow:before {\n",
              "  /* Arrow on the left of the label */\n",
              "  content: \"▸\";\n",
              "  float: left;\n",
              "  margin-right: 0.25em;\n",
              "  color: var(--sklearn-color-icon);\n",
              "}\n",
              "\n",
              "#sk-container-id-2 label.sk-toggleable__label-arrow:hover:before {\n",
              "  color: var(--sklearn-color-text);\n",
              "}\n",
              "\n",
              "/* Toggleable content - dropdown */\n",
              "\n",
              "#sk-container-id-2 div.sk-toggleable__content {\n",
              "  max-height: 0;\n",
              "  max-width: 0;\n",
              "  overflow: hidden;\n",
              "  text-align: left;\n",
              "  /* unfitted */\n",
              "  background-color: var(--sklearn-color-unfitted-level-0);\n",
              "}\n",
              "\n",
              "#sk-container-id-2 div.sk-toggleable__content.fitted {\n",
              "  /* fitted */\n",
              "  background-color: var(--sklearn-color-fitted-level-0);\n",
              "}\n",
              "\n",
              "#sk-container-id-2 div.sk-toggleable__content pre {\n",
              "  margin: 0.2em;\n",
              "  border-radius: 0.25em;\n",
              "  color: var(--sklearn-color-text);\n",
              "  /* unfitted */\n",
              "  background-color: var(--sklearn-color-unfitted-level-0);\n",
              "}\n",
              "\n",
              "#sk-container-id-2 div.sk-toggleable__content.fitted pre {\n",
              "  /* unfitted */\n",
              "  background-color: var(--sklearn-color-fitted-level-0);\n",
              "}\n",
              "\n",
              "#sk-container-id-2 input.sk-toggleable__control:checked~div.sk-toggleable__content {\n",
              "  /* Expand drop-down */\n",
              "  max-height: 200px;\n",
              "  max-width: 100%;\n",
              "  overflow: auto;\n",
              "}\n",
              "\n",
              "#sk-container-id-2 input.sk-toggleable__control:checked~label.sk-toggleable__label-arrow:before {\n",
              "  content: \"▾\";\n",
              "}\n",
              "\n",
              "/* Pipeline/ColumnTransformer-specific style */\n",
              "\n",
              "#sk-container-id-2 div.sk-label input.sk-toggleable__control:checked~label.sk-toggleable__label {\n",
              "  color: var(--sklearn-color-text);\n",
              "  background-color: var(--sklearn-color-unfitted-level-2);\n",
              "}\n",
              "\n",
              "#sk-container-id-2 div.sk-label.fitted input.sk-toggleable__control:checked~label.sk-toggleable__label {\n",
              "  background-color: var(--sklearn-color-fitted-level-2);\n",
              "}\n",
              "\n",
              "/* Estimator-specific style */\n",
              "\n",
              "/* Colorize estimator box */\n",
              "#sk-container-id-2 div.sk-estimator input.sk-toggleable__control:checked~label.sk-toggleable__label {\n",
              "  /* unfitted */\n",
              "  background-color: var(--sklearn-color-unfitted-level-2);\n",
              "}\n",
              "\n",
              "#sk-container-id-2 div.sk-estimator.fitted input.sk-toggleable__control:checked~label.sk-toggleable__label {\n",
              "  /* fitted */\n",
              "  background-color: var(--sklearn-color-fitted-level-2);\n",
              "}\n",
              "\n",
              "#sk-container-id-2 div.sk-label label.sk-toggleable__label,\n",
              "#sk-container-id-2 div.sk-label label {\n",
              "  /* The background is the default theme color */\n",
              "  color: var(--sklearn-color-text-on-default-background);\n",
              "}\n",
              "\n",
              "/* On hover, darken the color of the background */\n",
              "#sk-container-id-2 div.sk-label:hover label.sk-toggleable__label {\n",
              "  color: var(--sklearn-color-text);\n",
              "  background-color: var(--sklearn-color-unfitted-level-2);\n",
              "}\n",
              "\n",
              "/* Label box, darken color on hover, fitted */\n",
              "#sk-container-id-2 div.sk-label.fitted:hover label.sk-toggleable__label.fitted {\n",
              "  color: var(--sklearn-color-text);\n",
              "  background-color: var(--sklearn-color-fitted-level-2);\n",
              "}\n",
              "\n",
              "/* Estimator label */\n",
              "\n",
              "#sk-container-id-2 div.sk-label label {\n",
              "  font-family: monospace;\n",
              "  font-weight: bold;\n",
              "  display: inline-block;\n",
              "  line-height: 1.2em;\n",
              "}\n",
              "\n",
              "#sk-container-id-2 div.sk-label-container {\n",
              "  text-align: center;\n",
              "}\n",
              "\n",
              "/* Estimator-specific */\n",
              "#sk-container-id-2 div.sk-estimator {\n",
              "  font-family: monospace;\n",
              "  border: 1px dotted var(--sklearn-color-border-box);\n",
              "  border-radius: 0.25em;\n",
              "  box-sizing: border-box;\n",
              "  margin-bottom: 0.5em;\n",
              "  /* unfitted */\n",
              "  background-color: var(--sklearn-color-unfitted-level-0);\n",
              "}\n",
              "\n",
              "#sk-container-id-2 div.sk-estimator.fitted {\n",
              "  /* fitted */\n",
              "  background-color: var(--sklearn-color-fitted-level-0);\n",
              "}\n",
              "\n",
              "/* on hover */\n",
              "#sk-container-id-2 div.sk-estimator:hover {\n",
              "  /* unfitted */\n",
              "  background-color: var(--sklearn-color-unfitted-level-2);\n",
              "}\n",
              "\n",
              "#sk-container-id-2 div.sk-estimator.fitted:hover {\n",
              "  /* fitted */\n",
              "  background-color: var(--sklearn-color-fitted-level-2);\n",
              "}\n",
              "\n",
              "/* Specification for estimator info (e.g. \"i\" and \"?\") */\n",
              "\n",
              "/* Common style for \"i\" and \"?\" */\n",
              "\n",
              ".sk-estimator-doc-link,\n",
              "a:link.sk-estimator-doc-link,\n",
              "a:visited.sk-estimator-doc-link {\n",
              "  float: right;\n",
              "  font-size: smaller;\n",
              "  line-height: 1em;\n",
              "  font-family: monospace;\n",
              "  background-color: var(--sklearn-color-background);\n",
              "  border-radius: 1em;\n",
              "  height: 1em;\n",
              "  width: 1em;\n",
              "  text-decoration: none !important;\n",
              "  margin-left: 0.5em;\n",
              "  text-align: center;\n",
              "  /* unfitted */\n",
              "  border: var(--sklearn-color-unfitted-level-1) 1pt solid;\n",
              "  color: var(--sklearn-color-unfitted-level-1);\n",
              "}\n",
              "\n",
              ".sk-estimator-doc-link.fitted,\n",
              "a:link.sk-estimator-doc-link.fitted,\n",
              "a:visited.sk-estimator-doc-link.fitted {\n",
              "  /* fitted */\n",
              "  border: var(--sklearn-color-fitted-level-1) 1pt solid;\n",
              "  color: var(--sklearn-color-fitted-level-1);\n",
              "}\n",
              "\n",
              "/* On hover */\n",
              "div.sk-estimator:hover .sk-estimator-doc-link:hover,\n",
              ".sk-estimator-doc-link:hover,\n",
              "div.sk-label-container:hover .sk-estimator-doc-link:hover,\n",
              ".sk-estimator-doc-link:hover {\n",
              "  /* unfitted */\n",
              "  background-color: var(--sklearn-color-unfitted-level-3);\n",
              "  color: var(--sklearn-color-background);\n",
              "  text-decoration: none;\n",
              "}\n",
              "\n",
              "div.sk-estimator.fitted:hover .sk-estimator-doc-link.fitted:hover,\n",
              ".sk-estimator-doc-link.fitted:hover,\n",
              "div.sk-label-container:hover .sk-estimator-doc-link.fitted:hover,\n",
              ".sk-estimator-doc-link.fitted:hover {\n",
              "  /* fitted */\n",
              "  background-color: var(--sklearn-color-fitted-level-3);\n",
              "  color: var(--sklearn-color-background);\n",
              "  text-decoration: none;\n",
              "}\n",
              "\n",
              "/* Span, style for the box shown on hovering the info icon */\n",
              ".sk-estimator-doc-link span {\n",
              "  display: none;\n",
              "  z-index: 9999;\n",
              "  position: relative;\n",
              "  font-weight: normal;\n",
              "  right: .2ex;\n",
              "  padding: .5ex;\n",
              "  margin: .5ex;\n",
              "  width: min-content;\n",
              "  min-width: 20ex;\n",
              "  max-width: 50ex;\n",
              "  color: var(--sklearn-color-text);\n",
              "  box-shadow: 2pt 2pt 4pt #999;\n",
              "  /* unfitted */\n",
              "  background: var(--sklearn-color-unfitted-level-0);\n",
              "  border: .5pt solid var(--sklearn-color-unfitted-level-3);\n",
              "}\n",
              "\n",
              ".sk-estimator-doc-link.fitted span {\n",
              "  /* fitted */\n",
              "  background: var(--sklearn-color-fitted-level-0);\n",
              "  border: var(--sklearn-color-fitted-level-3);\n",
              "}\n",
              "\n",
              ".sk-estimator-doc-link:hover span {\n",
              "  display: block;\n",
              "}\n",
              "\n",
              "/* \"?\"-specific style due to the `<a>` HTML tag */\n",
              "\n",
              "#sk-container-id-2 a.estimator_doc_link {\n",
              "  float: right;\n",
              "  font-size: 1rem;\n",
              "  line-height: 1em;\n",
              "  font-family: monospace;\n",
              "  background-color: var(--sklearn-color-background);\n",
              "  border-radius: 1rem;\n",
              "  height: 1rem;\n",
              "  width: 1rem;\n",
              "  text-decoration: none;\n",
              "  /* unfitted */\n",
              "  color: var(--sklearn-color-unfitted-level-1);\n",
              "  border: var(--sklearn-color-unfitted-level-1) 1pt solid;\n",
              "}\n",
              "\n",
              "#sk-container-id-2 a.estimator_doc_link.fitted {\n",
              "  /* fitted */\n",
              "  border: var(--sklearn-color-fitted-level-1) 1pt solid;\n",
              "  color: var(--sklearn-color-fitted-level-1);\n",
              "}\n",
              "\n",
              "/* On hover */\n",
              "#sk-container-id-2 a.estimator_doc_link:hover {\n",
              "  /* unfitted */\n",
              "  background-color: var(--sklearn-color-unfitted-level-3);\n",
              "  color: var(--sklearn-color-background);\n",
              "  text-decoration: none;\n",
              "}\n",
              "\n",
              "#sk-container-id-2 a.estimator_doc_link.fitted:hover {\n",
              "  /* fitted */\n",
              "  background-color: var(--sklearn-color-fitted-level-3);\n",
              "}\n",
              "</style><div id=\"sk-container-id-2\" class=\"sk-top-container\"><div class=\"sk-text-repr-fallback\"><pre>LogisticRegression()</pre><b>In a Jupyter environment, please rerun this cell to show the HTML representation or trust the notebook. <br />On GitHub, the HTML representation is unable to render, please try loading this page with nbviewer.org.</b></div><div class=\"sk-container\" hidden><div class=\"sk-item\"><div class=\"sk-estimator fitted sk-toggleable\"><input class=\"sk-toggleable__control sk-hidden--visually\" id=\"sk-estimator-id-2\" type=\"checkbox\" checked><label for=\"sk-estimator-id-2\" class=\"sk-toggleable__label fitted sk-toggleable__label-arrow\"><div><div>LogisticRegression</div></div><div><a class=\"sk-estimator-doc-link fitted\" rel=\"noreferrer\" target=\"_blank\" href=\"https://scikit-learn.org/1.6/modules/generated/sklearn.linear_model.LogisticRegression.html\">?<span>Documentation for LogisticRegression</span></a><span class=\"sk-estimator-doc-link fitted\">i<span>Fitted</span></span></div></label><div class=\"sk-toggleable__content fitted\"><pre>LogisticRegression()</pre></div> </div></div></div></div>"
            ]
          },
          "metadata": {},
          "execution_count": 58
        }
      ]
    },
    {
      "cell_type": "code",
      "source": [
        "\n",
        "y_pred = lr.predict(X_test)\n",
        "print(f'Accuracy={accuracy_score(y_test, y_pred):.4f}')"
      ],
      "metadata": {
        "colab": {
          "base_uri": "https://localhost:8080/"
        },
        "id": "tbeKd8gFgoUw",
        "outputId": "5a53bcad-cb5d-4399-875f-387ecf7ce003"
      },
      "execution_count": 59,
      "outputs": [
        {
          "output_type": "stream",
          "name": "stdout",
          "text": [
            "Accuracy=0.9817\n"
          ]
        }
      ]
    },
    {
      "cell_type": "code",
      "source": [
        "y_pred = lr.predict(X_test)\n",
        "print(classification_report(y_test, y_pred))\n",
        "\n",
        "# View coefficients\n",
        "coefficients = pd.Series(lr.coef_[0], index=df_encoded.columns)\n",
        "print(\"\\nLogistic Regression Coefficients:\")\n",
        "print(coefficients.sort_values(ascending=False))"
      ],
      "metadata": {
        "colab": {
          "base_uri": "https://localhost:8080/"
        },
        "id": "xJ6G3UvOEpea",
        "outputId": "9b852ef5-c715-4ffb-dc30-0192854e8cc5"
      },
      "execution_count": 60,
      "outputs": [
        {
          "output_type": "stream",
          "name": "stdout",
          "text": [
            "              precision    recall  f1-score   support\n",
            "\n",
            "        High       0.98      1.00      0.99       215\n",
            "         Low       0.00      0.00      0.00         4\n",
            "\n",
            "    accuracy                           0.98       219\n",
            "   macro avg       0.49      0.50      0.50       219\n",
            "weighted avg       0.96      0.98      0.97       219\n",
            "\n",
            "\n",
            "Logistic Regression Coefficients:\n",
            "Product_Spicy Special Slims     0.567404\n",
            "Product_Fruit & Nut Bars        0.551368\n",
            "Product_After Nines             0.500894\n",
            "Product_Drinking Coco           0.477023\n",
            "Boxes Shipped                   0.462451\n",
            "Product_Baker's Choco Chips     0.350730\n",
            "Country_New Zealand             0.310148\n",
            "Product_Manuka Honey Choco      0.295984\n",
            "Product_Peanut Butter Cubes     0.273642\n",
            "Country_India                   0.247791\n",
            "Product_Caramel Stuffed Bars    0.245437\n",
            "Product_99% Dark & Pure         0.230304\n",
            "Product_Orange Choco            0.198168\n",
            "Country_UK                      0.092585\n",
            "Country_Australia               0.006858\n",
            "Product_Choco Coated Almonds   -0.026805\n",
            "Country_USA                    -0.033036\n",
            "Product_70% Dark Bites         -0.094269\n",
            "Product_Almond Choco           -0.130502\n",
            "Product_85% Dark Bars          -0.169488\n",
            "Product_Milk Bars              -0.171962\n",
            "Product_50% Dark Bites         -0.190426\n",
            "Product_Organic Choco Syrup    -0.210987\n",
            "Product_Mint Chip Choco        -0.214432\n",
            "Product_Smooth Sliky Salty     -0.229364\n",
            "Country_Canada                 -0.683692\n",
            "Product_Raspberry Choco        -0.707716\n",
            "Product_White Choc             -0.801569\n",
            "Product_Eclairs                -0.802780\n",
            "dtype: float64\n"
          ]
        }
      ]
    },
    {
      "cell_type": "markdown",
      "source": [
        "22. Implement a Random Forest Classifier to predict \"High\" vs. \"Low\" revenue. How does\n",
        "the ensemble approach improve performance compared to a single Decision Tree? What\n",
        "is the importance of each feature (e.g., Boxes Shipped, Country) in the Random Forest\n",
        "model?\n",
        "\n",
        "  Ans: A Random Forest combines predictions from many decision trees, which helps reduce overfitting and improves generalization compared to a single tree.\n",
        "\n",
        "  The feature importance score of 0.642878 means that Boxes Shipped accounts for about 64% of the decision-making across all trees in the Random Forest.This indicates it is by far the most influential feature in predicting whether a transaction results in high or low revenue."
      ],
      "metadata": {
        "id": "wYBvcr1IHVRj"
      }
    },
    {
      "cell_type": "code",
      "source": [
        "from sklearn.ensemble import RandomForestClassifier\n",
        "\n",
        "rf = RandomForestClassifier(n_estimators=100, random_state=42)\n",
        "rf.fit(X_train, y_train)\n",
        "y_pred = rf.predict(X_test)\n",
        "print(f'Accuracy={accuracy_score(y_test, y_pred):.4f}')"
      ],
      "metadata": {
        "colab": {
          "base_uri": "https://localhost:8080/"
        },
        "id": "6csi6OMFg1j5",
        "outputId": "11ddb502-a019-4698-fa8d-65b09236f9a9"
      },
      "execution_count": 62,
      "outputs": [
        {
          "output_type": "stream",
          "name": "stdout",
          "text": [
            "Accuracy=0.9635\n"
          ]
        }
      ]
    },
    {
      "cell_type": "code",
      "source": [
        "print(classification_report(y_test, y_pred))\n",
        "\n",
        "# Feature Importances\n",
        "importances = pd.Series(rf.feature_importances_, index=df_encoded.columns).sort_values(ascending=False)\n",
        "print(\"\\nFeature Importances:\")\n",
        "print(importances)"
      ],
      "metadata": {
        "colab": {
          "base_uri": "https://localhost:8080/"
        },
        "id": "7dk0vFaJIDHm",
        "outputId": "a6450165-4bfc-4a4a-e193-28209ecb8bab"
      },
      "execution_count": 63,
      "outputs": [
        {
          "output_type": "stream",
          "name": "stdout",
          "text": [
            "              precision    recall  f1-score   support\n",
            "\n",
            "        High       0.98      0.98      0.98       215\n",
            "         Low       0.00      0.00      0.00         4\n",
            "\n",
            "    accuracy                           0.96       219\n",
            "   macro avg       0.49      0.49      0.49       219\n",
            "weighted avg       0.96      0.96      0.96       219\n",
            "\n",
            "\n",
            "Feature Importances:\n",
            "Boxes Shipped                   0.642878\n",
            "Country_India                   0.035251\n",
            "Country_USA                     0.033623\n",
            "Country_Australia               0.028494\n",
            "Country_UK                      0.026544\n",
            "Country_New Zealand             0.026127\n",
            "Product_Fruit & Nut Bars        0.015996\n",
            "Product_Drinking Coco           0.015439\n",
            "Country_Canada                  0.015115\n",
            "Product_Spicy Special Slims     0.014906\n",
            "Product_After Nines             0.013940\n",
            "Product_Peanut Butter Cubes     0.013536\n",
            "Product_Orange Choco            0.011726\n",
            "Product_Milk Bars               0.011062\n",
            "Product_Manuka Honey Choco      0.009897\n",
            "Product_70% Dark Bites          0.008475\n",
            "Product_Smooth Sliky Salty      0.008328\n",
            "Product_99% Dark & Pure         0.008028\n",
            "Product_Baker's Choco Chips     0.007802\n",
            "Product_50% Dark Bites          0.007576\n",
            "Product_85% Dark Bars           0.007400\n",
            "Product_Choco Coated Almonds    0.007159\n",
            "Product_Almond Choco            0.006567\n",
            "Product_Caramel Stuffed Bars    0.006431\n",
            "Product_Mint Chip Choco         0.005846\n",
            "Product_Organic Choco Syrup     0.004327\n",
            "Product_White Choc              0.003106\n",
            "Product_Eclairs                 0.002962\n",
            "Product_Raspberry Choco         0.001460\n",
            "dtype: float64\n"
          ]
        }
      ]
    },
    {
      "cell_type": "markdown",
      "source": [
        "23. Compare the performance of KNN, Decision Tree, Logistic Regression, and Random\n",
        "Forest models using accuracy, precision, and recall. Which model performs best for this\n",
        "classification task, and why?\n",
        "\n",
        "  Ans: KNN and Logistic Regression are the top performers, with identical metrics across accuracy, precision, and recall.If interpretability and training speed matter, Logistic Regression is often preferred; but if raw prediction performance is the goal, either model works equally well here.\n"
      ],
      "metadata": {
        "id": "AZw1kDCMIqKT"
      }
    },
    {
      "cell_type": "code",
      "source": [
        "from sklearn.metrics import accuracy_score, precision_score, recall_score\n",
        "\n",
        "models = {\n",
        "    \"KNN\": KNeighborsClassifier(n_neighbors=5),\n",
        "    \"Decision Tree\": DecisionTreeClassifier(random_state=42),\n",
        "    \"Logistic Regression\": LogisticRegression(),\n",
        "    \"Random Forest\": RandomForestClassifier(random_state=42)\n",
        "}\n",
        "\n",
        "for name, model in models.items():\n",
        "    model.fit(X_train, y_train)\n",
        "    y_pred = model.predict(X_test)\n",
        "    print(f\"{name}:\")\n",
        "    print(f\"  Accuracy: {accuracy_score(y_test, y_pred):.4f}\")\n",
        "    print(f\"  Precision: {precision_score(y_test, y_pred, pos_label='High'):.4f}\")\n",
        "    print(f\"  Recall: {recall_score(y_test, y_pred, pos_label='High'):.4f}\")\n"
      ],
      "metadata": {
        "colab": {
          "base_uri": "https://localhost:8080/"
        },
        "id": "mU5qC-owhVsY",
        "outputId": "61664d58-fd9f-43f3-d6a8-313ae56ec0c5"
      },
      "execution_count": 64,
      "outputs": [
        {
          "output_type": "stream",
          "name": "stdout",
          "text": [
            "KNN:\n",
            "  Accuracy: 0.9817\n",
            "  Precision: 0.9817\n",
            "  Recall: 1.0000\n",
            "Decision Tree:\n",
            "  Accuracy: 0.9361\n",
            "  Precision: 0.9809\n",
            "  Recall: 0.9535\n",
            "Logistic Regression:\n",
            "  Accuracy: 0.9817\n",
            "  Precision: 0.9817\n",
            "  Recall: 1.0000\n",
            "Random Forest:\n",
            "  Accuracy: 0.9635\n",
            "  Precision: 0.9814\n",
            "  Recall: 0.9814\n"
          ]
        }
      ]
    },
    {
      "cell_type": "markdown",
      "source": [
        "24. Tune the Random Forest model by adjusting hyperparameters (e.g., number of trees,\n",
        "maximum depth). How do these changes affect the model’s performance?\n",
        "\n",
        "  Ans: The tuned Random Forest model performs exceptionally well, especially for identifying \"High\" revenue transactions.\n",
        "With perfect recall and very high precision, it's both reliable and comprehensive in detecting high-revenue outcomes."
      ],
      "metadata": {
        "id": "ng9fJbYxJoHV"
      }
    },
    {
      "cell_type": "code",
      "source": [
        "from sklearn.model_selection import GridSearchCV\n",
        "\n",
        "param_grid = {\n",
        "    'n_estimators': [50, 100, 150],\n",
        "    'max_depth': [None, 5, 10],\n",
        "    'min_samples_split': [2, 5]\n",
        "}\n",
        "\n",
        "grid_search = GridSearchCV(RandomForestClassifier(random_state=42), param_grid, cv=5)\n",
        "grid_search.fit(X_train, y_train)\n",
        "print(\"Best Parameters:\", grid_search.best_params_)\n"
      ],
      "metadata": {
        "colab": {
          "base_uri": "https://localhost:8080/"
        },
        "id": "DDgF-6Vzhs-A",
        "outputId": "b6754c83-157f-47c1-df20-955dc744903f"
      },
      "execution_count": 65,
      "outputs": [
        {
          "output_type": "stream",
          "name": "stdout",
          "text": [
            "Best Parameters: {'max_depth': None, 'min_samples_split': 5, 'n_estimators': 50}\n"
          ]
        }
      ]
    },
    {
      "cell_type": "code",
      "source": [
        "# Get the best model from grid search\n",
        "best_rf = grid_search.best_estimator_\n",
        "\n",
        "# Predict on the test set\n",
        "y_pred = best_rf.predict(X_test)\n",
        "\n",
        "# Evaluate\n",
        "print(\"Accuracy:\", accuracy_score(y_test, y_pred))\n",
        "print(\"\\nClassification Report:\")\n",
        "print(classification_report(y_test, y_pred))"
      ],
      "metadata": {
        "colab": {
          "base_uri": "https://localhost:8080/"
        },
        "id": "5tbUkLJ4J4wk",
        "outputId": "731be333-582d-4e8f-ffc4-29124e36d501"
      },
      "execution_count": 67,
      "outputs": [
        {
          "output_type": "stream",
          "name": "stdout",
          "text": [
            "Accuracy: 0.9817351598173516\n",
            "\n",
            "Classification Report:\n",
            "              precision    recall  f1-score   support\n",
            "\n",
            "        High       0.98      1.00      0.99       215\n",
            "         Low       0.00      0.00      0.00         4\n",
            "\n",
            "    accuracy                           0.98       219\n",
            "   macro avg       0.49      0.50      0.50       219\n",
            "weighted avg       0.96      0.98      0.97       219\n",
            "\n"
          ]
        }
      ]
    },
    {
      "cell_type": "markdown",
      "source": [
        "25. Can you use the dataset to cluster sales transactions into groups (e.g., using K-Means)\n",
        "instead of classification? What features would you use, and how might the clusters help\n",
        "the business?\n",
        "\n",
        "  Ans: Cluster 2 may represent a high-volume or frequent buyer segment, and understanding what makes this group unique (e.g., preferred products, average shipment sizes) can help the business target promotions, stock accordingly, or optimize pricing."
      ],
      "metadata": {
        "id": "W9wD5x0zODNu"
      }
    },
    {
      "cell_type": "code",
      "source": [
        "from sklearn.cluster import KMeans\n",
        "# Elbow method to find optimal k\n",
        "inertia = []\n",
        "k_range = range(1, 10)\n",
        "for k in k_range:\n",
        "    km = KMeans(n_clusters=k, random_state=42)\n",
        "    km.fit(df_encoded)\n",
        "    inertia.append(km.inertia_)\n",
        "\n",
        "# Plot elbow curve\n",
        "plt.plot(k_range, inertia, marker='o')\n",
        "plt.title('Elbow Method for Optimal k')\n",
        "plt.xlabel('Number of Clusters (k)')\n",
        "plt.ylabel('Inertia')\n",
        "plt.grid(True)\n",
        "plt.show()\n",
        "\n",
        "# Let's say you choose k=3 after elbow plot\n",
        "kmeans = KMeans(n_clusters=3, random_state=42)\n",
        "df_encoded['Cluster'] = kmeans.fit_predict(df_encoded)\n",
        "\n",
        "# Optional: attach cluster labels back to original data\n",
        "choc_sales_clustered = choc_sales.copy()\n",
        "choc_sales_clustered['Cluster'] = df_encoded['Cluster']\n",
        "\n",
        "# Preview\n",
        "print(choc_sales_clustered[['Country', 'Product', 'Boxes Shipped', 'Cluster']].head())"
      ],
      "metadata": {
        "id": "0ly202Q4iqpQ",
        "colab": {
          "base_uri": "https://localhost:8080/",
          "height": 576
        },
        "outputId": "652051e0-b5ff-4d52-f111-504997ad8857"
      },
      "execution_count": 69,
      "outputs": [
        {
          "output_type": "display_data",
          "data": {
            "text/plain": [
              "<Figure size 640x480 with 1 Axes>"
            ],
            "image/png": "[encoded data removed]"
          },
          "metadata": {}
        },
        {
          "output_type": "stream",
          "name": "stdout",
          "text": [
            "     Country              Product  Boxes Shipped  Cluster\n",
            "0         UK      Mint Chip Choco            180        2\n",
            "1      India        85% Dark Bars             94        2\n",
            "2      India  Peanut Butter Cubes             91        2\n",
            "3  Australia  Peanut Butter Cubes            342        2\n",
            "4         UK  Peanut Butter Cubes            184        2\n"
          ]
        }
      ]
    },
    {
      "cell_type": "markdown",
      "source": [
        " **Business Insights: Overall Findings & Actionable Recommendations**\n",
        "1. \"Boxes Shipped\" is a key revenue driver\n",
        "From Logistic Regression and Random Forest, although it showed less correlation with the revenue at first but we saw that Boxes Shipped had the strongest influence on whether a transaction results in \"High\" revenue.\n",
        "\n",
        " **Action:** The company needs to focus on increasing shipment size through bulk offers, tiered pricing, or free shipping thresholds.\n",
        "\n",
        "2. KNN and Logistic Regression and tuned Random Forest gave near-perfect performance\n",
        "These models achieved ~98% accuracy and 100% recall for \"High\" revenue.\n",
        "\n",
        "  **Action:** The company may use these models in a real-time dashboard to predict high-value orders and prioritize them for faster processing, or upselling.\n",
        "\n",
        "\n",
        "3. Decision Tree is interpretable, but less accurate\n",
        "While easy to explain, it was slightly less accurate than the ensemble models.\n",
        "\n",
        " **Action:** We can avoid using DT or use it for explainability in internal reporting or for training non-technical staff to understand how decisions are made.\n",
        "\n",
        "5. K-Means clustering can be used by\n",
        "clustering grouped transactions into high-volume, region-specific, or product-focused clusters.\n",
        "\n",
        "  **Action:** The company can use these clusters to customize marketing, adjust stock levels, and identify loyal vs. casual buyers."
      ],
      "metadata": {
        "id": "Y2XyrCTJO9NW"
      }
    },
    {
      "cell_type": "code",
      "source": [
        "\n"
      ],
      "metadata": {
        "colab": {
          "base_uri": "https://localhost:8080/",
          "height": 74
        },
        "id": "9xlP2mgOSNm0",
        "outputId": "35f0f914-faef-4206-8c51-c2b05136053b"
      },
      "execution_count": 70,
      "outputs": [
        {
          "output_type": "execute_result",
          "data": {
            "text/plain": [
              "<IPython.core.display.HTML object>"
            ],
            "text/html": [
              "<h1 style='text-align: center;'>The End</h1>"
            ]
          },
          "metadata": {},
          "execution_count": 70
        }
      ]
    }
  ],
  "metadata": {
    "colab": {
      "provenance": []
    },
    "kernelspec": {
      "display_name": "Python 3",
      "name": "python3"
    },
    "language_info": {
      "name": "python"
    }
  },
  "nbformat": 4,
  "nbformat_minor": 0
}